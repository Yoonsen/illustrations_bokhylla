{
 "cells": [
  {
   "cell_type": "markdown",
   "metadata": {},
   "source": [
    "bilder\n",
    "\n",
    "Audun: stempelgjenkjenning\n",
    "\n",
    "Aina: på tvers av medier, tidsskrifter\n",
    "\n",
    "Harald: strengt grafiske egenskaper\n",
    "* betydning av bilder\n",
    "\n",
    "Jens Petter: relevante søk\n",
    "\n",
    "\n",
    "Bente: Skillingsmagasinet/avgrense materialet\n",
    "* Deutsche akademi\n",
    "\n",
    "Gunnar Ingebrigtsen: utsnitt og bilde\n",
    "* Trekk ved bilder\n",
    "\n",
    "\n",
    "Harald: indeksere - bildeinnhold\n"
   ]
  },
  {
   "cell_type": "code",
   "execution_count": null,
   "metadata": {},
   "outputs": [],
   "source": []
  }
 ],
 "metadata": {
  "kernelspec": {
   "display_name": "Python 3",
   "language": "python",
   "name": "python3"
  },
  "language_info": {
   "codemirror_mode": {
    "name": "ipython",
    "version": 3
   },
   "file_extension": ".py",
   "mimetype": "text/x-python",
   "name": "python",
   "nbconvert_exporter": "python",
   "pygments_lexer": "ipython3",
   "version": "3.7.3"
  }
 },
 "nbformat": 4,
 "nbformat_minor": 2
}
