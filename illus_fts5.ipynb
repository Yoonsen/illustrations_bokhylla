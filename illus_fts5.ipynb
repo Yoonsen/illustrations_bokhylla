{
 "cells": [
  {
   "cell_type": "markdown",
   "id": "9dfd4cd0-ca68-49df-8a43-5d33de533fac",
   "metadata": {},
   "source": [
    "# Illustrations\n",
    "\n",
    "Access illustrations using the text surrounding them."
   ]
  },
  {
   "cell_type": "code",
   "execution_count": 6,
   "id": "2a581ee5-8041-40a4-bdb3-855732cbf83e",
   "metadata": {},
   "outputs": [],
   "source": [
    "import dhlab.module_update as mu\n",
    "#mu.update(\"nbpictures\", silent = True)\n",
    "from nbpictures import iiif_manifest, display_finds, get_urls_from_illustration_data, get_illustration_data_from_book\n",
    "from IPython.display import HTML, Markdown, display\n",
    "import streamlit as st\n",
    "from PIL import Image\n",
    "\n",
    "import sqlite3\n",
    "import pandas as pd\n",
    "import os"
   ]
  },
  {
   "cell_type": "code",
   "execution_count": 10,
   "id": "85129d57-3d46-43da-9713-002b0f3b063b",
   "metadata": {},
   "outputs": [],
   "source": [
    "def query(db, sql, params=()):\n",
    "    with sqlite3.connect(db) as con:\n",
    "        res = con.execute(sql, params).fetchall()\n",
    "    return res\n",
    "\n",
    "def pdquery(db, sql, params=()):\n",
    "    with sqlite3.connect(db) as con:\n",
    "        res = pd.read_sql_query(sql, con, params=params)\n",
    "    return res"
   ]
  },
  {
   "cell_type": "code",
   "execution_count": 85,
   "id": "a113ca40-2b9d-4c7a-b3a9-310514cc69c3",
   "metadata": {},
   "outputs": [],
   "source": [
    "illustrations_db = \"/mnt/disk1/illustrations_bookshelf.db\"\n",
    "illustration_text = \"/mnt/disk1/illus_db\""
   ]
  },
  {
   "cell_type": "code",
   "execution_count": 8,
   "id": "704c5a58-1a67-4837-85b2-a17fccbc27e4",
   "metadata": {},
   "outputs": [
    {
     "data": {
      "text/plain": [
       "['/mnt/disk1/illus_db/illustrations_10000000_11000000_text.db',\n",
       " '/mnt/disk1/illus_db/illustrations_13000000_14000000_text.db',\n",
       " '/mnt/disk1/illus_db/illustrations_7000000_8000000_text.db',\n",
       " '/mnt/disk1/illus_db/illustrations_24000000_25000000_text.db',\n",
       " '/mnt/disk1/illus_db/illustrations_22000000_23000000_text.db']"
      ]
     },
     "execution_count": 8,
     "metadata": {},
     "output_type": "execute_result"
    }
   ],
   "source": [
    "r, d, f = next(os.walk(illustration_text))\n",
    "illus = [os.path.join(r, x) for x in f]\n",
    "illus[:5]"
   ]
  },
  {
   "cell_type": "code",
   "execution_count": 180,
   "id": "ae660c57-102b-4d92-92c1-45deaafbf47c",
   "metadata": {},
   "outputs": [],
   "source": [
    "pics = pd.concat([ pdquery(ill, \"select page, rank from pictures where text match 'NEAR(østgaard lund foto*, 3)' order by rank limit 20\") for ill in illus])                                                                                                      "
   ]
  },
  {
   "cell_type": "code",
   "execution_count": 181,
   "id": "2e2e92da-e123-4833-8b03-297533e4d432",
   "metadata": {},
   "outputs": [],
   "source": [
    "pictures = pics.sort_values(by=\"rank\").drop_duplicates().head(20)"
   ]
  },
  {
   "cell_type": "code",
   "execution_count": 182,
   "id": "31f1f52b-a586-4b7a-bcef-c0d306d090f7",
   "metadata": {},
   "outputs": [
    {
     "data": {
      "text/html": [
       "<div>\n",
       "<style scoped>\n",
       "    .dataframe tbody tr th:only-of-type {\n",
       "        vertical-align: middle;\n",
       "    }\n",
       "\n",
       "    .dataframe tbody tr th {\n",
       "        vertical-align: top;\n",
       "    }\n",
       "\n",
       "    .dataframe thead th {\n",
       "        text-align: right;\n",
       "    }\n",
       "</style>\n",
       "<table border=\"1\" class=\"dataframe\">\n",
       "  <thead>\n",
       "    <tr style=\"text-align: right;\">\n",
       "      <th></th>\n",
       "      <th>page</th>\n",
       "      <th>rank</th>\n",
       "    </tr>\n",
       "  </thead>\n",
       "  <tbody>\n",
       "    <tr>\n",
       "      <th>0</th>\n",
       "      <td>digibok_2016020907514_0169</td>\n",
       "      <td>-15.049544</td>\n",
       "    </tr>\n",
       "    <tr>\n",
       "      <th>2</th>\n",
       "      <td>digibok_2016020907514_0168</td>\n",
       "      <td>-14.303265</td>\n",
       "    </tr>\n",
       "  </tbody>\n",
       "</table>\n",
       "</div>"
      ],
      "text/plain": [
       "                         page       rank\n",
       "0  digibok_2016020907514_0169 -15.049544\n",
       "2  digibok_2016020907514_0168 -14.303265"
      ]
     },
     "execution_count": 182,
     "metadata": {},
     "output_type": "execute_result"
    }
   ],
   "source": [
    "pictures[:2]"
   ]
  },
  {
   "cell_type": "code",
   "execution_count": 183,
   "id": "0722cd74-2962-497f-b1c7-2184205aa6c5",
   "metadata": {},
   "outputs": [],
   "source": [
    "res = pdquery(illustrations_db, \"select * from illustrations where page = ?\", params = (pictures.iloc[0].page,))"
   ]
  },
  {
   "cell_type": "code",
   "execution_count": 184,
   "id": "d940ce4b-3f43-4e43-b1eb-49ce5972970c",
   "metadata": {},
   "outputs": [],
   "source": [
    "illustrations =[dict(i[1])for i in res.iterrows()]"
   ]
  },
  {
   "cell_type": "code",
   "execution_count": 185,
   "id": "69cbf502-df24-410c-87a6-c62b76808bd3",
   "metadata": {},
   "outputs": [
    {
     "data": {
      "text/plain": [
       "['https://www.nb.no/services/image/resolver/URN:NBN:no-nb_digibok_2016020907514_0169/344,965,316,428/full/0/native.jpg',\n",
       " 'https://www.nb.no/services/image/resolver/URN:NBN:no-nb_digibok_2016020907514_0169/1685,281,1023,1023/full/0/native.jpg']"
      ]
     },
     "execution_count": 185,
     "metadata": {},
     "output_type": "execute_result"
    }
   ],
   "source": [
    "[get_urls_from_illustration_data(i) for i in illustrations]"
   ]
  },
  {
   "cell_type": "code",
   "execution_count": null,
   "id": "f4d34adc-875c-4020-be7f-eb251cdfa49b",
   "metadata": {},
   "outputs": [],
   "source": []
  }
 ],
 "metadata": {
  "kernelspec": {
   "display_name": "Python 3 (ipykernel)",
   "language": "python",
   "name": "python3"
  },
  "language_info": {
   "codemirror_mode": {
    "name": "ipython",
    "version": 3
   },
   "file_extension": ".py",
   "mimetype": "text/x-python",
   "name": "python",
   "nbconvert_exporter": "python",
   "pygments_lexer": "ipython3",
   "version": "3.9.13"
  }
 },
 "nbformat": 4,
 "nbformat_minor": 5
}
