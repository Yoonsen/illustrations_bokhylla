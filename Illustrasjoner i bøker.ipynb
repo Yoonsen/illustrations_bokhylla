{
 "cells": [
  {
   "cell_type": "markdown",
   "metadata": {},
   "source": [
    "\n",
    "# Om å finne illustrasjoner i bøker fra NB digital\n",
    "\n",
    "Fra en oversikt over alle illustrasjoner i NB-digital (ca. 480 000 bøker) kan vi studere selve illustrasjonene. Hva som kan vises er avhengig av tilgangsnivå, og hvor vi er, på jobb på NB eller på privatmaskin. \n",
    "\n",
    "Det frie materialet kan nås fra hvor som helst, mens det som har restriksjoner også er begrenset innad i NB. For begrenset materiale er det kun mulig å få ut deler av en illustrasjon, men det er mulig å mekke det til så man får sett alt. Foreløpig er ikke det gjort. "
   ]
  },
  {
   "cell_type": "markdown",
   "metadata": {},
   "source": [
    "### Litt startkode"
   ]
  },
  {
   "cell_type": "code",
   "execution_count": 1,
   "metadata": {},
   "outputs": [
    {
     "ename": "ImportError",
     "evalue": "cannot import name 'show_illustrations_urn' from 'nbpictures' (C:\\Users\\larsj\\Documents\\GitHub\\illustrations_bokhylla\\nbpictures.py)",
     "output_type": "error",
     "traceback": [
      "\u001b[1;31m---------------------------------------------------------------------------\u001b[0m",
      "\u001b[1;31mImportError\u001b[0m                               Traceback (most recent call last)",
      "\u001b[1;32m<ipython-input-1-85daec354c4d>\u001b[0m in \u001b[0;36m<module>\u001b[1;34m\u001b[0m\n\u001b[0;32m      2\u001b[0m \u001b[1;32mimport\u001b[0m \u001b[0mdhlab\u001b[0m\u001b[1;33m.\u001b[0m\u001b[0mmodule_update\u001b[0m \u001b[1;32mas\u001b[0m \u001b[0mmu\u001b[0m\u001b[1;33m\u001b[0m\u001b[1;33m\u001b[0m\u001b[0m\n\u001b[0;32m      3\u001b[0m \u001b[0mmu\u001b[0m\u001b[1;33m.\u001b[0m\u001b[0mupdate\u001b[0m\u001b[1;33m(\u001b[0m\u001b[1;34m\"nbpictures\"\u001b[0m\u001b[1;33m,\u001b[0m \u001b[0msilent\u001b[0m \u001b[1;33m=\u001b[0m \u001b[1;32mTrue\u001b[0m\u001b[1;33m)\u001b[0m\u001b[1;33m\u001b[0m\u001b[1;33m\u001b[0m\u001b[0m\n\u001b[1;32m----> 4\u001b[1;33m \u001b[1;32mfrom\u001b[0m \u001b[0mnbpictures\u001b[0m \u001b[1;32mimport\u001b[0m \u001b[0mshow_illustrations_urn\u001b[0m\u001b[1;33m,\u001b[0m \u001b[0murns_from_super\u001b[0m\u001b[1;33m\u001b[0m\u001b[1;33m\u001b[0m\u001b[0m\n\u001b[0m\u001b[0;32m      5\u001b[0m \u001b[1;32mfrom\u001b[0m \u001b[0mIPython\u001b[0m\u001b[1;33m.\u001b[0m\u001b[0mdisplay\u001b[0m \u001b[1;32mimport\u001b[0m \u001b[0mHTML\u001b[0m\u001b[1;33m,\u001b[0m \u001b[0mMarkdown\u001b[0m\u001b[1;33m,\u001b[0m \u001b[0mdisplay\u001b[0m\u001b[1;33m\u001b[0m\u001b[1;33m\u001b[0m\u001b[0m\n",
      "\u001b[1;31mImportError\u001b[0m: cannot import name 'show_illustrations_urn' from 'nbpictures' (C:\\Users\\larsj\\Documents\\GitHub\\illustrations_bokhylla\\nbpictures.py)"
     ]
    }
   ],
   "source": [
    "import dhlab.nbtext as nb\n",
    "import dhlab.module_update as mu\n",
    "mu.update(\"nbpictures\", silent = True)\n",
    "from nbpictures import show_illustrations_urn, urns_from_super\n",
    "from IPython.display import HTML, Markdown, display"
   ]
  },
  {
   "cell_type": "code",
   "execution_count": null,
   "metadata": {},
   "outputs": [],
   "source": [
    "mu.css()"
   ]
  },
  {
   "cell_type": "markdown",
   "metadata": {},
   "source": [
    "### Hent ut noen URN-er, eller bruk URN-er funnet annet sted"
   ]
  },
  {
   "cell_type": "code",
   "execution_count": null,
   "metadata": {},
   "outputs": [],
   "source": [
    "urns = urns_from_super(\"naturen\", period=('18200101', '18900101'))"
   ]
  },
  {
   "cell_type": "markdown",
   "metadata": {},
   "source": [
    "### Bruk kommandoen `show_illustrations_urn(urn)` for å se på illustrasjonene\n",
    "\n",
    "Om URN-en er tilgjengelig for alle, påkalles kommandoen som `show_illustrations_urn(urn, 'fritt')` (husk anførselstegn rundt 'fritt'. Om noen bilder ikke vises, så bytt ut 'fritt' med 'lukket' eller 'begrenset' eller noe forskjellig fra 'fri'."
   ]
  },
  {
   "cell_type": "code",
   "execution_count": null,
   "metadata": {
    "scrolled": false
   },
   "outputs": [],
   "source": [
    "show_illustrations_urn(urns[3], 'fri')"
   ]
  },
  {
   "cell_type": "code",
   "execution_count": null,
   "metadata": {},
   "outputs": [],
   "source": []
  }
 ],
 "metadata": {
  "kernelspec": {
   "display_name": "Python 3",
   "language": "python",
   "name": "python3"
  },
  "language_info": {
   "codemirror_mode": {
    "name": "ipython",
    "version": 3
   },
   "file_extension": ".py",
   "mimetype": "text/x-python",
   "name": "python",
   "nbconvert_exporter": "python",
   "pygments_lexer": "ipython3",
   "version": "3.8.3"
  }
 },
 "nbformat": 4,
 "nbformat_minor": 4
}
