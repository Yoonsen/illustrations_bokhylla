{
 "cells": [
  {
   "cell_type": "code",
   "execution_count": 1,
   "metadata": {},
   "outputs": [],
   "source": [
    "import dhlab.module_update as mu\n",
    "mu.update(\"nbpictures\", silent = True)\n",
    "from nbpictures import show_illustrations_urn, urns_from_super\n",
    "from IPython.display import HTML, Markdown, display\n",
    "\n",
    "urns = urns_from_super(\"Churchill\", period=('19200101', '19900101'))\n",
    "\n",
    "show_illustrations_urn(\"digibok_2017081626006\", 'fri')"
   ]
  },
  {
   "cell_type": "code",
   "execution_count": null,
   "metadata": {},
   "outputs": [],
   "source": []
  }
 ],
 "metadata": {
  "kernelspec": {
   "display_name": "Python 3",
   "language": "python",
   "name": "python3"
  },
  "language_info": {
   "codemirror_mode": {
    "name": "ipython",
    "version": 3
   },
   "file_extension": ".py",
   "mimetype": "text/x-python",
   "name": "python",
   "nbconvert_exporter": "python",
   "pygments_lexer": "ipython3",
   "version": "3.6.10"
  }
 },
 "nbformat": 4,
 "nbformat_minor": 4
}
