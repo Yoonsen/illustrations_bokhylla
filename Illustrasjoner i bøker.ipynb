{
 "cells": [
  {
   "cell_type": "markdown",
   "metadata": {},
   "source": [
    "\n",
    "# Om å finne illustrasjoner i bøker fra NB digital\n",
    "\n",
    "Fra en oversikt over alle illustrasjoner i NB-digital (ca. 480 000 bøker) kan vi studere selve illustrasjonene. Hva som kan vises er avhengig av tilgangsnivå, og hvor vi er, på jobb på NB eller på privatmaskin. \n",
    "\n",
    "Det frie materialet kan nås fra hvor som helst, mens det som har restriksjoner også er begrenset innad i NB. For begrenset materiale er det kun mulig å få ut deler av en illustrasjon, men det er mulig å mekke det til så man får sett alt. Foreløpig er ikke det gjort. "
   ]
  },
  {
   "cell_type": "markdown",
   "metadata": {},
   "source": [
    "### Litt startkode"
   ]
  },
  {
   "cell_type": "code",
   "execution_count": 1,
   "metadata": {},
   "outputs": [],
   "source": [
    "import dhlab.module_update as mu\n",
    "mu.update(\"nbpictures\", silent = True)\n",
    "from nbpictures import show_illustrations_urn, urns_from_super\n",
    "from IPython.display import HTML, Markdown, display"
   ]
  },
  {
   "cell_type": "code",
   "execution_count": 2,
   "metadata": {},
   "outputs": [
    {
     "data": {
      "text/html": [
       "<style>@import url(\n",
       "http://fonts.googleapis.com/css?family=Lato|Philosopher|Montserrat|Source+Code+Pro|Istok+Web|Philosopher|Assistant:200,400,700);\n",
       "\n",
       "/*\n",
       "#notebook-container {\n",
       "\t-webkit-box-shadow: none;\n",
       "\tbox-shadow: none;\n",
       "}\n",
       "*/\n",
       "\n",
       "h1, h2, h3, h4, h5, h6 {\n",
       "\tfont-family: 'Montserrat', sans-serif;\n",
       "\tline-height: 2em;\n",
       "    color: #004f99;\n",
       "    font-weight: 600;\n",
       "}\n",
       "\n",
       "h1 { font-size: 4.5em; }\n",
       "h2 { font-size: 4em; }\n",
       "h3 { font-size: 3.5em; }\n",
       "h4 { font-size: 3em; }\n",
       "h5 { font-size: 2.5em; color:DarkSlateGray; }\n",
       "h6 { font-size: 2em; }\n",
       "\n",
       "p {\n",
       "\tfont-family: 'Assistant', sans-serif; \n",
       "\tfont-size: 1.2em;\n",
       "\tline-height: 1.4em;\n",
       "\tcolor: black;\n",
       "}\n",
       "p code {\n",
       "\tfont-size:0.9em;\n",
       "}\n",
       "div.input_area {\n",
       "\tborder:none !important;\n",
       "\tborder-left:1px solid #ff851b !important\n",
       "}\n",
       "\n",
       "span.cm-keyword {\n",
       "\tcolor:#339966 !important;\n",
       "}\n",
       "span.nn {  /*span.cm-variable, span.cm-property*/\n",
       "\tcolor: #3399ff !important;\n",
       "}\n",
       "div.CodeMirror {\n",
       "\tfont-family: 'Inconsolata', monospace;\n",
       "\tfont-size: 1.1em;\n",
       "\t\n",
       "}\n",
       "</style>"
      ],
      "text/plain": [
       "<IPython.core.display.HTML object>"
      ]
     },
     "execution_count": 2,
     "metadata": {},
     "output_type": "execute_result"
    }
   ],
   "source": [
    "mu.css()"
   ]
  },
  {
   "cell_type": "markdown",
   "metadata": {},
   "source": [
    "### Hent ut noen URN-er, eller bruk URN-er funnet annet sted"
   ]
  },
  {
   "cell_type": "code",
   "execution_count": 3,
   "metadata": {},
   "outputs": [],
   "source": [
    "urns = urns_from_super(\"naturen\", period=('18200101', '18900101'))"
   ]
  },
  {
   "cell_type": "markdown",
   "metadata": {},
   "source": [
    "### Bruk kommandoen `show_illustrations_urn(urn)` for å se på illustrasjonene\n",
    "\n",
    "Om URN-en er tilgjengelig for alle, påkalles kommandoen som `show_illustrations_urn(urn, \"fritt\")` (merk bruk av anførselstegn). Om noen bilder ikke vises, så bytt ut \"fritt\" med \"lukket\" eller \"begrenset\" eller noe forskjellig fra \"fritt\". For `urn` settes inn en eller annen URN, funnet på nb.no, eller fra listen av urner, de som ligger i `urns`, i så fall, indiker hvilken med et nummer `urns[0]` eller `urns[1]` osv."
   ]
  },
  {
   "cell_type": "code",
   "execution_count": 11,
   "metadata": {
    "scrolled": false
   },
   "outputs": [
    {
     "data": {
      "text/markdown": [
       "**Tilgang**: Tilgang for alle\n",
       "**Tittel**: Poesien i religionens tjeneste\n",
       "**Forfatter**: Gude-Smith, J.\n",
       "**Publisert**: Throndhjem:Brækstad  Co., 1871\n",
       "**Andre opplysninger**: Elektronisk reproduksjon [Norge] Nasjonalbiblioteket Digital 2013-10-09\n",
       "\n",
       "**Språk**: Norsk (Bokmål)\n",
       "**Kilde for metadata**: nb.bibsys.no (<a title=\"Link til post i Oria\" href=\"https://www.oria.no/?vid=NB&search=990007729254702202\">990007729254702202</a>)\n",
       "**Omfang**: 3 bl., 73 s.\n",
       "**Medietype**: bøker\n",
       "**Varig lenke**: <a href=\"https://urn.nb.no/URN:NBN:no-nb_digibok_2013081908068\" target=\"_blank\">https://urn.nb.no/URN:NBN:no-nb_digibok_2013081908068</a>\n",
       "****: <a href=\"https://www.nb.no/items/8121129bba4d63d056e1f10d044917aa?manifest=https://api.nb.no/catalog/v1/iiif/8121129bba4d63d056e1f10d044917aa/manifest\" target=\"_blank\"><img src=\"https://www.nb.no/content/uploads/2018/08/logo-iiif.png\" alt=\"IIIF Drag-n-drop\"></a>"
      ],
      "text/plain": [
       "<IPython.core.display.Markdown object>"
      ]
     },
     "metadata": {},
     "output_type": "display_data"
    },
    {
     "data": {
      "text/html": [
       "<html><head></head>\n",
       "     <body>\n",
       "     <table>\n",
       "     <tr><td><img src='https://www.nb.no/services/image/resolver/URN:NBN:no-nb_digibok_2013081908068_0004/14,0,1253,2023/full/0/native.jpg'</td></tr> <tr><td><img src='https://www.nb.no/services/image/resolver/URN:NBN:no-nb_digibok_2013081908068_0005/37,0,1162,706/full/0/native.jpg'</td></tr> <tr><td><img src='https://www.nb.no/services/image/resolver/URN:NBN:no-nb_digibok_2013081908068_0005/507,1194,742,402/full/0/native.jpg'</td></tr> <tr><td><img src='https://www.nb.no/services/image/resolver/URN:NBN:no-nb_digibok_2013081908068_0007/63,1592,1117,438/full/0/native.jpg'</td></tr> <tr><td><img src='https://www.nb.no/services/image/resolver/URN:NBN:no-nb_digibok_2013081908068_0009/56,1214,1161,796/full/0/native.jpg'</td></tr> <tr><td><img src='https://www.nb.no/services/image/resolver/URN:NBN:no-nb_digibok_2013081908068_0011/364,161,566,345/full/0/native.jpg'</td></tr> <tr><td><img src='https://www.nb.no/services/image/resolver/URN:NBN:no-nb_digibok_2013081908068_0033/35,1847,931,138/full/0/native.jpg'</td></tr> <tr><td><img src='https://www.nb.no/services/image/resolver/URN:NBN:no-nb_digibok_2013081908068_0046/50,43,1224,1803/full/0/native.jpg'</td></tr> <tr><td><img src='https://www.nb.no/services/image/resolver/URN:NBN:no-nb_digibok_2013081908068_0049/73,1882,1150,103/full/0/native.jpg'</td></tr> <tr><td><img src='https://www.nb.no/services/image/resolver/URN:NBN:no-nb_digibok_2013081908068_0050/1139,988,122,706/full/0/native.jpg'</td></tr> <tr><td><img src='https://www.nb.no/services/image/resolver/URN:NBN:no-nb_digibok_2013081908068_0053/47,60,866,585/full/0/native.jpg'</td></tr> <tr><td><img src='https://www.nb.no/services/image/resolver/URN:NBN:no-nb_digibok_2013081908068_0053/916,56,295,910/full/0/native.jpg'</td></tr> <tr><td><img src='https://www.nb.no/services/image/resolver/URN:NBN:no-nb_digibok_2013081908068_0057/27,1970,1048,145/full/0/native.jpg'</td></tr> <tr><td><img src='https://www.nb.no/services/image/resolver/URN:NBN:no-nb_digibok_2013081908068_0059/40,1968,774,146/full/0/native.jpg'</td></tr> <tr><td><img src='https://www.nb.no/services/image/resolver/URN:NBN:no-nb_digibok_2013081908068_0059/459,1552,578,338/full/0/native.jpg'</td></tr> <tr><td><img src='https://www.nb.no/services/image/resolver/URN:NBN:no-nb_digibok_2013081908068_0061/154,1968,854,142/full/0/native.jpg'</td></tr> <tr><td><img src='https://www.nb.no/services/image/resolver/URN:NBN:no-nb_digibok_2013081908068_0063/125,1972,752,136/full/0/native.jpg'</td></tr> <tr><td><img src='https://www.nb.no/services/image/resolver/URN:NBN:no-nb_digibok_2013081908068_0064/230,1972,650,145/full/0/native.jpg'</td></tr> <tr><td><img src='https://www.nb.no/services/image/resolver/URN:NBN:no-nb_digibok_2013081908068_0065/97,1837,801,266/full/0/native.jpg'</td></tr> <tr><td><img src='https://www.nb.no/services/image/resolver/URN:NBN:no-nb_digibok_2013081908068_0066/27,441,125,401/full/0/native.jpg'</td></tr> <tr><td><img src='https://www.nb.no/services/image/resolver/URN:NBN:no-nb_digibok_2013081908068_0068/119,96,173,732/full/0/native.jpg'</td></tr> <tr><td><img src='https://www.nb.no/services/image/resolver/URN:NBN:no-nb_digibok_2013081908068_0071/1070,135,147,410/full/0/native.jpg'</td></tr> <tr><td><img src='https://www.nb.no/services/image/resolver/URN:NBN:no-nb_digibok_2013081908068_0071/63,715,1164,1391/full/0/native.jpg'</td></tr> <tr><td><img src='https://www.nb.no/services/image/resolver/URN:NBN:no-nb_digibok_2013081908068_0075/83,1965,400,136/full/0/native.jpg'</td></tr> <tr><td><img src='https://www.nb.no/services/image/resolver/URN:NBN:no-nb_digibok_2013081908068_0076/497,1970,413,139/full/0/native.jpg'</td></tr> <tr><td><img src='https://www.nb.no/services/image/resolver/URN:NBN:no-nb_digibok_2013081908068_0077/99,1795,401,301/full/0/native.jpg'</td></tr> <tr><td><img src='https://www.nb.no/services/image/resolver/URN:NBN:no-nb_digibok_2013081908068_0078/549,1970,352,139/full/0/native.jpg'</td></tr> <tr><td><img src='https://www.nb.no/services/image/resolver/URN:NBN:no-nb_digibok_2013081908068_0080/603,1968,650,138/full/0/native.jpg'</td></tr> <tr><td><img src='https://www.nb.no/services/image/resolver/URN:NBN:no-nb_digibok_2013081908068_0081/0,1432,1151,740/full/0/native.jpg'</td></tr> <tr><td><img src='https://www.nb.no/services/image/resolver/URN:NBN:no-nb_digibok_2013081908068_0082/1141,592,110,155/full/0/native.jpg'</td></tr> <tr><td><img src='https://www.nb.no/services/image/resolver/URN:NBN:no-nb_digibok_2013081908068_0083/44,631,1273,1525/full/0/native.jpg'</td></tr>\n",
       "     </table>\n",
       "     </body>\n",
       "     </html>\n",
       "     "
      ],
      "text/plain": [
       "<IPython.core.display.HTML object>"
      ]
     },
     "execution_count": 11,
     "metadata": {},
     "output_type": "execute_result"
    }
   ],
   "source": [
    "show_illustrations_urn(urns[10], 'fri')"
   ]
  },
  {
   "cell_type": "code",
   "execution_count": null,
   "metadata": {},
   "outputs": [],
   "source": []
  }
 ],
 "metadata": {
  "kernelspec": {
   "display_name": "Python 3",
   "language": "python",
   "name": "python3"
  },
  "language_info": {
   "codemirror_mode": {
    "name": "ipython",
    "version": 3
   },
   "file_extension": ".py",
   "mimetype": "text/x-python",
   "name": "python",
   "nbconvert_exporter": "python",
   "pygments_lexer": "ipython3",
   "version": "3.8.3"
  }
 },
 "nbformat": 4,
 "nbformat_minor": 4
}
