{
 "cells": [
  {
   "cell_type": "markdown",
   "metadata": {},
   "source": [
    "\n",
    "# Om å finne illustrasjoner i bøker fra NB digital\n",
    "\n",
    "Fra en oversikt over alle illustrasjoner i NB-digital (ca. 480 000 bøker) kan vi studere selve illustrasjonene. Hva vi kan se er avhengig av tilgangsnivå, og hvor vi er. Det frie materialet kan nås fra hvor som helst, mens det som har restriksjoner også er begrenset innad i NB. For begrenset materiale er det kun mulig å få ut deler av en illustrasjon, men det er mulig å mekke det til så man får sett alt. Foreløpig er ikke det gjort. "
   ]
  },
  {
   "cell_type": "markdown",
   "metadata": {},
   "source": [
    "### Litt startkode"
   ]
  },
  {
   "cell_type": "code",
   "execution_count": 1,
   "metadata": {},
   "outputs": [],
   "source": [
    "import dhlab.nbtext as nb\n",
    "import dhlab.module_update as mu\n",
    "mu.update(\"nbpictures\", silent = True)\n",
    "import nbpictures as pic"
   ]
  },
  {
   "cell_type": "code",
   "execution_count": 2,
   "metadata": {},
   "outputs": [
    {
     "data": {
      "text/html": [
       "<style>@import url(\n",
       "http://fonts.googleapis.com/css?family=Lato|Philosopher|Montserrat|Source+Code+Pro|Istok+Web|Philosopher|Assistant:200,400,700);\n",
       "\n",
       "/*\n",
       "#notebook-container {\n",
       "\t-webkit-box-shadow: none;\n",
       "\tbox-shadow: none;\n",
       "}\n",
       "*/\n",
       "\n",
       "h1, h2, h3, h4, h5, h6 {\n",
       "\tfont-family: 'Montserrat', sans-serif;\n",
       "\tline-height: 2em;\n",
       "    color: #004f99;\n",
       "    font-weight: 600;\n",
       "}\n",
       "\n",
       "h1 { font-size: 4.5em; }\n",
       "h2 { font-size: 4em; }\n",
       "h3 { font-size: 3.5em; }\n",
       "h4 { font-size: 3em; }\n",
       "h5 { font-size: 2.5em; color:DarkSlateGray; }\n",
       "h6 { font-size: 2em; }\n",
       "\n",
       "p {\n",
       "\tfont-family: 'Assistant', sans-serif; \n",
       "\tfont-size: 1.2em;\n",
       "\tline-height: 1.4em;\n",
       "\tcolor: black;\n",
       "}\n",
       "p code {\n",
       "\tfont-size:0.9em;\n",
       "}\n",
       "div.input_area {\n",
       "\tborder:none !important;\n",
       "\tborder-left:1px solid #ff851b !important\n",
       "}\n",
       "\n",
       "span.cm-keyword {\n",
       "\tcolor:#339966 !important;\n",
       "}\n",
       "span.nn {  /*span.cm-variable, span.cm-property*/\n",
       "\tcolor: #3399ff !important;\n",
       "}\n",
       "div.CodeMirror {\n",
       "\tfont-family: 'Inconsolata', monospace;\n",
       "\tfont-size: 1.1em;\n",
       "\t\n",
       "}\n",
       "</style>"
      ],
      "text/plain": [
       "<IPython.core.display.HTML object>"
      ]
     },
     "execution_count": 2,
     "metadata": {},
     "output_type": "execute_result"
    }
   ],
   "source": [
    "mu.css()"
   ]
  },
  {
   "cell_type": "markdown",
   "metadata": {},
   "source": [
    "### en liten hjelpekommando\n",
    "\n",
    "Husk å aktivere"
   ]
  },
  {
   "cell_type": "code",
   "execution_count": 20,
   "metadata": {},
   "outputs": [],
   "source": [
    "def visbilder(urn, tilgjengelig = 'fritt'):\n",
    "    if tilgjengelig.lower().startswith('fri'):\n",
    "        c = False\n",
    "    else:\n",
    "        c = True\n",
    "    return pic.display_finds(\n",
    "    [\n",
    "        pic.get_urls_from_illustration_data(u, cuts = c) for u in \n",
    "        pic.get_illustration_data_from_book(urn)\n",
    "    ]\n",
    ")"
   ]
  },
  {
   "cell_type": "markdown",
   "metadata": {},
   "source": [
    "### Hent ut noen URN-er, eller bruk URN-er funnet annet sted"
   ]
  },
  {
   "cell_type": "code",
   "execution_count": 25,
   "metadata": {},
   "outputs": [],
   "source": [
    "urns = pic.urns_from_super(\"Knerten\")"
   ]
  },
  {
   "cell_type": "markdown",
   "metadata": {},
   "source": [
    "### Se på metadata med iiif"
   ]
  },
  {
   "cell_type": "code",
   "execution_count": 26,
   "metadata": {},
   "outputs": [
    {
     "data": {
      "text/plain": [
       "[{'label': 'Tilgang',\n",
       "  'value': \"Tilgjengelig etter bestemte vilkår (<a href='https://www.nb.no/hjelp-og-informasjon/rettigheter/'>Les om tilgangsvilkår</a>)\"},\n",
       " {'label': 'Tittel', 'value': 'Knerten flytter'},\n",
       " {'label': 'Forfatter', 'value': 'Vestly, Anne-Cath.'},\n",
       " {'label': 'Illustratør', 'value': 'Samuelsen, Svein | Vestly, Johan'},\n",
       " {'label': 'Publisert', 'value': '[Oslo]:Gyldendal, 2010'},\n",
       " {'label': 'Emne', 'value': 'barnebøker | flytting | dagligliv'},\n",
       " {'label': 'Andre opplysninger',\n",
       "  'value': '1. utg. Oslo : Tiden, 1965 med tittel: Knerten i Bessby\\n'},\n",
       " {'label': 'Språk', 'value': 'Norsk (Bokmål)'},\n",
       " {'label': 'ISBN', 'value': '9788205389335'},\n",
       " {'label': 'Kilde for metadata',\n",
       "  'value': 'nb.bibsys.no (<a title=\"Link til post i Oria\" href=\"https://www.oria.no/?vid=NB&search=991003318664702202\">991003318664702202</a>)'},\n",
       " {'label': 'Omfang', 'value': '167 s. ill.'},\n",
       " {'label': 'Medietype', 'value': 'bøker'},\n",
       " {'label': 'Dewey', 'value': '839.823'},\n",
       " {'label': 'Varig lenke',\n",
       "  'value': '<a href=\"https://urn.nb.no/URN:NBN:no-nb_digibok_2015073008008\" target=\"_blank\">https://urn.nb.no/URN:NBN:no-nb_digibok_2015073008008</a>'},\n",
       " {'label': '',\n",
       "  'value': '<a href=\"https://www.nb.no/items/03b9347d7409e1652ccb08f6e4eedeed?manifest=https://api.nb.no/catalog/v1/iiif/03b9347d7409e1652ccb08f6e4eedeed/manifest\" target=\"_blank\"><img src=\"https://www.nb.no/content/uploads/2018/08/logo-iiif.png\" alt=\"IIIF Drag-n-drop\"></a>'}]"
      ]
     },
     "execution_count": 26,
     "metadata": {},
     "output_type": "execute_result"
    }
   ],
   "source": [
    "pic.iiif_manifest(urns[0])['metadata']"
   ]
  },
  {
   "cell_type": "markdown",
   "metadata": {},
   "source": [
    "### Bruk kommandoen `visbilder(urn)` for å se på illustrasjonene\n",
    "\n",
    "Om URN-en er tilgjengelig for alle, kan den påkalles med `visbilder(urn, 'fritt')` (husk anførselstegn rundt 'fritt'. Om noen bilder ikke vises, så bytt ut 'fritt' med 'lukket' eller 'begrenset' eller noe forskjellig fra 'fri'."
   ]
  },
  {
   "cell_type": "code",
   "execution_count": 27,
   "metadata": {
    "scrolled": false
   },
   "outputs": [
    {
     "data": {
      "text/html": [
       "<html><head></head>\n",
       "     <body>\n",
       "     <table>\n",
       "     <tr><td><img src='https://www.nb.no/services/image/resolver/URN:NBN:no-nb_digibok_2015073008008_0001/1183,0,1023,1023/full/0/native.jpg'</td><td><a href = https://www.nb.no/services/image/resolver/URN:NBN:no-nb_digibok_2015073008008_0001/1183,0,1023,1023/full/0/native.jpg target='_'>https://www.nb.no/services/image/resolver/URN:NBN:no-nb_digibok_2015073008008_0001/1183,0,1023,1023/full/0/native.jpg</a></td></tr> <tr><td><img src='https://www.nb.no/services/image/resolver/URN:NBN:no-nb_digibok_2015073008008_0002/0,666,1023,856/full/0/native.jpg'</td><td><a href = https://www.nb.no/services/image/resolver/URN:NBN:no-nb_digibok_2015073008008_0002/0,666,1023,856/full/0/native.jpg target='_'>https://www.nb.no/services/image/resolver/URN:NBN:no-nb_digibok_2015073008008_0002/0,666,1023,856/full/0/native.jpg</a></td></tr> <tr><td><img src='https://www.nb.no/services/image/resolver/URN:NBN:no-nb_digibok_2015073008008_0004/0,590,1023,870/full/0/native.jpg'</td><td><a href = https://www.nb.no/services/image/resolver/URN:NBN:no-nb_digibok_2015073008008_0004/0,590,1023,870/full/0/native.jpg target='_'>https://www.nb.no/services/image/resolver/URN:NBN:no-nb_digibok_2015073008008_0004/0,590,1023,870/full/0/native.jpg</a></td></tr> <tr><td><img src='https://www.nb.no/services/image/resolver/URN:NBN:no-nb_digibok_2015073008008_0004/50,2964,1023,439/full/0/native.jpg'</td><td><a href = https://www.nb.no/services/image/resolver/URN:NBN:no-nb_digibok_2015073008008_0004/50,2964,1023,439/full/0/native.jpg target='_'>https://www.nb.no/services/image/resolver/URN:NBN:no-nb_digibok_2015073008008_0004/50,2964,1023,439/full/0/native.jpg</a></td></tr> <tr><td><img src='https://www.nb.no/services/image/resolver/URN:NBN:no-nb_digibok_2015073008008_0005/908,440,440,148/full/0/native.jpg'</td><td><a href = https://www.nb.no/services/image/resolver/URN:NBN:no-nb_digibok_2015073008008_0005/908,440,440,148/full/0/native.jpg target='_'>https://www.nb.no/services/image/resolver/URN:NBN:no-nb_digibok_2015073008008_0005/908,440,440,148/full/0/native.jpg</a></td></tr> <tr><td><img src='https://www.nb.no/services/image/resolver/URN:NBN:no-nb_digibok_2015073008008_0005/549,1975,1023,260/full/0/native.jpg'</td><td><a href = https://www.nb.no/services/image/resolver/URN:NBN:no-nb_digibok_2015073008008_0005/549,1975,1023,260/full/0/native.jpg target='_'>https://www.nb.no/services/image/resolver/URN:NBN:no-nb_digibok_2015073008008_0005/549,1975,1023,260/full/0/native.jpg</a></td></tr> <tr><td><img src='https://www.nb.no/services/image/resolver/URN:NBN:no-nb_digibok_2015073008008_0006/968,638,505,815/full/0/native.jpg'</td><td><a href = https://www.nb.no/services/image/resolver/URN:NBN:no-nb_digibok_2015073008008_0006/968,638,505,815/full/0/native.jpg target='_'>https://www.nb.no/services/image/resolver/URN:NBN:no-nb_digibok_2015073008008_0006/968,638,505,815/full/0/native.jpg</a></td></tr> <tr><td><img src='https://www.nb.no/services/image/resolver/URN:NBN:no-nb_digibok_2015073008008_0008/0,459,1023,1023/full/0/native.jpg'</td><td><a href = https://www.nb.no/services/image/resolver/URN:NBN:no-nb_digibok_2015073008008_0008/0,459,1023,1023/full/0/native.jpg target='_'>https://www.nb.no/services/image/resolver/URN:NBN:no-nb_digibok_2015073008008_0008/0,459,1023,1023/full/0/native.jpg</a></td></tr> <tr><td><img src='https://www.nb.no/services/image/resolver/URN:NBN:no-nb_digibok_2015073008008_0009/778,777,880,837/full/0/native.jpg'</td><td><a href = https://www.nb.no/services/image/resolver/URN:NBN:no-nb_digibok_2015073008008_0009/778,777,880,837/full/0/native.jpg target='_'>https://www.nb.no/services/image/resolver/URN:NBN:no-nb_digibok_2015073008008_0009/778,777,880,837/full/0/native.jpg</a></td></tr> <tr><td><img src='https://www.nb.no/services/image/resolver/URN:NBN:no-nb_digibok_2015073008008_0011/508,292,1023,1023/full/0/native.jpg'</td><td><a href = https://www.nb.no/services/image/resolver/URN:NBN:no-nb_digibok_2015073008008_0011/508,292,1023,1023/full/0/native.jpg target='_'>https://www.nb.no/services/image/resolver/URN:NBN:no-nb_digibok_2015073008008_0011/508,292,1023,1023/full/0/native.jpg</a></td></tr> <tr><td><img src='https://www.nb.no/services/image/resolver/URN:NBN:no-nb_digibok_2015073008008_0014/458,243,1023,1023/full/0/native.jpg'</td><td><a href = https://www.nb.no/services/image/resolver/URN:NBN:no-nb_digibok_2015073008008_0014/458,243,1023,1023/full/0/native.jpg target='_'>https://www.nb.no/services/image/resolver/URN:NBN:no-nb_digibok_2015073008008_0014/458,243,1023,1023/full/0/native.jpg</a></td></tr> <tr><td><img src='https://www.nb.no/services/image/resolver/URN:NBN:no-nb_digibok_2015073008008_0017/123,314,1023,1023/full/0/native.jpg'</td><td><a href = https://www.nb.no/services/image/resolver/URN:NBN:no-nb_digibok_2015073008008_0017/123,314,1023,1023/full/0/native.jpg target='_'>https://www.nb.no/services/image/resolver/URN:NBN:no-nb_digibok_2015073008008_0017/123,314,1023,1023/full/0/native.jpg</a></td></tr> <tr><td><img src='https://www.nb.no/services/image/resolver/URN:NBN:no-nb_digibok_2015073008008_0020/436,1689,1023,1023/full/0/native.jpg'</td><td><a href = https://www.nb.no/services/image/resolver/URN:NBN:no-nb_digibok_2015073008008_0020/436,1689,1023,1023/full/0/native.jpg target='_'>https://www.nb.no/services/image/resolver/URN:NBN:no-nb_digibok_2015073008008_0020/436,1689,1023,1023/full/0/native.jpg</a></td></tr> <tr><td><img src='https://www.nb.no/services/image/resolver/URN:NBN:no-nb_digibok_2015073008008_0021/729,750,796,815/full/0/native.jpg'</td><td><a href = https://www.nb.no/services/image/resolver/URN:NBN:no-nb_digibok_2015073008008_0021/729,750,796,815/full/0/native.jpg target='_'>https://www.nb.no/services/image/resolver/URN:NBN:no-nb_digibok_2015073008008_0021/729,750,796,815/full/0/native.jpg</a></td></tr> <tr><td><img src='https://www.nb.no/services/image/resolver/URN:NBN:no-nb_digibok_2015073008008_0023/447,1783,1023,1023/full/0/native.jpg'</td><td><a href = https://www.nb.no/services/image/resolver/URN:NBN:no-nb_digibok_2015073008008_0023/447,1783,1023,1023/full/0/native.jpg target='_'>https://www.nb.no/services/image/resolver/URN:NBN:no-nb_digibok_2015073008008_0023/447,1783,1023,1023/full/0/native.jpg</a></td></tr> <tr><td><img src='https://www.nb.no/services/image/resolver/URN:NBN:no-nb_digibok_2015073008008_0027/548,224,1023,1023/full/0/native.jpg'</td><td><a href = https://www.nb.no/services/image/resolver/URN:NBN:no-nb_digibok_2015073008008_0027/548,224,1023,1023/full/0/native.jpg target='_'>https://www.nb.no/services/image/resolver/URN:NBN:no-nb_digibok_2015073008008_0027/548,224,1023,1023/full/0/native.jpg</a></td></tr> <tr><td><img src='https://www.nb.no/services/image/resolver/URN:NBN:no-nb_digibok_2015073008008_0030/429,350,1023,1023/full/0/native.jpg'</td><td><a href = https://www.nb.no/services/image/resolver/URN:NBN:no-nb_digibok_2015073008008_0030/429,350,1023,1023/full/0/native.jpg target='_'>https://www.nb.no/services/image/resolver/URN:NBN:no-nb_digibok_2015073008008_0030/429,350,1023,1023/full/0/native.jpg</a></td></tr> <tr><td><img src='https://www.nb.no/services/image/resolver/URN:NBN:no-nb_digibok_2015073008008_0032/494,1889,1023,989/full/0/native.jpg'</td><td><a href = https://www.nb.no/services/image/resolver/URN:NBN:no-nb_digibok_2015073008008_0032/494,1889,1023,989/full/0/native.jpg target='_'>https://www.nb.no/services/image/resolver/URN:NBN:no-nb_digibok_2015073008008_0032/494,1889,1023,989/full/0/native.jpg</a></td></tr> <tr><td><img src='https://www.nb.no/services/image/resolver/URN:NBN:no-nb_digibok_2015073008008_0033/690,900,823,955/full/0/native.jpg'</td><td><a href = https://www.nb.no/services/image/resolver/URN:NBN:no-nb_digibok_2015073008008_0033/690,900,823,955/full/0/native.jpg target='_'>https://www.nb.no/services/image/resolver/URN:NBN:no-nb_digibok_2015073008008_0033/690,900,823,955/full/0/native.jpg</a></td></tr> <tr><td><img src='https://www.nb.no/services/image/resolver/URN:NBN:no-nb_digibok_2015073008008_0036/369,395,1023,1023/full/0/native.jpg'</td><td><a href = https://www.nb.no/services/image/resolver/URN:NBN:no-nb_digibok_2015073008008_0036/369,395,1023,1023/full/0/native.jpg target='_'>https://www.nb.no/services/image/resolver/URN:NBN:no-nb_digibok_2015073008008_0036/369,395,1023,1023/full/0/native.jpg</a></td></tr> <tr><td><img src='https://www.nb.no/services/image/resolver/URN:NBN:no-nb_digibok_2015073008008_0039/366,385,1023,1023/full/0/native.jpg'</td><td><a href = https://www.nb.no/services/image/resolver/URN:NBN:no-nb_digibok_2015073008008_0039/366,385,1023,1023/full/0/native.jpg target='_'>https://www.nb.no/services/image/resolver/URN:NBN:no-nb_digibok_2015073008008_0039/366,385,1023,1023/full/0/native.jpg</a></td></tr> <tr><td><img src='https://www.nb.no/services/image/resolver/URN:NBN:no-nb_digibok_2015073008008_0042/842,2090,891,891/full/0/native.jpg'</td><td><a href = https://www.nb.no/services/image/resolver/URN:NBN:no-nb_digibok_2015073008008_0042/842,2090,891,891/full/0/native.jpg target='_'>https://www.nb.no/services/image/resolver/URN:NBN:no-nb_digibok_2015073008008_0042/842,2090,891,891/full/0/native.jpg</a></td></tr> <tr><td><img src='https://www.nb.no/services/image/resolver/URN:NBN:no-nb_digibok_2015073008008_0043/630,957,1023,843/full/0/native.jpg'</td><td><a href = https://www.nb.no/services/image/resolver/URN:NBN:no-nb_digibok_2015073008008_0043/630,957,1023,843/full/0/native.jpg target='_'>https://www.nb.no/services/image/resolver/URN:NBN:no-nb_digibok_2015073008008_0043/630,957,1023,843/full/0/native.jpg</a></td></tr> <tr><td><img src='https://www.nb.no/services/image/resolver/URN:NBN:no-nb_digibok_2015073008008_0045/331,339,1023,1023/full/0/native.jpg'</td><td><a href = https://www.nb.no/services/image/resolver/URN:NBN:no-nb_digibok_2015073008008_0045/331,339,1023,1023/full/0/native.jpg target='_'>https://www.nb.no/services/image/resolver/URN:NBN:no-nb_digibok_2015073008008_0045/331,339,1023,1023/full/0/native.jpg</a></td></tr> <tr><td><img src='https://www.nb.no/services/image/resolver/URN:NBN:no-nb_digibok_2015073008008_0048/684,312,1023,1023/full/0/native.jpg'</td><td><a href = https://www.nb.no/services/image/resolver/URN:NBN:no-nb_digibok_2015073008008_0048/684,312,1023,1023/full/0/native.jpg target='_'>https://www.nb.no/services/image/resolver/URN:NBN:no-nb_digibok_2015073008008_0048/684,312,1023,1023/full/0/native.jpg</a></td></tr> <tr><td><img src='https://www.nb.no/services/image/resolver/URN:NBN:no-nb_digibok_2015073008008_0051/254,300,1023,1023/full/0/native.jpg'</td><td><a href = https://www.nb.no/services/image/resolver/URN:NBN:no-nb_digibok_2015073008008_0051/254,300,1023,1023/full/0/native.jpg target='_'>https://www.nb.no/services/image/resolver/URN:NBN:no-nb_digibok_2015073008008_0051/254,300,1023,1023/full/0/native.jpg</a></td></tr> <tr><td><img src='https://www.nb.no/services/image/resolver/URN:NBN:no-nb_digibok_2015073008008_0054/311,322,1023,1023/full/0/native.jpg'</td><td><a href = https://www.nb.no/services/image/resolver/URN:NBN:no-nb_digibok_2015073008008_0054/311,322,1023,1023/full/0/native.jpg target='_'>https://www.nb.no/services/image/resolver/URN:NBN:no-nb_digibok_2015073008008_0054/311,322,1023,1023/full/0/native.jpg</a></td></tr> <tr><td><img src='https://www.nb.no/services/image/resolver/URN:NBN:no-nb_digibok_2015073008008_0056/932,696,772,978/full/0/native.jpg'</td><td><a href = https://www.nb.no/services/image/resolver/URN:NBN:no-nb_digibok_2015073008008_0056/932,696,772,978/full/0/native.jpg target='_'>https://www.nb.no/services/image/resolver/URN:NBN:no-nb_digibok_2015073008008_0056/932,696,772,978/full/0/native.jpg</a></td></tr> <tr><td><img src='https://www.nb.no/services/image/resolver/URN:NBN:no-nb_digibok_2015073008008_0059/581,331,1023,1023/full/0/native.jpg'</td><td><a href = https://www.nb.no/services/image/resolver/URN:NBN:no-nb_digibok_2015073008008_0059/581,331,1023,1023/full/0/native.jpg target='_'>https://www.nb.no/services/image/resolver/URN:NBN:no-nb_digibok_2015073008008_0059/581,331,1023,1023/full/0/native.jpg</a></td></tr> <tr><td><img src='https://www.nb.no/services/image/resolver/URN:NBN:no-nb_digibok_2015073008008_0062/619,276,1023,1023/full/0/native.jpg'</td><td><a href = https://www.nb.no/services/image/resolver/URN:NBN:no-nb_digibok_2015073008008_0062/619,276,1023,1023/full/0/native.jpg target='_'>https://www.nb.no/services/image/resolver/URN:NBN:no-nb_digibok_2015073008008_0062/619,276,1023,1023/full/0/native.jpg</a></td></tr> <tr><td><img src='https://www.nb.no/services/image/resolver/URN:NBN:no-nb_digibok_2015073008008_0065/377,268,1023,1023/full/0/native.jpg'</td><td><a href = https://www.nb.no/services/image/resolver/URN:NBN:no-nb_digibok_2015073008008_0065/377,268,1023,1023/full/0/native.jpg target='_'>https://www.nb.no/services/image/resolver/URN:NBN:no-nb_digibok_2015073008008_0065/377,268,1023,1023/full/0/native.jpg</a></td></tr> <tr><td><img src='https://www.nb.no/services/image/resolver/URN:NBN:no-nb_digibok_2015073008008_0068/910,2357,748,650/full/0/native.jpg'</td><td><a href = https://www.nb.no/services/image/resolver/URN:NBN:no-nb_digibok_2015073008008_0068/910,2357,748,650/full/0/native.jpg target='_'>https://www.nb.no/services/image/resolver/URN:NBN:no-nb_digibok_2015073008008_0068/910,2357,748,650/full/0/native.jpg</a></td></tr> <tr><td><img src='https://www.nb.no/services/image/resolver/URN:NBN:no-nb_digibok_2015073008008_0069/687,737,853,808/full/0/native.jpg'</td><td><a href = https://www.nb.no/services/image/resolver/URN:NBN:no-nb_digibok_2015073008008_0069/687,737,853,808/full/0/native.jpg target='_'>https://www.nb.no/services/image/resolver/URN:NBN:no-nb_digibok_2015073008008_0069/687,737,853,808/full/0/native.jpg</a></td></tr> <tr><td><img src='https://www.nb.no/services/image/resolver/URN:NBN:no-nb_digibok_2015073008008_0071/406,224,1023,1023/full/0/native.jpg'</td><td><a href = https://www.nb.no/services/image/resolver/URN:NBN:no-nb_digibok_2015073008008_0071/406,224,1023,1023/full/0/native.jpg target='_'>https://www.nb.no/services/image/resolver/URN:NBN:no-nb_digibok_2015073008008_0071/406,224,1023,1023/full/0/native.jpg</a></td></tr> <tr><td><img src='https://www.nb.no/services/image/resolver/URN:NBN:no-nb_digibok_2015073008008_0074/339,276,1023,1023/full/0/native.jpg'</td><td><a href = https://www.nb.no/services/image/resolver/URN:NBN:no-nb_digibok_2015073008008_0074/339,276,1023,1023/full/0/native.jpg target='_'>https://www.nb.no/services/image/resolver/URN:NBN:no-nb_digibok_2015073008008_0074/339,276,1023,1023/full/0/native.jpg</a></td></tr> <tr><td><img src='https://www.nb.no/services/image/resolver/URN:NBN:no-nb_digibok_2015073008008_0078/380,1979,1023,1023/full/0/native.jpg'</td><td><a href = https://www.nb.no/services/image/resolver/URN:NBN:no-nb_digibok_2015073008008_0078/380,1979,1023,1023/full/0/native.jpg target='_'>https://www.nb.no/services/image/resolver/URN:NBN:no-nb_digibok_2015073008008_0078/380,1979,1023,1023/full/0/native.jpg</a></td></tr> <tr><td><img src='https://www.nb.no/services/image/resolver/URN:NBN:no-nb_digibok_2015073008008_0083/838,703,613,838/full/0/native.jpg'</td><td><a href = https://www.nb.no/services/image/resolver/URN:NBN:no-nb_digibok_2015073008008_0083/838,703,613,838/full/0/native.jpg target='_'>https://www.nb.no/services/image/resolver/URN:NBN:no-nb_digibok_2015073008008_0083/838,703,613,838/full/0/native.jpg</a></td></tr> <tr><td><img src='https://www.nb.no/services/image/resolver/URN:NBN:no-nb_digibok_2015073008008_0085/327,188,1023,1023/full/0/native.jpg'</td><td><a href = https://www.nb.no/services/image/resolver/URN:NBN:no-nb_digibok_2015073008008_0085/327,188,1023,1023/full/0/native.jpg target='_'>https://www.nb.no/services/image/resolver/URN:NBN:no-nb_digibok_2015073008008_0085/327,188,1023,1023/full/0/native.jpg</a></td></tr> <tr><td><img src='https://www.nb.no/services/image/resolver/URN:NBN:no-nb_digibok_2015073008008_0088/646,341,1023,1023/full/0/native.jpg'</td><td><a href = https://www.nb.no/services/image/resolver/URN:NBN:no-nb_digibok_2015073008008_0088/646,341,1023,1023/full/0/native.jpg target='_'>https://www.nb.no/services/image/resolver/URN:NBN:no-nb_digibok_2015073008008_0088/646,341,1023,1023/full/0/native.jpg</a></td></tr> <tr><td><img src='https://www.nb.no/services/image/resolver/URN:NBN:no-nb_digibok_2015073008008_0091/325,244,1023,1023/full/0/native.jpg'</td><td><a href = https://www.nb.no/services/image/resolver/URN:NBN:no-nb_digibok_2015073008008_0091/325,244,1023,1023/full/0/native.jpg target='_'>https://www.nb.no/services/image/resolver/URN:NBN:no-nb_digibok_2015073008008_0091/325,244,1023,1023/full/0/native.jpg</a></td></tr> <tr><td><img src='https://www.nb.no/services/image/resolver/URN:NBN:no-nb_digibok_2015073008008_0093/161,232,650,1023/full/0/native.jpg'</td><td><a href = https://www.nb.no/services/image/resolver/URN:NBN:no-nb_digibok_2015073008008_0093/161,232,650,1023/full/0/native.jpg target='_'>https://www.nb.no/services/image/resolver/URN:NBN:no-nb_digibok_2015073008008_0093/161,232,650,1023/full/0/native.jpg</a></td></tr> <tr><td><img src='https://www.nb.no/services/image/resolver/URN:NBN:no-nb_digibok_2015073008008_0095/573,304,960,1023/full/0/native.jpg'</td><td><a href = https://www.nb.no/services/image/resolver/URN:NBN:no-nb_digibok_2015073008008_0095/573,304,960,1023/full/0/native.jpg target='_'>https://www.nb.no/services/image/resolver/URN:NBN:no-nb_digibok_2015073008008_0095/573,304,960,1023/full/0/native.jpg</a></td></tr> <tr><td><img src='https://www.nb.no/services/image/resolver/URN:NBN:no-nb_digibok_2015073008008_0097/692,2169,941,850/full/0/native.jpg'</td><td><a href = https://www.nb.no/services/image/resolver/URN:NBN:no-nb_digibok_2015073008008_0097/692,2169,941,850/full/0/native.jpg target='_'>https://www.nb.no/services/image/resolver/URN:NBN:no-nb_digibok_2015073008008_0097/692,2169,941,850/full/0/native.jpg</a></td></tr> <tr><td><img src='https://www.nb.no/services/image/resolver/URN:NBN:no-nb_digibok_2015073008008_0100/654,701,1023,976/full/0/native.jpg'</td><td><a href = https://www.nb.no/services/image/resolver/URN:NBN:no-nb_digibok_2015073008008_0100/654,701,1023,976/full/0/native.jpg target='_'>https://www.nb.no/services/image/resolver/URN:NBN:no-nb_digibok_2015073008008_0100/654,701,1023,976/full/0/native.jpg</a></td></tr> <tr><td><img src='https://www.nb.no/services/image/resolver/URN:NBN:no-nb_digibok_2015073008008_0103/409,521,1023,1023/full/0/native.jpg'</td><td><a href = https://www.nb.no/services/image/resolver/URN:NBN:no-nb_digibok_2015073008008_0103/409,521,1023,1023/full/0/native.jpg target='_'>https://www.nb.no/services/image/resolver/URN:NBN:no-nb_digibok_2015073008008_0103/409,521,1023,1023/full/0/native.jpg</a></td></tr> <tr><td><img src='https://www.nb.no/services/image/resolver/URN:NBN:no-nb_digibok_2015073008008_0107/229,1796,1023,1023/full/0/native.jpg'</td><td><a href = https://www.nb.no/services/image/resolver/URN:NBN:no-nb_digibok_2015073008008_0107/229,1796,1023,1023/full/0/native.jpg target='_'>https://www.nb.no/services/image/resolver/URN:NBN:no-nb_digibok_2015073008008_0107/229,1796,1023,1023/full/0/native.jpg</a></td></tr> <tr><td><img src='https://www.nb.no/services/image/resolver/URN:NBN:no-nb_digibok_2015073008008_0110/445,1034,1023,1023/full/0/native.jpg'</td><td><a href = https://www.nb.no/services/image/resolver/URN:NBN:no-nb_digibok_2015073008008_0110/445,1034,1023,1023/full/0/native.jpg target='_'>https://www.nb.no/services/image/resolver/URN:NBN:no-nb_digibok_2015073008008_0110/445,1034,1023,1023/full/0/native.jpg</a></td></tr> <tr><td><img src='https://www.nb.no/services/image/resolver/URN:NBN:no-nb_digibok_2015073008008_0111/535,780,1023,777/full/0/native.jpg'</td><td><a href = https://www.nb.no/services/image/resolver/URN:NBN:no-nb_digibok_2015073008008_0111/535,780,1023,777/full/0/native.jpg target='_'>https://www.nb.no/services/image/resolver/URN:NBN:no-nb_digibok_2015073008008_0111/535,780,1023,777/full/0/native.jpg</a></td></tr> <tr><td><img src='https://www.nb.no/services/image/resolver/URN:NBN:no-nb_digibok_2015073008008_0114/355,647,1023,1023/full/0/native.jpg'</td><td><a href = https://www.nb.no/services/image/resolver/URN:NBN:no-nb_digibok_2015073008008_0114/355,647,1023,1023/full/0/native.jpg target='_'>https://www.nb.no/services/image/resolver/URN:NBN:no-nb_digibok_2015073008008_0114/355,647,1023,1023/full/0/native.jpg</a></td></tr> <tr><td><img src='https://www.nb.no/services/image/resolver/URN:NBN:no-nb_digibok_2015073008008_0117/176,183,1023,1023/full/0/native.jpg'</td><td><a href = https://www.nb.no/services/image/resolver/URN:NBN:no-nb_digibok_2015073008008_0117/176,183,1023,1023/full/0/native.jpg target='_'>https://www.nb.no/services/image/resolver/URN:NBN:no-nb_digibok_2015073008008_0117/176,183,1023,1023/full/0/native.jpg</a></td></tr> <tr><td><img src='https://www.nb.no/services/image/resolver/URN:NBN:no-nb_digibok_2015073008008_0120/436,282,1023,1023/full/0/native.jpg'</td><td><a href = https://www.nb.no/services/image/resolver/URN:NBN:no-nb_digibok_2015073008008_0120/436,282,1023,1023/full/0/native.jpg target='_'>https://www.nb.no/services/image/resolver/URN:NBN:no-nb_digibok_2015073008008_0120/436,282,1023,1023/full/0/native.jpg</a></td></tr> <tr><td><img src='https://www.nb.no/services/image/resolver/URN:NBN:no-nb_digibok_2015073008008_0124/959,227,786,1023/full/0/native.jpg'</td><td><a href = https://www.nb.no/services/image/resolver/URN:NBN:no-nb_digibok_2015073008008_0124/959,227,786,1023/full/0/native.jpg target='_'>https://www.nb.no/services/image/resolver/URN:NBN:no-nb_digibok_2015073008008_0124/959,227,786,1023/full/0/native.jpg</a></td></tr> <tr><td><img src='https://www.nb.no/services/image/resolver/URN:NBN:no-nb_digibok_2015073008008_0126/837,741,962,761/full/0/native.jpg'</td><td><a href = https://www.nb.no/services/image/resolver/URN:NBN:no-nb_digibok_2015073008008_0126/837,741,962,761/full/0/native.jpg target='_'>https://www.nb.no/services/image/resolver/URN:NBN:no-nb_digibok_2015073008008_0126/837,741,962,761/full/0/native.jpg</a></td></tr> <tr><td><img src='https://www.nb.no/services/image/resolver/URN:NBN:no-nb_digibok_2015073008008_0129/290,278,1023,1023/full/0/native.jpg'</td><td><a href = https://www.nb.no/services/image/resolver/URN:NBN:no-nb_digibok_2015073008008_0129/290,278,1023,1023/full/0/native.jpg target='_'>https://www.nb.no/services/image/resolver/URN:NBN:no-nb_digibok_2015073008008_0129/290,278,1023,1023/full/0/native.jpg</a></td></tr> <tr><td><img src='https://www.nb.no/services/image/resolver/URN:NBN:no-nb_digibok_2015073008008_0133/309,325,1023,1023/full/0/native.jpg'</td><td><a href = https://www.nb.no/services/image/resolver/URN:NBN:no-nb_digibok_2015073008008_0133/309,325,1023,1023/full/0/native.jpg target='_'>https://www.nb.no/services/image/resolver/URN:NBN:no-nb_digibok_2015073008008_0133/309,325,1023,1023/full/0/native.jpg</a></td></tr> <tr><td><img src='https://www.nb.no/services/image/resolver/URN:NBN:no-nb_digibok_2015073008008_0137/188,2033,1023,1008/full/0/native.jpg'</td><td><a href = https://www.nb.no/services/image/resolver/URN:NBN:no-nb_digibok_2015073008008_0137/188,2033,1023,1008/full/0/native.jpg target='_'>https://www.nb.no/services/image/resolver/URN:NBN:no-nb_digibok_2015073008008_0137/188,2033,1023,1008/full/0/native.jpg</a></td></tr> <tr><td><img src='https://www.nb.no/services/image/resolver/URN:NBN:no-nb_digibok_2015073008008_0140/1001,943,600,949/full/0/native.jpg'</td><td><a href = https://www.nb.no/services/image/resolver/URN:NBN:no-nb_digibok_2015073008008_0140/1001,943,600,949/full/0/native.jpg target='_'>https://www.nb.no/services/image/resolver/URN:NBN:no-nb_digibok_2015073008008_0140/1001,943,600,949/full/0/native.jpg</a></td></tr> <tr><td><img src='https://www.nb.no/services/image/resolver/URN:NBN:no-nb_digibok_2015073008008_0143/448,415,1023,1023/full/0/native.jpg'</td><td><a href = https://www.nb.no/services/image/resolver/URN:NBN:no-nb_digibok_2015073008008_0143/448,415,1023,1023/full/0/native.jpg target='_'>https://www.nb.no/services/image/resolver/URN:NBN:no-nb_digibok_2015073008008_0143/448,415,1023,1023/full/0/native.jpg</a></td></tr> <tr><td><img src='https://www.nb.no/services/image/resolver/URN:NBN:no-nb_digibok_2015073008008_0145/270,347,1023,1023/full/0/native.jpg'</td><td><a href = https://www.nb.no/services/image/resolver/URN:NBN:no-nb_digibok_2015073008008_0145/270,347,1023,1023/full/0/native.jpg target='_'>https://www.nb.no/services/image/resolver/URN:NBN:no-nb_digibok_2015073008008_0145/270,347,1023,1023/full/0/native.jpg</a></td></tr> <tr><td><img src='https://www.nb.no/services/image/resolver/URN:NBN:no-nb_digibok_2015073008008_0148/399,439,1023,1023/full/0/native.jpg'</td><td><a href = https://www.nb.no/services/image/resolver/URN:NBN:no-nb_digibok_2015073008008_0148/399,439,1023,1023/full/0/native.jpg target='_'>https://www.nb.no/services/image/resolver/URN:NBN:no-nb_digibok_2015073008008_0148/399,439,1023,1023/full/0/native.jpg</a></td></tr> <tr><td><img src='https://www.nb.no/services/image/resolver/URN:NBN:no-nb_digibok_2015073008008_0151/292,260,1023,1023/full/0/native.jpg'</td><td><a href = https://www.nb.no/services/image/resolver/URN:NBN:no-nb_digibok_2015073008008_0151/292,260,1023,1023/full/0/native.jpg target='_'>https://www.nb.no/services/image/resolver/URN:NBN:no-nb_digibok_2015073008008_0151/292,260,1023,1023/full/0/native.jpg</a></td></tr> <tr><td><img src='https://www.nb.no/services/image/resolver/URN:NBN:no-nb_digibok_2015073008008_0153/891,1949,500,808/full/0/native.jpg'</td><td><a href = https://www.nb.no/services/image/resolver/URN:NBN:no-nb_digibok_2015073008008_0153/891,1949,500,808/full/0/native.jpg target='_'>https://www.nb.no/services/image/resolver/URN:NBN:no-nb_digibok_2015073008008_0153/891,1949,500,808/full/0/native.jpg</a></td></tr> <tr><td><img src='https://www.nb.no/services/image/resolver/URN:NBN:no-nb_digibok_2015073008008_0154/856,913,791,911/full/0/native.jpg'</td><td><a href = https://www.nb.no/services/image/resolver/URN:NBN:no-nb_digibok_2015073008008_0154/856,913,791,911/full/0/native.jpg target='_'>https://www.nb.no/services/image/resolver/URN:NBN:no-nb_digibok_2015073008008_0154/856,913,791,911/full/0/native.jpg</a></td></tr> <tr><td><img src='https://www.nb.no/services/image/resolver/URN:NBN:no-nb_digibok_2015073008008_0158/502,292,1023,1023/full/0/native.jpg'</td><td><a href = https://www.nb.no/services/image/resolver/URN:NBN:no-nb_digibok_2015073008008_0158/502,292,1023,1023/full/0/native.jpg target='_'>https://www.nb.no/services/image/resolver/URN:NBN:no-nb_digibok_2015073008008_0158/502,292,1023,1023/full/0/native.jpg</a></td></tr> <tr><td><img src='https://www.nb.no/services/image/resolver/URN:NBN:no-nb_digibok_2015073008008_0160/788,432,1023,1023/full/0/native.jpg'</td><td><a href = https://www.nb.no/services/image/resolver/URN:NBN:no-nb_digibok_2015073008008_0160/788,432,1023,1023/full/0/native.jpg target='_'>https://www.nb.no/services/image/resolver/URN:NBN:no-nb_digibok_2015073008008_0160/788,432,1023,1023/full/0/native.jpg</a></td></tr> <tr><td><img src='https://www.nb.no/services/image/resolver/URN:NBN:no-nb_digibok_2015073008008_0163/270,2155,556,908/full/0/native.jpg'</td><td><a href = https://www.nb.no/services/image/resolver/URN:NBN:no-nb_digibok_2015073008008_0163/270,2155,556,908/full/0/native.jpg target='_'>https://www.nb.no/services/image/resolver/URN:NBN:no-nb_digibok_2015073008008_0163/270,2155,556,908/full/0/native.jpg</a></td></tr> <tr><td><img src='https://www.nb.no/services/image/resolver/URN:NBN:no-nb_digibok_2015073008008_0164/491,271,1023,1023/full/0/native.jpg'</td><td><a href = https://www.nb.no/services/image/resolver/URN:NBN:no-nb_digibok_2015073008008_0164/491,271,1023,1023/full/0/native.jpg target='_'>https://www.nb.no/services/image/resolver/URN:NBN:no-nb_digibok_2015073008008_0164/491,271,1023,1023/full/0/native.jpg</a></td></tr> <tr><td><img src='https://www.nb.no/services/image/resolver/URN:NBN:no-nb_digibok_2015073008008_0166/183,268,1023,1023/full/0/native.jpg'</td><td><a href = https://www.nb.no/services/image/resolver/URN:NBN:no-nb_digibok_2015073008008_0166/183,268,1023,1023/full/0/native.jpg target='_'>https://www.nb.no/services/image/resolver/URN:NBN:no-nb_digibok_2015073008008_0166/183,268,1023,1023/full/0/native.jpg</a></td></tr> <tr><td><img src='https://www.nb.no/services/image/resolver/URN:NBN:no-nb_digibok_2015073008008_0168/0,450,1023,1023/full/0/native.jpg'</td><td><a href = https://www.nb.no/services/image/resolver/URN:NBN:no-nb_digibok_2015073008008_0168/0,450,1023,1023/full/0/native.jpg target='_'>https://www.nb.no/services/image/resolver/URN:NBN:no-nb_digibok_2015073008008_0168/0,450,1023,1023/full/0/native.jpg</a></td></tr> <tr><td><img src='https://www.nb.no/services/image/resolver/URN:NBN:no-nb_digibok_2015073008008_0169/50,456,1023,1023/full/0/native.jpg'</td><td><a href = https://www.nb.no/services/image/resolver/URN:NBN:no-nb_digibok_2015073008008_0169/50,456,1023,1023/full/0/native.jpg target='_'>https://www.nb.no/services/image/resolver/URN:NBN:no-nb_digibok_2015073008008_0169/50,456,1023,1023/full/0/native.jpg</a></td></tr> <tr><td><img src='https://www.nb.no/services/image/resolver/URN:NBN:no-nb_digibok_2015073008008_0170/0,0,1023,1023/full/0/native.jpg'</td><td><a href = https://www.nb.no/services/image/resolver/URN:NBN:no-nb_digibok_2015073008008_0170/0,0,1023,1023/full/0/native.jpg target='_'>https://www.nb.no/services/image/resolver/URN:NBN:no-nb_digibok_2015073008008_0170/0,0,1023,1023/full/0/native.jpg</a></td></tr>\n",
       "     </table>\n",
       "     </body>\n",
       "     </html>\n",
       "     "
      ],
      "text/plain": [
       "<IPython.core.display.HTML object>"
      ]
     },
     "execution_count": 27,
     "metadata": {},
     "output_type": "execute_result"
    }
   ],
   "source": [
    "visbilder(urns[0], 'begrenset')"
   ]
  },
  {
   "cell_type": "code",
   "execution_count": null,
   "metadata": {},
   "outputs": [],
   "source": []
  }
 ],
 "metadata": {
  "kernelspec": {
   "display_name": "Python 3",
   "language": "python",
   "name": "python3"
  },
  "language_info": {
   "codemirror_mode": {
    "name": "ipython",
    "version": 3
   },
   "file_extension": ".py",
   "mimetype": "text/x-python",
   "name": "python",
   "nbconvert_exporter": "python",
   "pygments_lexer": "ipython3",
   "version": "3.8.3"
  }
 },
 "nbformat": 4,
 "nbformat_minor": 4
}
