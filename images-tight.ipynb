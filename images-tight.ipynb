{
 "cells": [
  {
   "cell_type": "code",
   "execution_count": 2,
   "id": "95f3a248-b3cc-419c-b725-a050d69e4961",
   "metadata": {},
   "outputs": [],
   "source": [
    "import sqlite3\n",
    "import pandas as pd\n",
    "import os\n",
    "import random\n",
    "from IPython.display import HTML\n"
   ]
  },
  {
   "cell_type": "code",
   "execution_count": 3,
   "id": "81cbb523-74bb-4812-b307-bda8b2513708",
   "metadata": {},
   "outputs": [],
   "source": [
    "folder = \"document_imgs\""
   ]
  },
  {
   "cell_type": "code",
   "execution_count": 4,
   "id": "429822b4-2a8a-41e0-bdb2-0d3b96bdb403",
   "metadata": {},
   "outputs": [],
   "source": [
    "files = next(os.walk(folder))"
   ]
  },
  {
   "cell_type": "code",
   "execution_count": 5,
   "id": "da0c3066-7c57-4c3c-b6e5-f74b2881a23e",
   "metadata": {},
   "outputs": [],
   "source": [
    "files =[os.path.join(folder,f) for f in files[2]]"
   ]
  },
  {
   "cell_type": "code",
   "execution_count": 7,
   "id": "709f4ad7-61db-46e4-9bba-336bc9ef2ca6",
   "metadata": {},
   "outputs": [
    {
     "data": {
      "text/plain": [
       "197"
      ]
     },
     "execution_count": 7,
     "metadata": {},
     "output_type": "execute_result"
    }
   ],
   "source": [
    "len(files)"
   ]
  },
  {
   "cell_type": "code",
   "execution_count": 36,
   "id": "54405c21-14e0-4120-a83c-b400de74cf90",
   "metadata": {},
   "outputs": [],
   "source": [
    "import pandas as pd"
   ]
  },
  {
   "cell_type": "code",
   "execution_count": 39,
   "id": "6a40c727-e972-45e6-a7c5-8c5a8ca29977",
   "metadata": {},
   "outputs": [
    {
     "data": {
      "text/html": [
       "<style type=\"text/css\">\n",
       "</style>\n",
       "<table id=\"T_109b3\">\n",
       "  <thead>\n",
       "    <tr>\n",
       "      <th class=\"blank level0\" >&nbsp;</th>\n",
       "      <th id=\"T_109b3_level0_col0\" class=\"col_heading level0 col0\" >type</th>\n",
       "      <th id=\"T_109b3_level0_col1\" class=\"col_heading level0 col1\" >name</th>\n",
       "      <th id=\"T_109b3_level0_col2\" class=\"col_heading level0 col2\" >tbl_name</th>\n",
       "      <th id=\"T_109b3_level0_col3\" class=\"col_heading level0 col3\" >rootpage</th>\n",
       "      <th id=\"T_109b3_level0_col4\" class=\"col_heading level0 col4\" >sql</th>\n",
       "    </tr>\n",
       "  </thead>\n",
       "  <tbody>\n",
       "    <tr>\n",
       "      <th id=\"T_109b3_level0_row0\" class=\"row_heading level0 row0\" >0</th>\n",
       "      <td id=\"T_109b3_row0_col0\" class=\"data row0 col0\" >table</td>\n",
       "      <td id=\"T_109b3_row0_col1\" class=\"data row0 col1\" >img</td>\n",
       "      <td id=\"T_109b3_row0_col2\" class=\"data row0 col2\" >img</td>\n",
       "      <td id=\"T_109b3_row0_col3\" class=\"data row0 col3\" >2</td>\n",
       "      <td id=\"T_109b3_row0_col4\" class=\"data row0 col4\" >CREATE TABLE img (urn int, filename text, tag_name text, elem_ID text, elem_type text, elem_height int, elem_width int, elem_hpos int, elem_vpos int, word_num int, para_num int, page_num int, img_num int, PRIMARY KEY (urn, img_num)) WITHOUT rowid</td>\n",
       "    </tr>\n",
       "    <tr>\n",
       "      <th id=\"T_109b3_level0_row1\" class=\"row_heading level0 row1\" >1</th>\n",
       "      <td id=\"T_109b3_row1_col0\" class=\"data row1 col0\" >index</td>\n",
       "      <td id=\"T_109b3_row1_col1\" class=\"data row1 col1\" >_et_</td>\n",
       "      <td id=\"T_109b3_row1_col2\" class=\"data row1 col2\" >img</td>\n",
       "      <td id=\"T_109b3_row1_col3\" class=\"data row1 col3\" >419211</td>\n",
       "      <td id=\"T_109b3_row1_col4\" class=\"data row1 col4\" >CREATE INDEX _et_ on img (elem_type, filename)</td>\n",
       "    </tr>\n",
       "  </tbody>\n",
       "</table>\n"
      ],
      "text/plain": [
       "<pandas.io.formats.style.Styler at 0x7f112b8cb8b0>"
      ]
     },
     "execution_count": 39,
     "metadata": {},
     "output_type": "execute_result"
    }
   ],
   "source": [
    "with sqlite3.connect(files[0]) as con:\n",
    "    df = pd.read_sql(\"select * from sqlite_master\", con)\n",
    "df.style"
   ]
  },
  {
   "cell_type": "code",
   "execution_count": 42,
   "id": "48d59717-91de-44e2-8c3c-4873ff5ce88c",
   "metadata": {},
   "outputs": [
    {
     "data": {
      "text/html": [
       "<style type=\"text/css\">\n",
       "</style>\n",
       "<table id=\"T_094c9\">\n",
       "  <thead>\n",
       "    <tr>\n",
       "      <th class=\"blank level0\" >&nbsp;</th>\n",
       "      <th id=\"T_094c9_level0_col0\" class=\"col_heading level0 col0\" >urn</th>\n",
       "      <th id=\"T_094c9_level0_col1\" class=\"col_heading level0 col1\" >filename</th>\n",
       "      <th id=\"T_094c9_level0_col2\" class=\"col_heading level0 col2\" >tag_name</th>\n",
       "      <th id=\"T_094c9_level0_col3\" class=\"col_heading level0 col3\" >elem_ID</th>\n",
       "      <th id=\"T_094c9_level0_col4\" class=\"col_heading level0 col4\" >elem_type</th>\n",
       "      <th id=\"T_094c9_level0_col5\" class=\"col_heading level0 col5\" >elem_height</th>\n",
       "      <th id=\"T_094c9_level0_col6\" class=\"col_heading level0 col6\" >elem_width</th>\n",
       "      <th id=\"T_094c9_level0_col7\" class=\"col_heading level0 col7\" >elem_hpos</th>\n",
       "      <th id=\"T_094c9_level0_col8\" class=\"col_heading level0 col8\" >elem_vpos</th>\n",
       "      <th id=\"T_094c9_level0_col9\" class=\"col_heading level0 col9\" >word_num</th>\n",
       "      <th id=\"T_094c9_level0_col10\" class=\"col_heading level0 col10\" >para_num</th>\n",
       "      <th id=\"T_094c9_level0_col11\" class=\"col_heading level0 col11\" >page_num</th>\n",
       "      <th id=\"T_094c9_level0_col12\" class=\"col_heading level0 col12\" >img_num</th>\n",
       "    </tr>\n",
       "  </thead>\n",
       "  <tbody>\n",
       "    <tr>\n",
       "      <th id=\"T_094c9_level0_row0\" class=\"row_heading level0 row0\" >0</th>\n",
       "      <td id=\"T_094c9_row0_col0\" class=\"data row0 col0\" >203950000</td>\n",
       "      <td id=\"T_094c9_row0_col1\" class=\"data row0 col1\" >tidenskrav_null_null_19560611_47_131_1-1_001_null.xml</td>\n",
       "      <td id=\"T_094c9_row0_col2\" class=\"data row0 col2\" >ComposedBlock</td>\n",
       "      <td id=\"T_094c9_row0_col3\" class=\"data row0 col3\" >P1_CB00001</td>\n",
       "      <td id=\"T_094c9_row0_col4\" class=\"data row0 col4\" >Illustration</td>\n",
       "      <td id=\"T_094c9_row0_col5\" class=\"data row0 col5\" >1044</td>\n",
       "      <td id=\"T_094c9_row0_col6\" class=\"data row0 col6\" >1155</td>\n",
       "      <td id=\"T_094c9_row0_col7\" class=\"data row0 col7\" >170</td>\n",
       "      <td id=\"T_094c9_row0_col8\" class=\"data row0 col8\" >2334</td>\n",
       "      <td id=\"T_094c9_row0_col9\" class=\"data row0 col9\" >708</td>\n",
       "      <td id=\"T_094c9_row0_col10\" class=\"data row0 col10\" >33</td>\n",
       "      <td id=\"T_094c9_row0_col11\" class=\"data row0 col11\" >1</td>\n",
       "      <td id=\"T_094c9_row0_col12\" class=\"data row0 col12\" >1</td>\n",
       "    </tr>\n",
       "    <tr>\n",
       "      <th id=\"T_094c9_level0_row1\" class=\"row_heading level0 row1\" >1</th>\n",
       "      <td id=\"T_094c9_row1_col0\" class=\"data row1 col0\" >203950000</td>\n",
       "      <td id=\"T_094c9_row1_col1\" class=\"data row1 col1\" >tidenskrav_null_null_19560611_47_131_1-1_001_null.xml</td>\n",
       "      <td id=\"T_094c9_row1_col2\" class=\"data row1 col2\" >ComposedBlock</td>\n",
       "      <td id=\"T_094c9_row1_col3\" class=\"data row1 col3\" >P1_CB00002</td>\n",
       "      <td id=\"T_094c9_row1_col4\" class=\"data row1 col4\" >Illustration</td>\n",
       "      <td id=\"T_094c9_row1_col5\" class=\"data row1 col5\" >753</td>\n",
       "      <td id=\"T_094c9_row1_col6\" class=\"data row1 col6\" >1675</td>\n",
       "      <td id=\"T_094c9_row1_col7\" class=\"data row1 col7\" >796</td>\n",
       "      <td id=\"T_094c9_row1_col8\" class=\"data row1 col8\" >4317</td>\n",
       "      <td id=\"T_094c9_row1_col9\" class=\"data row1 col9\" >1314</td>\n",
       "      <td id=\"T_094c9_row1_col10\" class=\"data row1 col10\" >46</td>\n",
       "      <td id=\"T_094c9_row1_col11\" class=\"data row1 col11\" >1</td>\n",
       "      <td id=\"T_094c9_row1_col12\" class=\"data row1 col12\" >2</td>\n",
       "    </tr>\n",
       "    <tr>\n",
       "      <th id=\"T_094c9_level0_row2\" class=\"row_heading level0 row2\" >2</th>\n",
       "      <td id=\"T_094c9_row2_col0\" class=\"data row2 col0\" >203950000</td>\n",
       "      <td id=\"T_094c9_row2_col1\" class=\"data row2 col1\" >tidenskrav_null_null_19560611_47_131_1-1_001_null.xml</td>\n",
       "      <td id=\"T_094c9_row2_col2\" class=\"data row2 col2\" >ComposedBlock</td>\n",
       "      <td id=\"T_094c9_row2_col3\" class=\"data row2 col3\" >P1_CB00003</td>\n",
       "      <td id=\"T_094c9_row2_col4\" class=\"data row2 col4\" >Illustration</td>\n",
       "      <td id=\"T_094c9_row2_col5\" class=\"data row2 col5\" >303</td>\n",
       "      <td id=\"T_094c9_row2_col6\" class=\"data row2 col6\" >979</td>\n",
       "      <td id=\"T_094c9_row2_col7\" class=\"data row2 col7\" >2581</td>\n",
       "      <td id=\"T_094c9_row2_col8\" class=\"data row2 col8\" >1328</td>\n",
       "      <td id=\"T_094c9_row2_col9\" class=\"data row2 col9\" >1920</td>\n",
       "      <td id=\"T_094c9_row2_col10\" class=\"data row2 col10\" >68</td>\n",
       "      <td id=\"T_094c9_row2_col11\" class=\"data row2 col11\" >1</td>\n",
       "      <td id=\"T_094c9_row2_col12\" class=\"data row2 col12\" >3</td>\n",
       "    </tr>\n",
       "    <tr>\n",
       "      <th id=\"T_094c9_level0_row3\" class=\"row_heading level0 row3\" >3</th>\n",
       "      <td id=\"T_094c9_row3_col0\" class=\"data row3 col0\" >203950000</td>\n",
       "      <td id=\"T_094c9_row3_col1\" class=\"data row3 col1\" >tidenskrav_null_null_19560611_47_131_1-1_003_null.xml</td>\n",
       "      <td id=\"T_094c9_row3_col2\" class=\"data row3 col2\" >ComposedBlock</td>\n",
       "      <td id=\"T_094c9_row3_col3\" class=\"data row3 col3\" >P3_CB00001</td>\n",
       "      <td id=\"T_094c9_row3_col4\" class=\"data row3 col4\" >Illustration</td>\n",
       "      <td id=\"T_094c9_row3_col5\" class=\"data row3 col5\" >520</td>\n",
       "      <td id=\"T_094c9_row3_col6\" class=\"data row3 col6\" >567</td>\n",
       "      <td id=\"T_094c9_row3_col7\" class=\"data row3 col7\" >137</td>\n",
       "      <td id=\"T_094c9_row3_col8\" class=\"data row3 col8\" >808</td>\n",
       "      <td id=\"T_094c9_row3_col9\" class=\"data row3 col9\" >7110</td>\n",
       "      <td id=\"T_094c9_row3_col10\" class=\"data row3 col10\" >208</td>\n",
       "      <td id=\"T_094c9_row3_col11\" class=\"data row3 col11\" >3</td>\n",
       "      <td id=\"T_094c9_row3_col12\" class=\"data row3 col12\" >4</td>\n",
       "    </tr>\n",
       "  </tbody>\n",
       "</table>\n"
      ],
      "text/plain": [
       "<pandas.io.formats.style.Styler at 0x7f112b8a1b50>"
      ]
     },
     "execution_count": 42,
     "metadata": {},
     "output_type": "execute_result"
    }
   ],
   "source": [
    "with sqlite3.connect(files[0]) as con:\n",
    "    df = pd.read_sql(\"select * from img limit 4\", con)\n",
    "df.style"
   ]
  },
  {
   "cell_type": "code",
   "execution_count": 44,
   "id": "95337d69-c83d-42cd-9cb8-6a11eb625e11",
   "metadata": {},
   "outputs": [],
   "source": [
    "urls = df2url_type(df)"
   ]
  },
  {
   "cell_type": "code",
   "execution_count": 48,
   "id": "1b17f159-f859-4824-b5e8-e0b99924d3a0",
   "metadata": {},
   "outputs": [
    {
     "data": {
      "text/plain": [
       "'https://www.nb.no/services/image/resolver/URN:NBN:no-nb_digavis_tidenskrav_null_null_19560611_47_131_1-1_001_null/268,3687,1824,1649/full/0/native.jpg'"
      ]
     },
     "execution_count": 48,
     "metadata": {},
     "output_type": "execute_result"
    }
   ],
   "source": [
    "urn2url(*urls[0][0])"
   ]
  },
  {
   "cell_type": "code",
   "execution_count": 12,
   "id": "e9edb82a-c1b9-4cb4-af1a-738e7e652b9e",
   "metadata": {},
   "outputs": [],
   "source": [
    "small_scale = 0.59\n",
    "large_scale = 1.58"
   ]
  },
  {
   "cell_type": "code",
   "execution_count": 13,
   "id": "1275cf9f-0fd0-4ac1-b1b2-eed7a3019bd9",
   "metadata": {},
   "outputs": [],
   "source": [
    "def df2url_type(df):\n",
    "    if df.filename[0].startswith(\"digibok\"):\n",
    "        picture_data = [(\n",
    "            (\n",
    "                f\"URN:NBN:no-nb_{r.filename.split('.')[0]}\", \n",
    "                r.elem_hpos, \n",
    "                r.elem_vpos, \n",
    "                r.elem_width, \n",
    "                r.elem_height\n",
    "            ), \n",
    "            r.elem_type\n",
    "        ) for _,r in df[\"filename elem_height elem_width elem_hpos elem_vpos elem_type\".split()].iterrows()]\n",
    "    else:\n",
    "        picture_data = [((f\"URN:NBN:no-nb_digavis_{r.filename.split('.')[0]}\", r.elem_hpos, r.elem_vpos, r.elem_width, r.elem_height), r.elem_type) for _,r in df[\"filename elem_height elem_width elem_hpos elem_vpos elem_type\".split()].iterrows()]\n",
    "    return picture_data"
   ]
  },
  {
   "cell_type": "code",
   "execution_count": 14,
   "id": "308d4a8f-2245-4408-aa77-4d5537dc004f",
   "metadata": {},
   "outputs": [],
   "source": [
    "def urn2url(urn, hpos, vpos, width, height, scale = large_scale, part = None):\n",
    "    if part is None:\n",
    "        url = \"https://www.nb.no/services/image/resolver/{urn}/{hpos},{vpos},{width},{height}/full/0/native.jpg\".format(\n",
    "            urn = urn, \n",
    "            width = int(width * scale), \n",
    "            height = int(height * scale), \n",
    "            vpos = int(vpos * scale), \n",
    "            hpos = int(hpos * scale)\n",
    "        )\n",
    "    else:\n",
    "        url = f\"https://www.nb.no/services/image/resolver/{urn}/full/0,{part}/0/native.jpg\"\n",
    "    return url"
   ]
  },
  {
   "cell_type": "code",
   "execution_count": 15,
   "id": "516f68c4-5f2c-44b8-a18f-3d3a89c5a92a",
   "metadata": {},
   "outputs": [],
   "source": [
    "def display_finds_df_type(df, cols = 5, scale=large_scale, size = 200):\n",
    "    \"\"\"A list of urls in r is displayed as HTML\"\"\"\n",
    "    data = df2url_type(df)\n",
    "    \n",
    "    quotient, remainder = divmod(len(data), cols)\n",
    "    j = 0\n",
    "    rows = \"\"\n",
    "    for i in range(quotient):\n",
    "        cells = ''.join([f\"<td><strong>{row[1]}</strong></td><td><img src='{urn2url(*row[0], scale=scale)}' width={size}</td>\" for row in data[j:j+cols]])\n",
    "        j += cols\n",
    "        rows += f\"<tr>{cells}</tr>\"\n",
    "    cells = ''.join([f\"<td><strong>{row[1]}</strong></td><td><img src='{urn2url(*row[0], scale=scale)}' width={size}</td>\" for row in data[j:j+remainder]])\n",
    "    rows += f\"<tr>{cells}</tr>\"\n",
    "    return HTML(f\"\"\"<html><head></head>\n",
    "     <body>\n",
    "     <table>\n",
    "     {rows}\n",
    "     </table>\n",
    "     </body>\n",
    "     </html>\"\"\")"
   ]
  },
  {
   "cell_type": "markdown",
   "id": "af80e347-fb80-4fba-821b-77dabcd2727e",
   "metadata": {},
   "source": [
    "## Read images"
   ]
  },
  {
   "cell_type": "code",
   "execution_count": 31,
   "id": "67a18eea-0be2-4ebe-b555-65680a73d8c3",
   "metadata": {},
   "outputs": [
    {
     "name": "stdout",
     "output_type": "stream",
     "text": [
      "CPU times: user 6.02 ms, sys: 0 ns, total: 6.02 ms\n",
      "Wall time: 11.7 ms\n"
     ]
    }
   ],
   "source": [
    "%%time\n",
    "with sqlite3.connect(random.choice(files)) as con:\n",
    "    df = pd.read_sql(\"select * from img where elem_type='' limit 200\", con)"
   ]
  },
  {
   "cell_type": "code",
   "execution_count": 33,
   "id": "e8df50cd-4367-4259-8ed2-0676ca91db71",
   "metadata": {},
   "outputs": [
    {
     "data": {
      "text/html": [
       "<html><head></head>\n",
       "     <body>\n",
       "     <table>\n",
       "     <tr><td><strong></strong></td><td><img src='https://www.nb.no/services/image/resolver/URN:NBN:no-nb_digavis_hamarstiftstidendenittentjueni_null_null_19570927_111_223_1-1_001_null/4291,10339,1449,653/full/0/native.jpg' width=300</td><td><strong></strong></td><td><img src='https://www.nb.no/services/image/resolver/URN:NBN:no-nb_digavis_hamarstiftstidendenittentjueni_null_null_19570927_111_223_1-1_001_null/4291,10992,1449,1582/full/0/native.jpg' width=300</td><td><strong></strong></td><td><img src='https://www.nb.no/services/image/resolver/URN:NBN:no-nb_digavis_hamarstiftstidendenittentjueni_null_null_19570927_111_223_1-1_001_null/4291,10339,1449,2236/full/0/native.jpg' width=300</td><td><strong></strong></td><td><img src='https://www.nb.no/services/image/resolver/URN:NBN:no-nb_digavis_hamarstiftstidendenittentjueni_null_null_19570927_111_223_1-1_001_null/4291,7932,1449,758/full/0/native.jpg' width=300</td><td><strong></strong></td><td><img src='https://www.nb.no/services/image/resolver/URN:NBN:no-nb_digavis_hamarstiftstidendenittentjueni_null_null_19570927_111_223_1-1_001_null/4291,8690,1449,1648/full/0/native.jpg' width=300</td></tr><tr><td><strong></strong></td><td><img src='https://www.nb.no/services/image/resolver/URN:NBN:no-nb_digavis_hamarstiftstidendenittentjueni_null_null_19570927_111_223_1-1_001_null/4291,7932,1449,2406/full/0/native.jpg' width=300</td><td><strong></strong></td><td><img src='https://www.nb.no/services/image/resolver/URN:NBN:no-nb_digavis_hamarstiftstidendenittentjueni_null_null_19570927_111_223_1-1_001_null/4291,5800,1449,559/full/0/native.jpg' width=300</td><td><strong></strong></td><td><img src='https://www.nb.no/services/image/resolver/URN:NBN:no-nb_digavis_hamarstiftstidendenittentjueni_null_null_19570927_111_223_1-1_001_null/4291,6359,1449,1572/full/0/native.jpg' width=300</td><td><strong></strong></td><td><img src='https://www.nb.no/services/image/resolver/URN:NBN:no-nb_digavis_hamarstiftstidendenittentjueni_null_null_19570927_111_223_1-1_001_null/4291,5800,1449,2132/full/0/native.jpg' width=300</td><td><strong></strong></td><td><img src='https://www.nb.no/services/image/resolver/URN:NBN:no-nb_digavis_hamarstiftstidendenittentjueni_null_null_19570927_111_223_1-1_001_null/5741,5913,3324,360/full/0/native.jpg' width=300</td></tr><tr><td><strong></strong></td><td><img src='https://www.nb.no/services/image/resolver/URN:NBN:no-nb_digavis_hamarstiftstidendenittentjueni_null_null_19570927_111_223_1-1_001_null/5741,6273,3324,322/full/0/native.jpg' width=300</td><td><strong></strong></td><td><img src='https://www.nb.no/services/image/resolver/URN:NBN:no-nb_digavis_hamarstiftstidendenittentjueni_null_null_19570927_111_223_1-1_001_null/5741,6595,1412,1231/full/0/native.jpg' width=300</td><td><strong></strong></td><td><img src='https://www.nb.no/services/image/resolver/URN:NBN:no-nb_digavis_hamarstiftstidendenittentjueni_null_null_19570927_111_223_1-1_001_null/7153,6595,1912,1231/full/0/native.jpg' width=300</td><td><strong></strong></td><td><img src='https://www.nb.no/services/image/resolver/URN:NBN:no-nb_digavis_hamarstiftstidendenittentjueni_null_null_19570927_111_223_1-1_001_null/5741,5913,3324,1913/full/0/native.jpg' width=300</td><td><strong></strong></td><td><img src='https://www.nb.no/services/image/resolver/URN:NBN:no-nb_digavis_hamarstiftstidendenittentjueni_null_null_19570927_111_223_1-1_001_null/2879,7629,1412,378/full/0/native.jpg' width=300</td></tr><tr><td><strong></strong></td><td><img src='https://www.nb.no/services/image/resolver/URN:NBN:no-nb_digavis_hamarstiftstidendenittentjueni_null_null_19570927_111_223_1-1_001_null/2879,8008,1412,1374/full/0/native.jpg' width=300</td><td><strong></strong></td><td><img src='https://www.nb.no/services/image/resolver/URN:NBN:no-nb_digavis_hamarstiftstidendenittentjueni_null_null_19570927_111_223_1-1_001_null/2879,7629,1412,1752/full/0/native.jpg' width=300</td><td><strong></strong></td><td><img src='https://www.nb.no/services/image/resolver/URN:NBN:no-nb_digavis_hamarstiftstidendenittentjueni_null_null_19570927_111_223_1-1_001_null/2879,9382,1412,236/full/0/native.jpg' width=300</td><td><strong></strong></td><td><img src='https://www.nb.no/services/image/resolver/URN:NBN:no-nb_digavis_hamarstiftstidendenittentjueni_null_null_19570927_111_223_1-1_001_null/2879,9618,1412,900/full/0/native.jpg' width=300</td><td><strong></strong></td><td><img src='https://www.nb.no/services/image/resolver/URN:NBN:no-nb_digavis_hamarstiftstidendenittentjueni_null_null_19570927_111_223_1-1_001_null/2879,9382,1412,1136/full/0/native.jpg' width=300</td></tr><tr><td><strong></strong></td><td><img src='https://www.nb.no/services/image/resolver/URN:NBN:no-nb_digavis_hamarstiftstidendenittentjueni_null_null_19570927_111_223_1-1_001_null/64,7146,2814,1345/full/0/native.jpg' width=300</td><td><strong></strong></td><td><img src='https://www.nb.no/services/image/resolver/URN:NBN:no-nb_digavis_hamarstiftstidendenittentjueni_null_null_19570927_111_223_1-1_001_null/64,8491,2814,256/full/0/native.jpg' width=300</td><td><strong></strong></td><td><img src='https://www.nb.no/services/image/resolver/URN:NBN:no-nb_digavis_hamarstiftstidendenittentjueni_null_null_19570927_111_223_1-1_001_null/64,8747,1374,1771/full/0/native.jpg' width=300</td><td><strong></strong></td><td><img src='https://www.nb.no/services/image/resolver/URN:NBN:no-nb_digavis_hamarstiftstidendenittentjueni_null_null_19570927_111_223_1-1_001_null/1438,8747,1440,1771/full/0/native.jpg' width=300</td><td><strong></strong></td><td><img src='https://www.nb.no/services/image/resolver/URN:NBN:no-nb_digavis_hamarstiftstidendenittentjueni_null_null_19570927_111_223_1-1_001_null/64,7146,2814,3373/full/0/native.jpg' width=300</td></tr><tr><td><strong></strong></td><td><img src='https://www.nb.no/services/image/resolver/URN:NBN:no-nb_digavis_hamarstiftstidendenittentjueni_null_null_19570927_111_223_1-1_001_null/64,1487,4227,853/full/0/native.jpg' width=300</td><td><strong></strong></td><td><img src='https://www.nb.no/services/image/resolver/URN:NBN:no-nb_digavis_hamarstiftstidendenittentjueni_null_null_19570927_111_223_1-1_001_null/64,6018,1402,1128/full/0/native.jpg' width=300</td><td><strong></strong></td><td><img src='https://www.nb.no/services/image/resolver/URN:NBN:no-nb_digavis_hamarstiftstidendenittentjueni_null_null_19570927_111_223_1-1_001_null/1466,6018,1412,1128/full/0/native.jpg' width=300</td><td><strong></strong></td><td><img src='https://www.nb.no/services/image/resolver/URN:NBN:no-nb_digavis_hamarstiftstidendenittentjueni_null_null_19570927_111_223_1-1_001_null/2879,6018,1412,1611/full/0/native.jpg' width=300</td><td><strong></strong></td><td><img src='https://www.nb.no/services/image/resolver/URN:NBN:no-nb_digavis_hamarstiftstidendenittentjueni_null_null_19570927_111_223_1-1_001_null/64,2341,4227,3221/full/0/native.jpg' width=300</td></tr><tr><td><strong></strong></td><td><img src='https://www.nb.no/services/image/resolver/URN:NBN:no-nb_digavis_hamarstiftstidendenittentjueni_null_null_19570927_111_223_1-1_001_null/64,5563,4227,454/full/0/native.jpg' width=300</td><td><strong></strong></td><td><img src='https://www.nb.no/services/image/resolver/URN:NBN:no-nb_digavis_hamarstiftstidendenittentjueni_null_null_19570927_111_223_1-1_001_null/64,1487,4227,6141/full/0/native.jpg' width=300</td><td><strong></strong></td><td><img src='https://www.nb.no/services/image/resolver/URN:NBN:no-nb_digavis_hamarstiftstidendenittentjueni_null_null_19570927_111_223_1-1_001_null/4291,3563,1449,767/full/0/native.jpg' width=300</td><td><strong></strong></td><td><img src='https://www.nb.no/services/image/resolver/URN:NBN:no-nb_digavis_hamarstiftstidendenittentjueni_null_null_19570927_111_223_1-1_001_null/4291,4331,1449,1469/full/0/native.jpg' width=300</td><td><strong></strong></td><td><img src='https://www.nb.no/services/image/resolver/URN:NBN:no-nb_digavis_hamarstiftstidendenittentjueni_null_null_19570927_111_223_1-1_001_null/4291,3563,1449,2236/full/0/native.jpg' width=300</td></tr><tr><td><strong></strong></td><td><img src='https://www.nb.no/services/image/resolver/URN:NBN:no-nb_digavis_hamarstiftstidendenittentjueni_null_null_19570927_111_223_1-1_001_null/4291,1487,2909,635/full/0/native.jpg' width=300</td><td><strong></strong></td><td><img src='https://www.nb.no/services/image/resolver/URN:NBN:no-nb_digavis_hamarstiftstidendenittentjueni_null_null_19570927_111_223_1-1_001_null/4291,2123,2909,322/full/0/native.jpg' width=300</td><td><strong></strong></td><td><img src='https://www.nb.no/services/image/resolver/URN:NBN:no-nb_digavis_hamarstiftstidendenittentjueni_null_null_19570927_111_223_1-1_001_null/4291,2445,1449,1118/full/0/native.jpg' width=300</td><td><strong></strong></td><td><img src='https://www.nb.no/services/image/resolver/URN:NBN:no-nb_digavis_hamarstiftstidendenittentjueni_null_null_19570927_111_223_1-1_001_null/5741,2445,1459,1279/full/0/native.jpg' width=300</td><td><strong></strong></td><td><img src='https://www.nb.no/services/image/resolver/URN:NBN:no-nb_digavis_hamarstiftstidendenittentjueni_null_null_19570927_111_223_1-1_001_null/4291,1487,2909,2236/full/0/native.jpg' width=300</td></tr><tr><td><strong></strong></td><td><img src='https://www.nb.no/services/image/resolver/URN:NBN:no-nb_digavis_hamarstiftstidendenittentjueni_null_null_19570927_111_223_1-1_001_null/5741,3724,1459,663/full/0/native.jpg' width=300</td><td><strong></strong></td><td><img src='https://www.nb.no/services/image/resolver/URN:NBN:no-nb_digavis_hamarstiftstidendenittentjueni_null_null_19570927_111_223_1-1_001_null/5741,4388,1459,1525/full/0/native.jpg' width=300</td><td><strong></strong></td><td><img src='https://www.nb.no/services/image/resolver/URN:NBN:no-nb_digavis_hamarstiftstidendenittentjueni_null_null_19570927_111_223_1-1_001_null/5741,3724,1459,2188/full/0/native.jpg' width=300</td><td><strong></strong></td><td><img src='https://www.nb.no/services/image/resolver/URN:NBN:no-nb_digavis_hamarstiftstidendenittentjueni_null_null_19570927_111_223_1-1_001_null/7200,4246,1864,416/full/0/native.jpg' width=300</td><td><strong></strong></td><td><img src='https://www.nb.no/services/image/resolver/URN:NBN:no-nb_digavis_hamarstiftstidendenittentjueni_null_null_19570927_111_223_1-1_001_null/7200,4662,1864,1250/full/0/native.jpg' width=300</td></tr><tr><td><strong></strong></td><td><img src='https://www.nb.no/services/image/resolver/URN:NBN:no-nb_digavis_hamarstiftstidendenittentjueni_null_null_19570927_111_223_1-1_001_null/7200,4246,1864,1667/full/0/native.jpg' width=300</td><td><strong></strong></td><td><img src='https://www.nb.no/services/image/resolver/URN:NBN:no-nb_digavis_hamarstiftstidendenittentjueni_null_null_19570927_111_223_1-1_001_null/64,10519,4227,2056/full/0/native.jpg' width=300</td><td><strong></strong></td><td><img src='https://www.nb.no/services/image/resolver/URN:NBN:no-nb_digavis_hamarstiftstidendenittentjueni_null_null_19570927_111_223_1-1_001_null/64,10519,4227,2056/full/0/native.jpg' width=300</td><td><strong></strong></td><td><img src='https://www.nb.no/services/image/resolver/URN:NBN:no-nb_digavis_hamarstiftstidendenittentjueni_null_null_19570927_111_223_1-1_001_null/7200,1487,1864,2758/full/0/native.jpg' width=300</td><td><strong></strong></td><td><img src='https://www.nb.no/services/image/resolver/URN:NBN:no-nb_digavis_hamarstiftstidendenittentjueni_null_null_19570927_111_223_1-1_001_null/7200,1487,1864,2758/full/0/native.jpg' width=300</td></tr><tr><td><strong></strong></td><td><img src='https://www.nb.no/services/image/resolver/URN:NBN:no-nb_digavis_hamarstiftstidendenittentjueni_null_null_19570927_111_223_1-1_001_null/5741,7827,3324,4747/full/0/native.jpg' width=300</td><td><strong></strong></td><td><img src='https://www.nb.no/services/image/resolver/URN:NBN:no-nb_digavis_hamarstiftstidendenittentjueni_null_null_19570927_111_223_1-1_001_null/5741,7827,3324,4747/full/0/native.jpg' width=300</td><td><strong></strong></td><td><img src='https://www.nb.no/services/image/resolver/URN:NBN:no-nb_digavis_hamarstiftstidendenittentjueni_null_null_19570927_111_223_1-1_002_null/7484,3252,1496,932/full/0/native.jpg' width=300</td><td><strong></strong></td><td><img src='https://www.nb.no/services/image/resolver/URN:NBN:no-nb_digavis_hamarstiftstidendenittentjueni_null_null_19570927_111_223_1-1_002_null/7484,3252,1496,932/full/0/native.jpg' width=300</td><td><strong></strong></td><td><img src='https://www.nb.no/services/image/resolver/URN:NBN:no-nb_digavis_hamarstiftstidendenittentjueni_null_null_19570927_111_223_1-1_002_null/4643,9794,2840,578/full/0/native.jpg' width=300</td></tr><tr><td><strong></strong></td><td><img src='https://www.nb.no/services/image/resolver/URN:NBN:no-nb_digavis_hamarstiftstidendenittentjueni_null_null_19570927_111_223_1-1_002_null/4643,10372,2840,200/full/0/native.jpg' width=300</td><td><strong></strong></td><td><img src='https://www.nb.no/services/image/resolver/URN:NBN:no-nb_digavis_hamarstiftstidendenittentjueni_null_null_19570927_111_223_1-1_002_null/4643,10572,1443,1847/full/0/native.jpg' width=300</td><td><strong></strong></td><td><img src='https://www.nb.no/services/image/resolver/URN:NBN:no-nb_digavis_hamarstiftstidendenittentjueni_null_null_19570927_111_223_1-1_002_null/6087,10572,1396,1847/full/0/native.jpg' width=300</td><td><strong></strong></td><td><img src='https://www.nb.no/services/image/resolver/URN:NBN:no-nb_digavis_hamarstiftstidendenittentjueni_null_null_19570927_111_223_1-1_002_null/4643,9794,2840,2626/full/0/native.jpg' width=300</td><td><strong></strong></td><td><img src='https://www.nb.no/services/image/resolver/URN:NBN:no-nb_digavis_hamarstiftstidendenittentjueni_null_null_19570927_111_223_1-1_002_null/4643,6735,2840,602/full/0/native.jpg' width=300</td></tr><tr><td><strong></strong></td><td><img src='https://www.nb.no/services/image/resolver/URN:NBN:no-nb_digavis_hamarstiftstidendenittentjueni_null_null_19570927_111_223_1-1_002_null/4643,7337,2840,165/full/0/native.jpg' width=300</td><td><strong></strong></td><td><img src='https://www.nb.no/services/image/resolver/URN:NBN:no-nb_digavis_hamarstiftstidendenittentjueni_null_null_19570927_111_223_1-1_002_null/4643,7503,1443,2290/full/0/native.jpg' width=300</td><td><strong></strong></td><td><img src='https://www.nb.no/services/image/resolver/URN:NBN:no-nb_digavis_hamarstiftstidendenittentjueni_null_null_19570927_111_223_1-1_002_null/6087,7503,1396,2290/full/0/native.jpg' width=300</td><td><strong></strong></td><td><img src='https://www.nb.no/services/image/resolver/URN:NBN:no-nb_digavis_hamarstiftstidendenittentjueni_null_null_19570927_111_223_1-1_002_null/4643,6735,2840,3058/full/0/native.jpg' width=300</td><td><strong></strong></td><td><img src='https://www.nb.no/services/image/resolver/URN:NBN:no-nb_digavis_hamarstiftstidendenittentjueni_null_null_19570927_111_223_1-1_002_null/158,1033,1621,401/full/0/native.jpg' width=300</td></tr><tr><td><strong></strong></td><td><img src='https://www.nb.no/services/image/resolver/URN:NBN:no-nb_digavis_hamarstiftstidendenittentjueni_null_null_19570927_111_223_1-1_002_null/158,395,1621,637/full/0/native.jpg' width=300</td><td><strong></strong></td><td><img src='https://www.nb.no/services/image/resolver/URN:NBN:no-nb_digavis_hamarstiftstidendenittentjueni_null_null_19570927_111_223_1-1_002_null/158,395,1621,1038/full/0/native.jpg' width=300</td><td><strong></strong></td><td><img src='https://www.nb.no/services/image/resolver/URN:NBN:no-nb_digavis_hamarstiftstidendenittentjueni_null_null_19570927_111_223_1-1_002_null/158,1434,1621,129/full/0/native.jpg' width=300</td><td><strong></strong></td><td><img src='https://www.nb.no/services/image/resolver/URN:NBN:no-nb_digavis_hamarstiftstidendenittentjueni_null_null_19570927_111_223_1-1_002_null/158,1564,1621,342/full/0/native.jpg' width=300</td><td><strong></strong></td><td><img src='https://www.nb.no/services/image/resolver/URN:NBN:no-nb_digavis_hamarstiftstidendenittentjueni_null_null_19570927_111_223_1-1_002_null/158,1434,1621,472/full/0/native.jpg' width=300</td></tr><tr><td><strong></strong></td><td><img src='https://www.nb.no/services/image/resolver/URN:NBN:no-nb_digavis_hamarstiftstidendenittentjueni_null_null_19570927_111_223_1-1_002_null/158,1906,1621,94/full/0/native.jpg' width=300</td><td><strong></strong></td><td><img src='https://www.nb.no/services/image/resolver/URN:NBN:no-nb_digavis_hamarstiftstidendenittentjueni_null_null_19570927_111_223_1-1_002_null/158,2000,1621,814/full/0/native.jpg' width=300</td><td><strong></strong></td><td><img src='https://www.nb.no/services/image/resolver/URN:NBN:no-nb_digavis_hamarstiftstidendenittentjueni_null_null_19570927_111_223_1-1_002_null/158,1906,1621,909/full/0/native.jpg' width=300</td><td><strong></strong></td><td><img src='https://www.nb.no/services/image/resolver/URN:NBN:no-nb_digavis_hamarstiftstidendenittentjueni_null_null_19570927_111_223_1-1_002_null/158,2815,1621,118/full/0/native.jpg' width=300</td><td><strong></strong></td><td><img src='https://www.nb.no/services/image/resolver/URN:NBN:no-nb_digavis_hamarstiftstidendenittentjueni_null_null_19570927_111_223_1-1_002_null/158,2933,1621,342/full/0/native.jpg' width=300</td></tr><tr><td><strong></strong></td><td><img src='https://www.nb.no/services/image/resolver/URN:NBN:no-nb_digavis_hamarstiftstidendenittentjueni_null_null_19570927_111_223_1-1_002_null/158,2815,1621,460/full/0/native.jpg' width=300</td><td><strong></strong></td><td><img src='https://www.nb.no/services/image/resolver/URN:NBN:no-nb_digavis_hamarstiftstidendenittentjueni_null_null_19570927_111_223_1-1_002_null/158,3275,1621,129/full/0/native.jpg' width=300</td><td><strong></strong></td><td><img src='https://www.nb.no/services/image/resolver/URN:NBN:no-nb_digavis_hamarstiftstidendenittentjueni_null_null_19570927_111_223_1-1_002_null/158,3406,1621,436/full/0/native.jpg' width=300</td><td><strong></strong></td><td><img src='https://www.nb.no/services/image/resolver/URN:NBN:no-nb_digavis_hamarstiftstidendenittentjueni_null_null_19570927_111_223_1-1_002_null/158,3275,1621,566/full/0/native.jpg' width=300</td><td><strong></strong></td><td><img src='https://www.nb.no/services/image/resolver/URN:NBN:no-nb_digavis_hamarstiftstidendenittentjueni_null_null_19570927_111_223_1-1_002_null/158,3842,1621,142/full/0/native.jpg' width=300</td></tr><tr><td><strong></strong></td><td><img src='https://www.nb.no/services/image/resolver/URN:NBN:no-nb_digavis_hamarstiftstidendenittentjueni_null_null_19570927_111_223_1-1_002_null/158,3983,1621,732/full/0/native.jpg' width=300</td><td><strong></strong></td><td><img src='https://www.nb.no/services/image/resolver/URN:NBN:no-nb_digavis_hamarstiftstidendenittentjueni_null_null_19570927_111_223_1-1_002_null/158,3842,1621,873/full/0/native.jpg' width=300</td><td><strong></strong></td><td><img src='https://www.nb.no/services/image/resolver/URN:NBN:no-nb_digavis_hamarstiftstidendenittentjueni_null_null_19570927_111_223_1-1_002_null/158,4715,1621,247/full/0/native.jpg' width=300</td><td><strong></strong></td><td><img src='https://www.nb.no/services/image/resolver/URN:NBN:no-nb_digavis_hamarstiftstidendenittentjueni_null_null_19570927_111_223_1-1_002_null/158,4963,1621,720/full/0/native.jpg' width=300</td><td><strong></strong></td><td><img src='https://www.nb.no/services/image/resolver/URN:NBN:no-nb_digavis_hamarstiftstidendenittentjueni_null_null_19570927_111_223_1-1_002_null/158,4715,1621,968/full/0/native.jpg' width=300</td></tr><tr><td><strong></strong></td><td><img src='https://www.nb.no/services/image/resolver/URN:NBN:no-nb_digavis_hamarstiftstidendenittentjueni_null_null_19570927_111_223_1-1_002_null/158,5684,1621,106/full/0/native.jpg' width=300</td><td><strong></strong></td><td><img src='https://www.nb.no/services/image/resolver/URN:NBN:no-nb_digavis_hamarstiftstidendenittentjueni_null_null_19570927_111_223_1-1_002_null/158,5790,1621,484/full/0/native.jpg' width=300</td><td><strong></strong></td><td><img src='https://www.nb.no/services/image/resolver/URN:NBN:no-nb_digavis_hamarstiftstidendenittentjueni_null_null_19570927_111_223_1-1_002_null/158,5684,1621,590/full/0/native.jpg' width=300</td><td><strong></strong></td><td><img src='https://www.nb.no/services/image/resolver/URN:NBN:no-nb_digavis_hamarstiftstidendenittentjueni_null_null_19570927_111_223_1-1_002_null/833,6274,946,448/full/0/native.jpg' width=300</td><td><strong></strong></td><td><img src='https://www.nb.no/services/image/resolver/URN:NBN:no-nb_digavis_hamarstiftstidendenittentjueni_null_null_19570927_111_223_1-1_002_null/158,6723,1621,684/full/0/native.jpg' width=300</td></tr><tr><td><strong></strong></td><td><img src='https://www.nb.no/services/image/resolver/URN:NBN:no-nb_digavis_hamarstiftstidendenittentjueni_null_null_19570927_111_223_1-1_002_null/1780,395,1431,4049/full/0/native.jpg' width=300</td><td><strong></strong></td><td><img src='https://www.nb.no/services/image/resolver/URN:NBN:no-nb_digavis_hamarstiftstidendenittentjueni_null_null_19570927_111_223_1-1_002_null/158,6274,674,448/full/0/native.jpg' width=300</td><td><strong></strong></td><td><img src='https://www.nb.no/services/image/resolver/URN:NBN:no-nb_digavis_hamarstiftstidendenittentjueni_null_null_19570927_111_223_1-1_002_null/158,395,3053,7012/full/0/native.jpg' width=300</td><td><strong></strong></td><td><img src='https://www.nb.no/services/image/resolver/URN:NBN:no-nb_digavis_hamarstiftstidendenittentjueni_null_null_19570927_111_223_1-1_002_null/1780,4445,1431,248/full/0/native.jpg' width=300</td><td><strong></strong></td><td><img src='https://www.nb.no/services/image/resolver/URN:NBN:no-nb_digavis_hamarstiftstidendenittentjueni_null_null_19570927_111_223_1-1_002_null/1780,4693,1431,1865/full/0/native.jpg' width=300</td></tr><tr><td><strong></strong></td><td><img src='https://www.nb.no/services/image/resolver/URN:NBN:no-nb_digavis_hamarstiftstidendenittentjueni_null_null_19570927_111_223_1-1_002_null/1780,4445,1431,2113/full/0/native.jpg' width=300</td><td><strong></strong></td><td><img src='https://www.nb.no/services/image/resolver/URN:NBN:no-nb_digavis_hamarstiftstidendenittentjueni_null_null_19570927_111_223_1-1_002_null/1780,6559,1431,271/full/0/native.jpg' width=300</td><td><strong></strong></td><td><img src='https://www.nb.no/services/image/resolver/URN:NBN:no-nb_digavis_hamarstiftstidendenittentjueni_null_null_19570927_111_223_1-1_002_null/1780,6830,1431,1523/full/0/native.jpg' width=300</td><td><strong></strong></td><td><img src='https://www.nb.no/services/image/resolver/URN:NBN:no-nb_digavis_hamarstiftstidendenittentjueni_null_null_19570927_111_223_1-1_002_null/1780,6559,1431,1794/full/0/native.jpg' width=300</td><td><strong></strong></td><td><img src='https://www.nb.no/services/image/resolver/URN:NBN:no-nb_digavis_hamarstiftstidendenittentjueni_null_null_19570927_111_223_1-1_002_null/4892,785,1195,295/full/0/native.jpg' width=300</td></tr><tr><td><strong></strong></td><td><img src='https://www.nb.no/services/image/resolver/URN:NBN:no-nb_digavis_hamarstiftstidendenittentjueni_null_null_19570927_111_223_1-1_002_null/4643,1080,1443,720/full/0/native.jpg' width=300</td><td><strong></strong></td><td><img src='https://www.nb.no/services/image/resolver/URN:NBN:no-nb_digavis_hamarstiftstidendenittentjueni_null_null_19570927_111_223_1-1_002_null/4643,785,248,295/full/0/native.jpg' width=300</td><td><strong></strong></td><td><img src='https://www.nb.no/services/image/resolver/URN:NBN:no-nb_digavis_hamarstiftstidendenittentjueni_null_null_19570927_111_223_1-1_002_null/4643,785,1443,1015/full/0/native.jpg' width=300</td><td><strong></strong></td><td><img src='https://www.nb.no/services/image/resolver/URN:NBN:no-nb_digavis_hamarstiftstidendenittentjueni_null_null_19570927_111_223_1-1_002_null/5058,1800,1029,483/full/0/native.jpg' width=300</td><td><strong></strong></td><td><img src='https://www.nb.no/services/image/resolver/URN:NBN:no-nb_digavis_hamarstiftstidendenittentjueni_null_null_19570927_111_223_1-1_002_null/4643,2284,1443,1286/full/0/native.jpg' width=300</td></tr><tr><td><strong></strong></td><td><img src='https://www.nb.no/services/image/resolver/URN:NBN:no-nb_digavis_hamarstiftstidendenittentjueni_null_null_19570927_111_223_1-1_002_null/4643,1800,414,483/full/0/native.jpg' width=300</td><td><strong></strong></td><td><img src='https://www.nb.no/services/image/resolver/URN:NBN:no-nb_digavis_hamarstiftstidendenittentjueni_null_null_19570927_111_223_1-1_002_null/4643,1800,1443,1770/full/0/native.jpg' width=300</td><td><strong></strong></td><td><img src='https://www.nb.no/services/image/resolver/URN:NBN:no-nb_digavis_hamarstiftstidendenittentjueni_null_null_19570927_111_223_1-1_002_null/4643,3571,1443,448/full/0/native.jpg' width=300</td><td><strong></strong></td><td><img src='https://www.nb.no/services/image/resolver/URN:NBN:no-nb_digavis_hamarstiftstidendenittentjueni_null_null_19570927_111_223_1-1_002_null/4643,4019,1443,673/full/0/native.jpg' width=300</td><td><strong></strong></td><td><img src='https://www.nb.no/services/image/resolver/URN:NBN:no-nb_digavis_hamarstiftstidendenittentjueni_null_null_19570927_111_223_1-1_002_null/4643,3571,1443,1121/full/0/native.jpg' width=300</td></tr><tr><td><strong></strong></td><td><img src='https://www.nb.no/services/image/resolver/URN:NBN:no-nb_digavis_hamarstiftstidendenittentjueni_null_null_19570927_111_223_1-1_002_null/6087,4764,1395,507/full/0/native.jpg' width=300</td><td><strong></strong></td><td><img src='https://www.nb.no/services/image/resolver/URN:NBN:no-nb_digavis_hamarstiftstidendenittentjueni_null_null_19570927_111_223_1-1_002_null/6087,5271,1396,1463/full/0/native.jpg' width=300</td><td><strong></strong></td><td><img src='https://www.nb.no/services/image/resolver/URN:NBN:no-nb_digavis_hamarstiftstidendenittentjueni_null_null_19570927_111_223_1-1_002_null/6087,4764,1396,1971/full/0/native.jpg' width=300</td><td><strong></strong></td><td><img src='https://www.nb.no/services/image/resolver/URN:NBN:no-nb_digavis_hamarstiftstidendenittentjueni_null_null_19570927_111_223_1-1_002_null/7484,4185,1496,437/full/0/native.jpg' width=300</td><td><strong></strong></td><td><img src='https://www.nb.no/services/image/resolver/URN:NBN:no-nb_digavis_hamarstiftstidendenittentjueni_null_null_19570927_111_223_1-1_002_null/7484,4622,1496,1605/full/0/native.jpg' width=300</td></tr><tr><td><strong></strong></td><td><img src='https://www.nb.no/services/image/resolver/URN:NBN:no-nb_digavis_hamarstiftstidendenittentjueni_null_null_19570927_111_223_1-1_002_null/7484,4185,1496,2042/full/0/native.jpg' width=300</td><td><strong></strong></td><td><img src='https://www.nb.no/services/image/resolver/URN:NBN:no-nb_digavis_hamarstiftstidendenittentjueni_null_null_19570927_111_223_1-1_002_null/4643,4692,1443,236/full/0/native.jpg' width=300</td><td><strong></strong></td><td><img src='https://www.nb.no/services/image/resolver/URN:NBN:no-nb_digavis_hamarstiftstidendenittentjueni_null_null_19570927_111_223_1-1_002_null/4643,4929,1443,1805/full/0/native.jpg' width=300</td><td><strong></strong></td><td><img src='https://www.nb.no/services/image/resolver/URN:NBN:no-nb_digavis_hamarstiftstidendenittentjueni_null_null_19570927_111_223_1-1_002_null/6087,3252,1395,1511/full/0/native.jpg' width=300</td><td><strong></strong></td><td><img src='https://www.nb.no/services/image/resolver/URN:NBN:no-nb_digavis_hamarstiftstidendenittentjueni_null_null_19570927_111_223_1-1_002_null/4643,3252,2839,3482/full/0/native.jpg' width=300</td></tr><tr><td><strong></strong></td><td><img src='https://www.nb.no/services/image/resolver/URN:NBN:no-nb_digavis_hamarstiftstidendenittentjueni_null_null_19570927_111_223_1-1_002_null/7282,395,1698,767/full/0/native.jpg' width=300</td><td><strong></strong></td><td><img src='https://www.nb.no/services/image/resolver/URN:NBN:no-nb_digavis_hamarstiftstidendenittentjueni_null_null_19570927_111_223_1-1_002_null/6087,1162,1396,2089/full/0/native.jpg' width=300</td><td><strong></strong></td><td><img src='https://www.nb.no/services/image/resolver/URN:NBN:no-nb_digavis_hamarstiftstidendenittentjueni_null_null_19570927_111_223_1-1_002_null/7484,1162,1496,2089/full/0/native.jpg' width=300</td><td><strong></strong></td><td><img src='https://www.nb.no/services/image/resolver/URN:NBN:no-nb_digavis_hamarstiftstidendenittentjueni_null_null_19570927_111_223_1-1_002_null/6087,395,1195,767/full/0/native.jpg' width=300</td><td><strong></strong></td><td><img src='https://www.nb.no/services/image/resolver/URN:NBN:no-nb_digavis_hamarstiftstidendenittentjueni_null_null_19570927_111_223_1-1_002_null/6087,395,2893,2857/full/0/native.jpg' width=300</td></tr><tr><td><strong></strong></td><td><img src='https://www.nb.no/services/image/resolver/URN:NBN:no-nb_digavis_hamarstiftstidendenittentjueni_null_null_19570927_111_223_1-1_002_null/7934,6228,1046,460/full/0/native.jpg' width=300</td><td><strong></strong></td><td><img src='https://www.nb.no/services/image/resolver/URN:NBN:no-nb_digavis_hamarstiftstidendenittentjueni_null_null_19570927_111_223_1-1_002_null/7484,6688,1496,1228/full/0/native.jpg' width=300</td><td><strong></strong></td><td><img src='https://www.nb.no/services/image/resolver/URN:NBN:no-nb_digavis_hamarstiftstidendenittentjueni_null_null_19570927_111_223_1-1_002_null/7484,6228,450,460/full/0/native.jpg' width=300</td><td><strong></strong></td><td><img src='https://www.nb.no/services/image/resolver/URN:NBN:no-nb_digavis_hamarstiftstidendenittentjueni_null_null_19570927_111_223_1-1_002_null/7484,6228,1496,1688/full/0/native.jpg' width=300</td><td><strong></strong></td><td><img src='https://www.nb.no/services/image/resolver/URN:NBN:no-nb_digavis_hamarstiftstidendenittentjueni_null_null_19570927_111_223_1-1_002_null/158,7408,1621,5011/full/0/native.jpg' width=300</td></tr><tr><td><strong></strong></td><td><img src='https://www.nb.no/services/image/resolver/URN:NBN:no-nb_digavis_hamarstiftstidendenittentjueni_null_null_19570927_111_223_1-1_002_null/158,7408,1621,5011/full/0/native.jpg' width=300</td><td><strong></strong></td><td><img src='https://www.nb.no/services/image/resolver/URN:NBN:no-nb_digavis_hamarstiftstidendenittentjueni_null_null_19570927_111_223_1-1_002_null/7484,7916,1496,4505/full/0/native.jpg' width=300</td><td><strong></strong></td><td><img src='https://www.nb.no/services/image/resolver/URN:NBN:no-nb_digavis_hamarstiftstidendenittentjueni_null_null_19570927_111_223_1-1_002_null/7484,7916,1496,4505/full/0/native.jpg' width=300</td><td><strong></strong></td><td><img src='https://www.nb.no/services/image/resolver/URN:NBN:no-nb_digavis_hamarstiftstidendenittentjueni_null_null_19570927_111_223_1-1_002_null/2336,8353,875,283/full/0/native.jpg' width=300</td><td><strong></strong></td><td><img src='https://www.nb.no/services/image/resolver/URN:NBN:no-nb_digavis_hamarstiftstidendenittentjueni_null_null_19570927_111_223_1-1_002_null/1780,8637,1431,3784/full/0/native.jpg' width=300</td></tr><tr><td><strong></strong></td><td><img src='https://www.nb.no/services/image/resolver/URN:NBN:no-nb_digavis_hamarstiftstidendenittentjueni_null_null_19570927_111_223_1-1_002_null/3211,395,1431,4297/full/0/native.jpg' width=300</td><td><strong></strong></td><td><img src='https://www.nb.no/services/image/resolver/URN:NBN:no-nb_digavis_hamarstiftstidendenittentjueni_null_null_19570927_111_223_1-1_002_null/3211,6369,1431,6051/full/0/native.jpg' width=300</td><td><strong></strong></td><td><img src='https://www.nb.no/services/image/resolver/URN:NBN:no-nb_digavis_hamarstiftstidendenittentjueni_null_null_19570927_111_223_1-1_002_null/4643,395,1443,389/full/0/native.jpg' width=300</td><td><strong></strong></td><td><img src='https://www.nb.no/services/image/resolver/URN:NBN:no-nb_digavis_hamarstiftstidendenittentjueni_null_null_19570927_111_223_1-1_002_null/1780,8353,556,283/full/0/native.jpg' width=300</td><td><strong></strong></td><td><img src='https://www.nb.no/services/image/resolver/URN:NBN:no-nb_digavis_hamarstiftstidendenittentjueni_null_null_19570927_111_223_1-1_002_null/3211,4692,1431,1676/full/0/native.jpg' width=300</td></tr><tr><td><strong></strong></td><td><img src='https://www.nb.no/services/image/resolver/URN:NBN:no-nb_digavis_hamarstiftstidendenittentjueni_null_null_19570927_111_223_1-1_002_null/1780,395,4307,12026/full/0/native.jpg' width=300</td><td><strong></strong></td><td><img src='https://www.nb.no/services/image/resolver/URN:NBN:no-nb_digavis_hamarstiftstidendenittentjueni_null_null_19570927_111_223_1-1_003_null/81,465,1428,352/full/0/native.jpg' width=300</td><td><strong></strong></td><td><img src='https://www.nb.no/services/image/resolver/URN:NBN:no-nb_digavis_hamarstiftstidendenittentjueni_null_null_19570927_111_223_1-1_003_null/81,289,1428,176/full/0/native.jpg' width=300</td><td><strong></strong></td><td><img src='https://www.nb.no/services/image/resolver/URN:NBN:no-nb_digavis_hamarstiftstidendenittentjueni_null_null_19570927_111_223_1-1_003_null/81,818,1428,9887/full/0/native.jpg' width=300</td><td><strong></strong></td><td><img src='https://www.nb.no/services/image/resolver/URN:NBN:no-nb_digavis_hamarstiftstidendenittentjueni_null_null_19570927_111_223_1-1_003_null/81,289,1428,10417/full/0/native.jpg' width=300</td></tr><tr><td><strong></strong></td><td><img src='https://www.nb.no/services/image/resolver/URN:NBN:no-nb_digavis_hamarstiftstidendenittentjueni_null_null_19570927_111_223_1-1_003_null/81,10706,1428,289/full/0/native.jpg' width=300</td><td><strong></strong></td><td><img src='https://www.nb.no/services/image/resolver/URN:NBN:no-nb_digavis_hamarstiftstidendenittentjueni_null_null_19570927_111_223_1-1_003_null/81,10995,1428,1477/full/0/native.jpg' width=300</td><td><strong></strong></td><td><img src='https://www.nb.no/services/image/resolver/URN:NBN:no-nb_digavis_hamarstiftstidendenittentjueni_null_null_19570927_111_223_1-1_003_null/1510,289,1412,7367/full/0/native.jpg' width=300</td><td><strong></strong></td><td><img src='https://www.nb.no/services/image/resolver/URN:NBN:no-nb_digavis_hamarstiftstidendenittentjueni_null_null_19570927_111_223_1-1_003_null/81,289,2841,12183/full/0/native.jpg' width=300</td><td><strong></strong></td><td><img src='https://www.nb.no/services/image/resolver/URN:NBN:no-nb_digavis_hamarstiftstidendenittentjueni_null_null_19570927_111_223_1-1_003_null/1510,7657,1412,689/full/0/native.jpg' width=300</td></tr><tr><td><strong></strong></td><td><img src='https://www.nb.no/services/image/resolver/URN:NBN:no-nb_digavis_hamarstiftstidendenittentjueni_null_null_19570927_111_223_1-1_003_null/1510,8346,1412,4126/full/0/native.jpg' width=300</td><td><strong></strong></td><td><img src='https://www.nb.no/services/image/resolver/URN:NBN:no-nb_digavis_hamarstiftstidendenittentjueni_null_null_19570927_111_223_1-1_003_null/2922,9192,1459,3279/full/0/native.jpg' width=300</td><td><strong></strong></td><td><img src='https://www.nb.no/services/image/resolver/URN:NBN:no-nb_digavis_hamarstiftstidendenittentjueni_null_null_19570927_111_223_1-1_003_null/1510,7657,2871,4816/full/0/native.jpg' width=300</td><td><strong></strong></td><td><img src='https://www.nb.no/services/image/resolver/URN:NBN:no-nb_digavis_hamarstiftstidendenittentjueni_null_null_19570927_111_223_1-1_003_null/5797,6193,1422,391/full/0/native.jpg' width=300</td><td><strong></strong></td><td><img src='https://www.nb.no/services/image/resolver/URN:NBN:no-nb_digavis_hamarstiftstidendenittentjueni_null_null_19570927_111_223_1-1_003_null/5797,6584,1422,2525/full/0/native.jpg' width=300</td></tr><tr><td><strong></strong></td><td><img src='https://www.nb.no/services/image/resolver/URN:NBN:no-nb_digavis_hamarstiftstidendenittentjueni_null_null_19570927_111_223_1-1_003_null/7220,8849,1873,3623/full/0/native.jpg' width=300</td><td><strong></strong></td><td><img src='https://www.nb.no/services/image/resolver/URN:NBN:no-nb_digavis_hamarstiftstidendenittentjueni_null_null_19570927_111_223_1-1_003_null/5797,6193,3296,6279/full/0/native.jpg' width=300</td><td><strong></strong></td><td><img src='https://www.nb.no/services/image/resolver/URN:NBN:no-nb_digavis_hamarstiftstidendenittentjueni_null_null_19570927_111_223_1-1_003_null/7220,5470,1873,722/full/0/native.jpg' width=300</td><td><strong></strong></td><td><img src='https://www.nb.no/services/image/resolver/URN:NBN:no-nb_digavis_hamarstiftstidendenittentjueni_null_null_19570927_111_223_1-1_003_null/7220,6193,1873,2656/full/0/native.jpg' width=300</td><td><strong></strong></td><td><img src='https://www.nb.no/services/image/resolver/URN:NBN:no-nb_digavis_hamarstiftstidendenittentjueni_null_null_19570927_111_223_1-1_003_null/7220,5470,1873,3378/full/0/native.jpg' width=300</td></tr><tr><td><strong></strong></td><td><img src='https://www.nb.no/services/image/resolver/URN:NBN:no-nb_digavis_hamarstiftstidendenittentjueni_null_null_19570927_111_223_1-1_003_null/5797,2399,3296,367/full/0/native.jpg' width=300</td><td><strong></strong></td><td><img src='https://www.nb.no/services/image/resolver/URN:NBN:no-nb_digavis_hamarstiftstidendenittentjueni_null_null_19570927_111_223_1-1_003_null/5797,2767,1422,3426/full/0/native.jpg' width=300</td><td><strong></strong></td><td><img src='https://www.nb.no/services/image/resolver/URN:NBN:no-nb_digavis_hamarstiftstidendenittentjueni_null_null_19570927_111_223_1-1_003_null/7220,2767,1873,2703/full/0/native.jpg' width=300</td><td><strong></strong></td><td><img src='https://www.nb.no/services/image/resolver/URN:NBN:no-nb_digavis_hamarstiftstidendenittentjueni_null_null_19570927_111_223_1-1_003_null/5797,2399,3296,3793/full/0/native.jpg' width=300</td><td><strong></strong></td><td><img src='https://www.nb.no/services/image/resolver/URN:NBN:no-nb_digavis_hamarstiftstidendenittentjueni_null_null_19570927_111_223_1-1_003_null/5797,289,3296,581/full/0/native.jpg' width=300</td></tr><tr><td><strong></strong></td><td><img src='https://www.nb.no/services/image/resolver/URN:NBN:no-nb_digavis_hamarstiftstidendenittentjueni_null_null_19570927_111_223_1-1_003_null/5797,870,3296,296/full/0/native.jpg' width=300</td><td><strong></strong></td><td><img src='https://www.nb.no/services/image/resolver/URN:NBN:no-nb_digavis_hamarstiftstidendenittentjueni_null_null_19570927_111_223_1-1_003_null/5797,1166,1423,1232/full/0/native.jpg' width=300</td><td><strong></strong></td><td><img src='https://www.nb.no/services/image/resolver/URN:NBN:no-nb_digavis_hamarstiftstidendenittentjueni_null_null_19570927_111_223_1-1_003_null/7220,1166,1873,1232/full/0/native.jpg' width=300</td><td><strong></strong></td><td><img src='https://www.nb.no/services/image/resolver/URN:NBN:no-nb_digavis_hamarstiftstidendenittentjueni_null_null_19570927_111_223_1-1_003_null/5797,289,3296,2109/full/0/native.jpg' width=300</td><td><strong></strong></td><td><img src='https://www.nb.no/services/image/resolver/URN:NBN:no-nb_digavis_hamarstiftstidendenittentjueni_null_null_19570927_111_223_1-1_003_null/2922,289,2874,438/full/0/native.jpg' width=300</td></tr><tr><td><strong></strong></td><td><img src='https://www.nb.no/services/image/resolver/URN:NBN:no-nb_digavis_hamarstiftstidendenittentjueni_null_null_19570927_111_223_1-1_003_null/2922,728,2874,402/full/0/native.jpg' width=300</td><td><strong></strong></td><td><img src='https://www.nb.no/services/image/resolver/URN:NBN:no-nb_digavis_hamarstiftstidendenittentjueni_null_null_19570927_111_223_1-1_003_null/2922,3668,1459,5524/full/0/native.jpg' width=300</td><td><strong></strong></td><td><img src='https://www.nb.no/services/image/resolver/URN:NBN:no-nb_digavis_hamarstiftstidendenittentjueni_null_null_19570927_111_223_1-1_003_null/4381,3668,1415,5489/full/0/native.jpg' width=300</td><td><strong></strong></td><td><img src='https://www.nb.no/services/image/resolver/URN:NBN:no-nb_digavis_hamarstiftstidendenittentjueni_null_null_19570927_111_223_1-1_003_null/2922,1131,2874,2240/full/0/native.jpg' width=300</td><td><strong></strong></td><td><img src='https://www.nb.no/services/image/resolver/URN:NBN:no-nb_digavis_hamarstiftstidendenittentjueni_null_null_19570927_111_223_1-1_003_null/2922,3371,2874,296/full/0/native.jpg' width=300</td></tr><tr><td><strong></strong></td><td><img src='https://www.nb.no/services/image/resolver/URN:NBN:no-nb_digavis_hamarstiftstidendenittentjueni_null_null_19570927_111_223_1-1_003_null/4381,9157,2837,2691/full/0/native.jpg' width=300</td><td><strong></strong></td><td><img src='https://www.nb.no/services/image/resolver/URN:NBN:no-nb_digavis_hamarstiftstidendenittentjueni_null_null_19570927_111_223_1-1_003_null/4381,11848,2837,624/full/0/native.jpg' width=300</td><td><strong></strong></td><td><img src='https://www.nb.no/services/image/resolver/URN:NBN:no-nb_digavis_hamarstiftstidendenittentjueni_null_null_19570927_111_223_1-1_003_null/2922,289,4296,12184/full/0/native.jpg' width=300</td><td><strong></strong></td><td><img src='https://www.nb.no/services/image/resolver/URN:NBN:no-nb_digavis_hamarstiftstidendenittentjueni_null_null_19570927_111_223_1-1_004_null/92,281,1480,426/full/0/native.jpg' width=300</td><td><strong></strong></td><td><img src='https://www.nb.no/services/image/resolver/URN:NBN:no-nb_digavis_hamarstiftstidendenittentjueni_null_null_19570927_111_223_1-1_004_null/92,708,1480,10128/full/0/native.jpg' width=300</td></tr><tr><td><strong></strong></td><td><img src='https://www.nb.no/services/image/resolver/URN:NBN:no-nb_digavis_hamarstiftstidendenittentjueni_null_null_19570927_111_223_1-1_004_null/92,281,1480,10555/full/0/native.jpg' width=300</td><td><strong></strong></td><td><img src='https://www.nb.no/services/image/resolver/URN:NBN:no-nb_digavis_hamarstiftstidendenittentjueni_null_null_19570927_111_223_1-1_004_null/92,10836,1480,426/full/0/native.jpg' width=300</td><td><strong></strong></td><td><img src='https://www.nb.no/services/image/resolver/URN:NBN:no-nb_digavis_hamarstiftstidendenittentjueni_null_null_19570927_111_223_1-1_004_null/92,11263,1515,1199/full/0/native.jpg' width=300</td><td><strong></strong></td><td><img src='https://www.nb.no/services/image/resolver/URN:NBN:no-nb_digavis_hamarstiftstidendenittentjueni_null_null_19570927_111_223_1-1_004_null/92,10836,1515,1626/full/0/native.jpg' width=300</td><td><strong></strong></td><td><img src='https://www.nb.no/services/image/resolver/URN:NBN:no-nb_digavis_hamarstiftstidendenittentjueni_null_null_19570927_111_223_1-1_004_null/1572,1346,2878,296/full/0/native.jpg' width=300</td></tr><tr><td><strong></strong></td><td><img src='https://www.nb.no/services/image/resolver/URN:NBN:no-nb_digavis_hamarstiftstidendenittentjueni_null_null_19570927_111_223_1-1_004_null/1572,1074,2878,271/full/0/native.jpg' width=300</td><td><strong></strong></td><td><img src='https://www.nb.no/services/image/resolver/URN:NBN:no-nb_digavis_hamarstiftstidendenittentjueni_null_null_19570927_111_223_1-1_004_null/1572,1643,2878,153/full/0/native.jpg' width=300</td><td><strong></strong></td><td><img src='https://www.nb.no/services/image/resolver/URN:NBN:no-nb_digavis_hamarstiftstidendenittentjueni_null_null_19570927_111_223_1-1_004_null/1572,1797,1421,4181/full/0/native.jpg' width=300</td><td><strong></strong></td><td><img src='https://www.nb.no/services/image/resolver/URN:NBN:no-nb_digavis_hamarstiftstidendenittentjueni_null_null_19570927_111_223_1-1_004_null/2994,1797,1456,4181/full/0/native.jpg' width=300</td><td><strong></strong></td><td><img src='https://www.nb.no/services/image/resolver/URN:NBN:no-nb_digavis_hamarstiftstidendenittentjueni_null_null_19570927_111_223_1-1_004_null/2190,281,3636,793/full/0/native.jpg' width=300</td></tr><tr><td><strong></strong></td><td><img src='https://www.nb.no/services/image/resolver/URN:NBN:no-nb_digavis_hamarstiftstidendenittentjueni_null_null_19570927_111_223_1-1_004_null/1572,281,617,793/full/0/native.jpg' width=300</td><td><strong></strong></td><td><img src='https://www.nb.no/services/image/resolver/URN:NBN:no-nb_digavis_hamarstiftstidendenittentjueni_null_null_19570927_111_223_1-1_004_null/1572,281,4253,5697/full/0/native.jpg' width=300</td><td><strong></strong></td><td><img src='https://www.nb.no/services/image/resolver/URN:NBN:no-nb_digavis_hamarstiftstidendenittentjueni_null_null_19570927_111_223_1-1_004_null/4450,1074,1375,520/full/0/native.jpg' width=300</td><td><strong></strong></td><td><img src='https://www.nb.no/services/image/resolver/URN:NBN:no-nb_digavis_hamarstiftstidendenittentjueni_null_null_19570927_111_223_1-1_004_null/4450,1595,1375,1907/full/0/native.jpg' width=300</td><td><strong></strong></td><td><img src='https://www.nb.no/services/image/resolver/URN:NBN:no-nb_digavis_hamarstiftstidendenittentjueni_null_null_19570927_111_223_1-1_004_null/4450,1074,1375,2428/full/0/native.jpg' width=300</td></tr><tr><td><strong></strong></td><td><img src='https://www.nb.no/services/image/resolver/URN:NBN:no-nb_digavis_hamarstiftstidendenittentjueni_null_null_19570927_111_223_1-1_004_null/4450,3503,1375,343/full/0/native.jpg' width=300</td><td><strong></strong></td><td><img src='https://www.nb.no/services/image/resolver/URN:NBN:no-nb_digavis_hamarstiftstidendenittentjueni_null_null_19570927_111_223_1-1_004_null/4450,3846,1375,2180/full/0/native.jpg' width=300</td><td><strong></strong></td><td><img src='https://www.nb.no/services/image/resolver/URN:NBN:no-nb_digavis_hamarstiftstidendenittentjueni_null_null_19570927_111_223_1-1_004_null/4450,3503,1375,2523/full/0/native.jpg' width=300</td><td><strong></strong></td><td><img src='https://www.nb.no/services/image/resolver/URN:NBN:no-nb_digavis_hamarstiftstidendenittentjueni_null_null_19570927_111_223_1-1_004_null/4450,6026,1375,319/full/0/native.jpg' width=300</td><td><strong></strong></td><td><img src='https://www.nb.no/services/image/resolver/URN:NBN:no-nb_digavis_hamarstiftstidendenittentjueni_null_null_19570927_111_223_1-1_004_null/4450,6346,1375,1575/full/0/native.jpg' width=300</td></tr><tr></tr>\n",
       "     </table>\n",
       "     </body>\n",
       "     </html>"
      ],
      "text/plain": [
       "<IPython.core.display.HTML object>"
      ]
     },
     "execution_count": 33,
     "metadata": {},
     "output_type": "execute_result"
    }
   ],
   "source": [
    "display_finds_df_type(df, scale = small_scale, size=300)"
   ]
  },
  {
   "cell_type": "code",
   "execution_count": 26,
   "id": "92174de9-3dde-4138-bf86-07272e1cd0b6",
   "metadata": {},
   "outputs": [],
   "source": [
    "\n",
    "\n",
    "def counts(f):\n",
    "    fname = f.split('/')[1].split('.')[0]\n",
    "    with sqlite3.connect(f) as con:\n",
    "        res = pd.read_sql(f\"select elem_type, count(*) as {fname} from img group by elem_type\", con)\n",
    "    return res\n",
    "\n",
    "def index(f):\n",
    "    with sqlite3.connect(f) as con:\n",
    "        con.execute(\"create index _et_ on img (elem_type, filename)\")"
   ]
  },
  {
   "cell_type": "code",
   "execution_count": 17,
   "id": "867f5e1b-9430-4e35-b9ce-67841dcdcd18",
   "metadata": {},
   "outputs": [],
   "source": [
    "\n",
    "f = random.choice(files)\n",
    "a = counts(f)"
   ]
  },
  {
   "cell_type": "code",
   "execution_count": 18,
   "id": "44b38b6e-3d53-4c6d-8472-4d6e9f827fd9",
   "metadata": {},
   "outputs": [
    {
     "data": {
      "text/html": [
       "<div>\n",
       "<style scoped>\n",
       "    .dataframe tbody tr th:only-of-type {\n",
       "        vertical-align: middle;\n",
       "    }\n",
       "\n",
       "    .dataframe tbody tr th {\n",
       "        vertical-align: top;\n",
       "    }\n",
       "\n",
       "    .dataframe thead th {\n",
       "        text-align: right;\n",
       "    }\n",
       "</style>\n",
       "<table border=\"1\" class=\"dataframe\">\n",
       "  <thead>\n",
       "    <tr style=\"text-align: right;\">\n",
       "      <th></th>\n",
       "      <th>elem_type</th>\n",
       "      <th>img_201050000_201074999</th>\n",
       "    </tr>\n",
       "  </thead>\n",
       "  <tbody>\n",
       "    <tr>\n",
       "      <th>0</th>\n",
       "      <td></td>\n",
       "      <td>4835161</td>\n",
       "    </tr>\n",
       "    <tr>\n",
       "      <th>1</th>\n",
       "      <td>Advertisement</td>\n",
       "      <td>290700</td>\n",
       "    </tr>\n",
       "    <tr>\n",
       "      <th>2</th>\n",
       "      <td>Cartoon</td>\n",
       "      <td>43167</td>\n",
       "    </tr>\n",
       "    <tr>\n",
       "      <th>3</th>\n",
       "      <td>Graph</td>\n",
       "      <td>1188</td>\n",
       "    </tr>\n",
       "    <tr>\n",
       "      <th>4</th>\n",
       "      <td>Illustration</td>\n",
       "      <td>508009</td>\n",
       "    </tr>\n",
       "    <tr>\n",
       "      <th>5</th>\n",
       "      <td>Map</td>\n",
       "      <td>1830</td>\n",
       "    </tr>\n",
       "    <tr>\n",
       "      <th>6</th>\n",
       "      <td>Photo</td>\n",
       "      <td>199942</td>\n",
       "    </tr>\n",
       "    <tr>\n",
       "      <th>7</th>\n",
       "      <td>Table</td>\n",
       "      <td>7705</td>\n",
       "    </tr>\n",
       "  </tbody>\n",
       "</table>\n",
       "</div>"
      ],
      "text/plain": [
       "       elem_type  img_201050000_201074999\n",
       "0                                 4835161\n",
       "1  Advertisement                   290700\n",
       "2        Cartoon                    43167\n",
       "3          Graph                     1188\n",
       "4   Illustration                   508009\n",
       "5            Map                     1830\n",
       "6          Photo                   199942\n",
       "7          Table                     7705"
      ]
     },
     "execution_count": 18,
     "metadata": {},
     "output_type": "execute_result"
    }
   ],
   "source": [
    "a"
   ]
  },
  {
   "cell_type": "markdown",
   "id": "d94b3e95-a0f3-490e-8b6b-92a8de9929d2",
   "metadata": {},
   "source": [
    "for f in files:\n",
    "    index(f)"
   ]
  },
  {
   "cell_type": "code",
   "execution_count": 27,
   "id": "79a627ff-6135-400c-a1b1-2d7c7f5e1998",
   "metadata": {},
   "outputs": [
    {
     "name": "stdout",
     "output_type": "stream",
     "text": [
      "img_202325000_202349999\n"
     ]
    }
   ],
   "source": [
    "all_files = {}\n",
    "for f in files:\n",
    "    try:\n",
    "        fname = f.split('/')[1].split('.')[0]\n",
    "        all_files[fname] = counts(f)\n",
    "    except:\n",
    "        print(fname)"
   ]
  },
  {
   "cell_type": "code",
   "execution_count": 28,
   "id": "21312b84-d1c5-4c62-bf07-c259a21c7a0e",
   "metadata": {},
   "outputs": [],
   "source": [
    "tot = pd.concat([all_files[f].set_index('elem_type') for f in all_files], axis = 1)"
   ]
  },
  {
   "cell_type": "code",
   "execution_count": 101,
   "id": "87061118-dff6-4d7a-8879-d850a98b9810",
   "metadata": {},
   "outputs": [
    {
     "data": {
      "text/html": [
       "<style type=\"text/css\">\n",
       "</style>\n",
       "<table id=\"T_3849f\">\n",
       "  <thead>\n",
       "    <tr>\n",
       "      <th class=\"blank level0\" >&nbsp;</th>\n",
       "      <th id=\"T_3849f_level0_col0\" class=\"col_heading level0 col0\" >antall</th>\n",
       "    </tr>\n",
       "    <tr>\n",
       "      <th class=\"index_name level0\" >elem_type</th>\n",
       "      <th class=\"blank col0\" >&nbsp;</th>\n",
       "    </tr>\n",
       "  </thead>\n",
       "  <tbody>\n",
       "    <tr>\n",
       "      <th id=\"T_3849f_level0_row0\" class=\"row_heading level0 row0\" ></th>\n",
       "      <td id=\"T_3849f_row0_col0\" class=\"data row0 col0\" >777894227</td>\n",
       "    </tr>\n",
       "    <tr>\n",
       "      <th id=\"T_3849f_level0_row1\" class=\"row_heading level0 row1\" >Illustration</th>\n",
       "      <td id=\"T_3849f_row1_col0\" class=\"data row1 col0\" >150537814</td>\n",
       "    </tr>\n",
       "    <tr>\n",
       "      <th id=\"T_3849f_level0_row2\" class=\"row_heading level0 row2\" >Advertisement</th>\n",
       "      <td id=\"T_3849f_row2_col0\" class=\"data row2 col0\" >86441627</td>\n",
       "    </tr>\n",
       "    <tr>\n",
       "      <th id=\"T_3849f_level0_row3\" class=\"row_heading level0 row3\" >Photo</th>\n",
       "      <td id=\"T_3849f_row3_col0\" class=\"data row3 col0\" >65049189</td>\n",
       "    </tr>\n",
       "    <tr>\n",
       "      <th id=\"T_3849f_level0_row4\" class=\"row_heading level0 row4\" >Table</th>\n",
       "      <td id=\"T_3849f_row4_col0\" class=\"data row4 col0\" >5391042</td>\n",
       "    </tr>\n",
       "    <tr>\n",
       "      <th id=\"T_3849f_level0_row5\" class=\"row_heading level0 row5\" >Cartoon</th>\n",
       "      <td id=\"T_3849f_row5_col0\" class=\"data row5 col0\" >3739980</td>\n",
       "    </tr>\n",
       "    <tr>\n",
       "      <th id=\"T_3849f_level0_row6\" class=\"row_heading level0 row6\" >Map</th>\n",
       "      <td id=\"T_3849f_row6_col0\" class=\"data row6 col0\" >413094</td>\n",
       "    </tr>\n",
       "    <tr>\n",
       "      <th id=\"T_3849f_level0_row7\" class=\"row_heading level0 row7\" >Graph</th>\n",
       "      <td id=\"T_3849f_row7_col0\" class=\"data row7 col0\" >99077</td>\n",
       "    </tr>\n",
       "    <tr>\n",
       "      <th id=\"T_3849f_level0_row8\" class=\"row_heading level0 row8\" >Photographs</th>\n",
       "      <td id=\"T_3849f_row8_col0\" class=\"data row8 col0\" >361</td>\n",
       "    </tr>\n",
       "    <tr>\n",
       "      <th id=\"T_3849f_level0_row9\" class=\"row_heading level0 row9\" >Chart/Diagram</th>\n",
       "      <td id=\"T_3849f_row9_col0\" class=\"data row9 col0\" >204</td>\n",
       "    </tr>\n",
       "    <tr>\n",
       "      <th id=\"T_3849f_level0_row10\" class=\"row_heading level0 row10\" >Obituary</th>\n",
       "      <td id=\"T_3849f_row10_col0\" class=\"data row10 col0\" >171</td>\n",
       "    </tr>\n",
       "    <tr>\n",
       "      <th id=\"T_3849f_level0_row11\" class=\"row_heading level0 row11\" >Bookplate</th>\n",
       "      <td id=\"T_3849f_row11_col0\" class=\"data row11 col0\" >118</td>\n",
       "    </tr>\n",
       "    <tr>\n",
       "      <th id=\"T_3849f_level0_row12\" class=\"row_heading level0 row12\" >Formula</th>\n",
       "      <td id=\"T_3849f_row12_col0\" class=\"data row12 col0\" >52</td>\n",
       "    </tr>\n",
       "    <tr>\n",
       "      <th id=\"T_3849f_level0_row13\" class=\"row_heading level0 row13\" >BirthNotice</th>\n",
       "      <td id=\"T_3849f_row13_col0\" class=\"data row13 col0\" >27</td>\n",
       "    </tr>\n",
       "    <tr>\n",
       "      <th id=\"T_3849f_level0_row14\" class=\"row_heading level0 row14\" >ShippingNews</th>\n",
       "      <td id=\"T_3849f_row14_col0\" class=\"data row14 col0\" >23</td>\n",
       "    </tr>\n",
       "    <tr>\n",
       "      <th id=\"T_3849f_level0_row15\" class=\"row_heading level0 row15\" >Barcode</th>\n",
       "      <td id=\"T_3849f_row15_col0\" class=\"data row15 col0\" >22</td>\n",
       "    </tr>\n",
       "    <tr>\n",
       "      <th id=\"T_3849f_level0_row16\" class=\"row_heading level0 row16\" >MarriageNotice</th>\n",
       "      <td id=\"T_3849f_row16_col0\" class=\"data row16 col0\" >10</td>\n",
       "    </tr>\n",
       "    <tr>\n",
       "      <th id=\"T_3849f_level0_row17\" class=\"row_heading level0 row17\" >         Cartoon       </th>\n",
       "      <td id=\"T_3849f_row17_col0\" class=\"data row17 col0\" >9</td>\n",
       "    </tr>\n",
       "    <tr>\n",
       "      <th id=\"T_3849f_level0_row18\" class=\"row_heading level0 row18\" >Chart</th>\n",
       "      <td id=\"T_3849f_row18_col0\" class=\"data row18 col0\" >6</td>\n",
       "    </tr>\n",
       "    <tr>\n",
       "      <th id=\"T_3849f_level0_row19\" class=\"row_heading level0 row19\" >...</th>\n",
       "      <td id=\"T_3849f_row19_col0\" class=\"data row19 col0\" >4</td>\n",
       "    </tr>\n",
       "  </tbody>\n",
       "</table>\n"
      ],
      "text/plain": [
       "<pandas.io.formats.style.Styler at 0x7f3549586c40>"
      ]
     },
     "execution_count": 101,
     "metadata": {},
     "output_type": "execute_result"
    }
   ],
   "source": [
    "pd.DataFrame(tot.fillna(0).sum(axis=1), columns=[\"antall\"]).sort_values(by=\"antall\", ascending=False).style.format(precision=0)"
   ]
  },
  {
   "cell_type": "code",
   "execution_count": null,
   "id": "73680bf9-1bc5-44ea-9261-cf1df087aebb",
   "metadata": {},
   "outputs": [],
   "source": []
  }
 ],
 "metadata": {
  "kernelspec": {
   "display_name": "Python 3 (ipykernel)",
   "language": "python",
   "name": "python3"
  },
  "language_info": {
   "codemirror_mode": {
    "name": "ipython",
    "version": 3
   },
   "file_extension": ".py",
   "mimetype": "text/x-python",
   "name": "python",
   "nbconvert_exporter": "python",
   "pygments_lexer": "ipython3",
   "version": "3.9.15"
  }
 },
 "nbformat": 4,
 "nbformat_minor": 5
}
