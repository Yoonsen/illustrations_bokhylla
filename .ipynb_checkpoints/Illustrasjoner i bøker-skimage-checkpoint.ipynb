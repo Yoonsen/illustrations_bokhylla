{
 "cells": [
  {
   "cell_type": "markdown",
   "metadata": {},
   "source": [
    "\n",
    "# Om å finne illustrasjoner i bøker fra NB digital\n",
    "\n",
    "Fra en oversikt over alle illustrasjoner i NB-digital (ca. 480 000 bøker) kan vi studere selve illustrasjonene. Hva som kan vises er avhengig av tilgangsnivå, og hvor vi er, på jobb på NB eller på privatmaskin. \n",
    "\n",
    "Det frie materialet kan nås fra hvor som helst, mens det som har restriksjoner også er begrenset innad i NB. For begrenset materiale er det kun mulig å få ut deler av en illustrasjon, men det er mulig å mekke det til så man får sett alt. Foreløpig er ikke det gjort. "
   ]
  },
  {
   "cell_type": "markdown",
   "metadata": {},
   "source": [
    "### Litt startkode"
   ]
  },
  {
   "cell_type": "code",
   "execution_count": 1,
   "metadata": {},
   "outputs": [],
   "source": [
    "import dhlab.module_update as mu\n",
    "mu.update(\"nbpictures\", silent = True)\n",
    "from nbpictures import show_illustrations_urn, urns_from_super\n",
    "from IPython.display import HTML, Markdown, display"
   ]
  },
  {
   "cell_type": "code",
   "execution_count": 2,
   "metadata": {},
   "outputs": [
    {
     "data": {
      "text/html": [
       "<style>@import url(\n",
       "http://fonts.googleapis.com/css?family=Lato|Philosopher|Montserrat|Source+Code+Pro|Istok+Web|Philosopher|Assistant:200,400,700);\n",
       "\n",
       "/*\n",
       "#notebook-container {\n",
       "\t-webkit-box-shadow: none;\n",
       "\tbox-shadow: none;\n",
       "}\n",
       "*/\n",
       "\n",
       "h1, h2, h3, h4, h5, h6 {\n",
       "\tfont-family: 'Montserrat', sans-serif;\n",
       "\tline-height: 2em;\n",
       "    color: #004f99;\n",
       "    font-weight: 600;\n",
       "}\n",
       "\n",
       "h1 { font-size: 4.5em; }\n",
       "h2 { font-size: 4em; }\n",
       "h3 { font-size: 3.5em; }\n",
       "h4 { font-size: 3em; }\n",
       "h5 { font-size: 2.5em; color:DarkSlateGray; }\n",
       "h6 { font-size: 2em; }\n",
       "\n",
       "p {\n",
       "\tfont-family: 'Assistant', sans-serif; \n",
       "\tfont-size: 1.2em;\n",
       "\tline-height: 1.4em;\n",
       "\tcolor: black;\n",
       "}\n",
       "p code {\n",
       "\tfont-size:0.9em;\n",
       "}\n",
       "div.input_area {\n",
       "\tborder:none !important;\n",
       "\tborder-left:1px solid #ff851b !important\n",
       "}\n",
       "\n",
       "span.cm-keyword {\n",
       "\tcolor:#339966 !important;\n",
       "}\n",
       "span.nn {  /*span.cm-variable, span.cm-property*/\n",
       "\tcolor: #3399ff !important;\n",
       "}\n",
       "div.CodeMirror {\n",
       "\tfont-family: 'Inconsolata', monospace;\n",
       "\tfont-size: 1.1em;\n",
       "\t\n",
       "}\n",
       "</style>"
      ],
      "text/plain": [
       "<IPython.core.display.HTML object>"
      ]
     },
     "execution_count": 2,
     "metadata": {},
     "output_type": "execute_result"
    }
   ],
   "source": [
    "mu.css()"
   ]
  },
  {
   "cell_type": "markdown",
   "metadata": {},
   "source": [
    "Hent ut noen URN-er, eller bruk URN-er funnet annet sted"
   ]
  },
  {
   "cell_type": "code",
   "execution_count": 21,
   "metadata": {},
   "outputs": [],
   "source": [
    "urns = urns_from_super(\"Churchill\", period=('19200101', '19900101'))"
   ]
  },
  {
   "cell_type": "markdown",
   "metadata": {},
   "source": [
    "Bruk kommandoen `show_illustrations_urn(urn)` for å se på illustrasjonene. Om URN-en er tilgjengelig for alle, påkalles kommandoen som `show_illustrations_urn(urn, \"fritt\")` (merk bruk av anførselstegn). Om noen bilder ikke vises, så bytt ut \"fritt\" med \"lukket\" eller \"begrenset\" eller noe forskjellig fra \"fritt\". For `urn` settes inn en eller annen URN, funnet på nb.no, eller fra listen av urner, de som ligger i `urns`, i så fall, indiker hvilken med et nummer `urns[0]` eller `urns[1]` osv."
   ]
  },
  {
   "cell_type": "code",
   "execution_count": 27,
   "metadata": {
    "scrolled": false
   },
   "outputs": [
    {
     "data": {
      "text/markdown": [
       "**Tilgang**: Tilgang for alle\n",
       "**Tittel**: Nyeste billed-ABC for Begyndere i Læsning. Med 30 Afbildninger\n",
       "**Utgiver**: Guldberg & Dzwonkowskis Forlag\n",
       "**Medforfatter/Bidragsyter**: Malling, P.T. (Peter Tidemand)\n",
       "**Publisert**: Trykt i Forlæggerens Officin af P.T. Malling\n",
       "**Andre opplysninger**: Formatangivelse etter Norsk Bog-Fortegnelse 1814-1847, s. 20\n",
       "Elektronisk reproduksjon [Norge] Nasjonalbiblioteket Digital 2017-09-01\n",
       "\n",
       "**Språk**: Dansk\n",
       "**Kilde for metadata**: nb.bibsys.no (<a title=\"Link til post i Oria\" href=\"https://www.oria.no/?vid=NB&search=990940450894702202\">990940450894702202</a>)\n",
       "**Omfang**: 48 s. ill. 13 cm (16°)\n",
       "**Medietype**: bøker\n",
       "**Varig lenke**: <a href=\"https://urn.nb.no/URN:NBN:no-nb_digibok_2017081626006\" target=\"_blank\">https://urn.nb.no/URN:NBN:no-nb_digibok_2017081626006</a>\n",
       "****: <a href=\"https://www.nb.no/items/d674fcf51625f8f4b484fe1561a4ceb6?manifest=https://api.nb.no/catalog/v1/iiif/d674fcf51625f8f4b484fe1561a4ceb6/manifest\" target=\"_blank\"><img src=\"https://www.nb.no/content/uploads/2018/08/logo-iiif.png\" alt=\"IIIF Drag-n-drop\"></a>"
      ],
      "text/plain": [
       "<IPython.core.display.Markdown object>"
      ]
     },
     "metadata": {},
     "output_type": "display_data"
    },
    {
     "data": {
      "text/html": [
       "<html><head></head>\n",
       "     <body>\n",
       "     <table>\n",
       "     <tr><td><img src='https://www.nb.no/services/image/resolver/URN:NBN:no-nb_digibok_2017081626006_0018/396,1249,589,426/full/0/native.jpg'</td></tr> <tr><td><img src='https://www.nb.no/services/image/resolver/URN:NBN:no-nb_digibok_2017081626006_0019/543,755,265,504/full/0/native.jpg'</td></tr> <tr><td><img src='https://www.nb.no/services/image/resolver/URN:NBN:no-nb_digibok_2017081626006_0020/379,589,507,440/full/0/native.jpg'</td></tr> <tr><td><img src='https://www.nb.no/services/image/resolver/URN:NBN:no-nb_digibok_2017081626006_0021/180,237,959,518/full/0/native.jpg'</td></tr> <tr><td><img src='https://www.nb.no/services/image/resolver/URN:NBN:no-nb_digibok_2017081626006_0022/274,510,755,372/full/0/native.jpg'</td></tr> <tr><td><img src='https://www.nb.no/services/image/resolver/URN:NBN:no-nb_digibok_2017081626006_0023/372,401,480,590/full/0/native.jpg'</td></tr> <tr><td><img src='https://www.nb.no/services/image/resolver/URN:NBN:no-nb_digibok_2017081626006_0025/357,797,627,704/full/0/native.jpg'</td></tr> <tr><td><img src='https://www.nb.no/services/image/resolver/URN:NBN:no-nb_digibok_2017081626006_0026/257,481,780,594/full/0/native.jpg'</td></tr> <tr><td><img src='https://www.nb.no/services/image/resolver/URN:NBN:no-nb_digibok_2017081626006_0027/252,254,807,535/full/0/native.jpg'</td></tr> <tr><td><img src='https://www.nb.no/services/image/resolver/URN:NBN:no-nb_digibok_2017081626006_0027/292,1113,782,583/full/0/native.jpg'</td></tr> <tr><td><img src='https://www.nb.no/services/image/resolver/URN:NBN:no-nb_digibok_2017081626006_0028/216,578,878,649/full/0/native.jpg'</td></tr> <tr><td><img src='https://www.nb.no/services/image/resolver/URN:NBN:no-nb_digibok_2017081626006_0029/224,736,829,455/full/0/native.jpg'</td></tr> <tr><td><img src='https://www.nb.no/services/image/resolver/URN:NBN:no-nb_digibok_2017081626006_0030/240,132,853,601/full/0/native.jpg'</td></tr> <tr><td><img src='https://www.nb.no/services/image/resolver/URN:NBN:no-nb_digibok_2017081626006_0030/246,1136,783,537/full/0/native.jpg'</td></tr> <tr><td><img src='https://www.nb.no/services/image/resolver/URN:NBN:no-nb_digibok_2017081626006_0031/260,595,796,747/full/0/native.jpg'</td></tr> <tr><td><img src='https://www.nb.no/services/image/resolver/URN:NBN:no-nb_digibok_2017081626006_0032/224,205,881,338/full/0/native.jpg'</td></tr> <tr><td><img src='https://www.nb.no/services/image/resolver/URN:NBN:no-nb_digibok_2017081626006_0033/186,218,894,578/full/0/native.jpg'</td></tr> <tr><td><img src='https://www.nb.no/services/image/resolver/URN:NBN:no-nb_digibok_2017081626006_0033/243,1380,729,357/full/0/native.jpg'</td></tr> <tr><td><img src='https://www.nb.no/services/image/resolver/URN:NBN:no-nb_digibok_2017081626006_0034/262,592,766,622/full/0/native.jpg'</td></tr> <tr><td><img src='https://www.nb.no/services/image/resolver/URN:NBN:no-nb_digibok_2017081626006_0035/216,913,826,353/full/0/native.jpg'</td></tr> <tr><td><img src='https://www.nb.no/services/image/resolver/URN:NBN:no-nb_digibok_2017081626006_0036/237,127,813,628/full/0/native.jpg'</td></tr> <tr><td><img src='https://www.nb.no/services/image/resolver/URN:NBN:no-nb_digibok_2017081626006_0036/292,1177,737,526/full/0/native.jpg'</td></tr> <tr><td><img src='https://www.nb.no/services/image/resolver/URN:NBN:no-nb_digibok_2017081626006_0037/284,1015,729,333/full/0/native.jpg'</td></tr> <tr><td><img src='https://www.nb.no/services/image/resolver/URN:NBN:no-nb_digibok_2017081626006_0038/289,135,726,669/full/0/native.jpg'</td></tr> <tr><td><img src='https://www.nb.no/services/image/resolver/URN:NBN:no-nb_digibok_2017081626006_0038/276,1256,769,474/full/0/native.jpg'</td></tr> <tr><td><img src='https://www.nb.no/services/image/resolver/URN:NBN:no-nb_digibok_2017081626006_0040/237,118,842,567/full/0/native.jpg'</td></tr> <tr><td><img src='https://www.nb.no/services/image/resolver/URN:NBN:no-nb_digibok_2017081626006_0041/195,126,816,546/full/0/native.jpg'</td></tr> <tr><td><img src='https://www.nb.no/services/image/resolver/URN:NBN:no-nb_digibok_2017081626006_0041/230,1227,853,368/full/0/native.jpg'</td></tr> <tr><td><img src='https://www.nb.no/services/image/resolver/URN:NBN:no-nb_digibok_2017081626006_0042/383,483,586,553/full/0/native.jpg'</td></tr>\n",
       "     </table>\n",
       "     </body>\n",
       "     </html>\n",
       "     "
      ],
      "text/plain": [
       "<IPython.core.display.HTML object>"
      ]
     },
     "execution_count": 27,
     "metadata": {},
     "output_type": "execute_result"
    }
   ],
   "source": [
    "show_illustrations_urn(\"digibok_2017081626006\", 'fri')"
   ]
  },
  {
   "cell_type": "code",
   "execution_count": null,
   "metadata": {},
   "outputs": [],
   "source": []
  }
 ],
 "metadata": {
  "kernelspec": {
   "display_name": "Python 3",
   "language": "python",
   "name": "python3"
  },
  "language_info": {
   "codemirror_mode": {
    "name": "ipython",
    "version": 3
   },
   "file_extension": ".py",
   "mimetype": "text/x-python",
   "name": "python",
   "nbconvert_exporter": "python",
   "pygments_lexer": "ipython3",
   "version": "3.8.3"
  }
 },
 "nbformat": 4,
 "nbformat_minor": 4
}
