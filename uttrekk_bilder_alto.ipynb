{
 "cells": [
  {
   "cell_type": "code",
   "execution_count": 350,
   "metadata": {
    "collapsed": false
   },
   "outputs": [],
   "source": [
    "biblio = \"/home/larj/urn-biblio-mods.db\"\n",
    "filelist = \"/home/larj/notebooks/filelist.db\"\n",
    "nbdigital = \"/disk4/\"\n",
    "ramdisk = '/ram_work' \n",
    "import json\n",
    "import os\n",
    "import tarfile\n",
    "import shutil\n",
    "from multiprocessing import Pool\n",
    "import ipyparallel as ipp"
   ]
  },
  {
   "cell_type": "code",
   "execution_count": 351,
   "metadata": {
    "collapsed": true
   },
   "outputs": [],
   "source": [
    "def query(db, query, param=\"\"):\n",
    "    with sqlite3.connect(db) as con:\n",
    "        cur = con.cursor()\n",
    "        try:\n",
    "            res = cur.execute(query, param).fetchall()\n",
    "        except:\n",
    "            res = []\n",
    "    return res"
   ]
  },
  {
   "cell_type": "code",
   "execution_count": 9,
   "metadata": {
    "collapsed": true
   },
   "outputs": [],
   "source": [
    "import sqlite3"
   ]
  },
  {
   "cell_type": "code",
   "execution_count": 10,
   "metadata": {
    "collapsed": false
   },
   "outputs": [],
   "source": [
    "urns = query(biblio, \"select urn from biblio where year >= 1820 and year <= 1860\")"
   ]
  },
  {
   "cell_type": "code",
   "execution_count": 11,
   "metadata": {
    "collapsed": false
   },
   "outputs": [
    {
     "data": {
      "text/plain": [
       "3603"
      ]
     },
     "execution_count": 11,
     "metadata": {},
     "output_type": "execute_result"
    }
   ],
   "source": [
    "len(urns)"
   ]
  },
  {
   "cell_type": "code",
   "execution_count": 20,
   "metadata": {
    "collapsed": false
   },
   "outputs": [
    {
     "data": {
      "text/plain": [
       "[(3, 'digibok_2010020103002_ocr_xml.tar', '2010020103002')]"
      ]
     },
     "execution_count": 20,
     "metadata": {},
     "output_type": "execute_result"
    }
   ],
   "source": [
    "query(filelist, \"select * from files where urn = '2010020103002' limit 10\")"
   ]
  },
  {
   "cell_type": "code",
   "execution_count": 115,
   "metadata": {
    "collapsed": false
   },
   "outputs": [],
   "source": [
    "file_locs = []\n",
    "for urn in urns:\n",
    "    #print(urn)\n",
    "    file_locs.append([os.path.join(nbdigital, str(row[0]), row[1]) for row in query(filelist, \"select * from files where urn = ?\", (str(urn[0]),))])"
   ]
  },
  {
   "cell_type": "code",
   "execution_count": 118,
   "metadata": {
    "collapsed": true
   },
   "outputs": [],
   "source": [
    "sofies_urner = \"\"\"URN:NBN:no-nb_digibok_2009111310002\n",
    "URN:NBN:no-nb_digibok_2009102012001\n",
    "URN:NBN:no-nb_digibok_2015043007594\n",
    "URN:NBN:no-nb_digibok_2009062303021\n",
    "URN:NBN:no-nb_digibok_2008110603025\n",
    "URN:NBN:no-nb_digibok_2008100913002\n",
    "URN:NBN:no-nb_digibok_2013061027001\n",
    "URN:NBN:no-nb_digibok_2011032412002\n",
    "URN:NBN:no-nb_digibok_2010042703061\n",
    "URN:NBN:no-nb_digibok_2010042106089\n",
    "URN:NBN:no-nb_digibok_2010021003007\n",
    "URN:NBN:no-nb_digibok_2008061612002\n",
    "URN:NBN:no-nb_digibok_2008120910007\n",
    "URN:NBN:no-nb_digibok_2016101748017\n",
    "URN:NBN:no-nb_digibok_2015072408037\n",
    "URN:NBN:no-nb_digibok_2014030528001\n",
    "URN:NBN:no-nb_digibok_2016091926001\n",
    "URN:NBN:no-nb_digibok_2016030829003\n",
    "URN:NBN:no-nb_digibok_2016072026007\n",
    "URN:NBN:no-nb_digibok_2008102200034\n",
    "URN:NBN:no-nb_digibok_2008102212005\n",
    "URN:NBN:no-nb_digibok_2010042706006\n",
    "URN:NBN:no-nb_digibok_2017120726004\n",
    "URN:NBN:no-nb_digibok_2008111903008\n",
    "URN:NBN:no-nb_digibok_2016063008035\n",
    "URN:NBN:no-nb_digibok_2017090826003\n",
    "URN:NBN:no-nb_digibok_2016101728001\n",
    "URN:NBN:no-nb_digibok_2016092126004\n",
    "URN:NBN:no-nb_digibok_2015121828001\n",
    "URN:NBN:no-nb_digibok_2008092303004\n",
    "URN:NBN:no-nb_digibok_2009020900011\n",
    "URN:NBN:no-nb_digibok_2016052028002\n",
    "URN:NBN:no-nb_digibok_2016101926017\n",
    "URN:NBN:no-nb_digibok_2016092929006\n",
    "URN:NBN:no-nb_digibok_2012041724009\n",
    "URN:NBN:no-nb_digibok_2016052028004\n",
    "URN:NBN:no-nb_digibok_2017032828001\n",
    "URN:NBN:no-nb_digibok_2015020208043\n",
    "URN:NBN:no-nb_digibok_2016101926012\n",
    "URN:NBN:no-nb_digibok_2017060626003\n",
    "URN:NBN:no-nb_digibok_2016101726001\n",
    "URN:NBN:no-nb_digibok_2008091603029\n",
    "URN:NBN:no-nb_digibok_2008091602002\n",
    "URN:NBN:no-nb_digibok_2008100803019\n",
    "URN:NBN:no-nb_digibok_2016050948133\n",
    "URN:NBN:no-nb_digibok_2008110603044\n",
    "URN:NBN:no-nb_digibok_2009081303025\n",
    "URN:NBN:no-nb_digibok_2014031808070\n",
    "URN:NBN:no-nb_digibok_2009081801030\n",
    "URN:NBN:no-nb_digibok_2008103003005\n",
    "URN:NBN:no-nb_digibok_2016092929005\n",
    "URN:NBN:no-nb_digibok_2016101748110\n",
    "URN:NBN:no-nb_digibok_2009062204035\n",
    "URN:NBN:no-nb_digibok_2016101928011\n",
    "URN:NBN:no-nb_digibok_2008061312001\n",
    "URN:NBN:no-nb_digibok_2011062408074\n",
    "URN:NBN:no-nb_digibok_2017071468050\n",
    "URN:NBN:no-nb_digibok_2016101226005\n",
    "URN:NBN:no-nb_digibok_2008100703019\n",
    "URN:NBN:no-nb_digibok_2016101928024\n",
    "URN:NBN:no-nb_digibok_2015012008057\n",
    "URN:NBN:no-nb_digibok_2014030528002\n",
    "URN:NBN:no-nb_digibok_2016053026001\n",
    "URN:NBN:no-nb_digibok_2014101008104\n",
    "URN:NBN:no-nb_digibok_2009020900010\n",
    "URN:NBN:no-nb_digibok_2016052028001\n",
    "URN:NBN:no-nb_digibok_2014112108039\n",
    "URN:NBN:no-nb_digibok_2016061329002\n",
    "URN:NBN:no-nb_digibok_2010070503013\n",
    "URN:NBN:no-nb_digibok_2016092929007\n",
    "URN:NBN:no-nb_digibok_2017031328001\n",
    "URN:NBN:no-nb_digibok_2007101203001\n",
    "URN:NBN:no-nb_digibok_2009020600072\n",
    "URN:NBN:no-nb_digibok_2010020103008\n",
    "URN:NBN:no-nb_digibok_2012051124003\n",
    "URN:NBN:no-nb_digibok_2012051124004\n",
    "URN:NBN:no-nb_digibok_2016052628001\n",
    "URN:NBN:no-nb_digibok_2008111903014\n",
    "URN:NBN:no-nb_digibok_2016112128001\n",
    "URN:NBN:no-nb_digibok_2010011312004\n",
    "URN:NBN:no-nb_digibok_2016092126002\n",
    "URN:NBN:no-nb_digibok_2017111348085\n",
    "URN:NBN:no-nb_digibok_2009082403015\n",
    "URN:NBN:no-nb_digibok_2016052026007\n",
    "URN:NBN:no-nb_digibok_2014090308025\n",
    "URN:NBN:no-nb_digibok_2012041724010\n",
    "URN:NBN:no-nb_digibok_2010021903002\n",
    "URN:NBN:no-nb_digibok_2009020900006\n",
    "URN:NBN:no-nb_digibok_2016101748020\n",
    "URN:NBN:no-nb_digibok_2008121812001\n",
    "URN:NBN:no-nb_digibok_2008080810010\n",
    "URN:NBN:no-nb_digibok_2008091002003\n",
    "URN:NBN:no-nb_digibok_2010030203053\n",
    "URN:NBN:no-nb_digibok_2017070627001\n",
    "URN:NBN:no-nb_digibok_2008091003004\n",
    "URN:NBN:no-nb_digibok_2006112301027\n",
    "URN:NBN:no-nb_digibok_2016111429003\n",
    "URN:NBN:no-nb_digibok_2008100603006\n",
    "URN:NBN:no-nb_digibok_2017082526005\n",
    "URN:NBN:no-nb_digibok_2008071110017\n",
    "URN:NBN:no-nb_digibok_2008012410002\n",
    "URN:NBN:no-nb_digibok_2016092948016\n",
    "URN:NBN:no-nb_digibok_2016061326003\n",
    "URN:NBN:no-nb_digibok_2018010826045\n",
    "URN:NBN:no-nb_digibok_2015012928001\n",
    "URN:NBN:no-nb_digibok_2007061902001\n",
    "URN:NBN:no-nb_digibok_2016050229004\n",
    "URN:NBN:no-nb_digibok_2017091526001\n",
    "URN:NBN:no-nb_digibok_2016021527001\n",
    "URN:NBN:no-nb_digibok_2008091503001\n",
    "URN:NBN:no-nb_digibok_2010042703049\n",
    "URN:NBN:no-nb_digibok_2010042703049\n",
    "URN:NBN:no-nb_digibok_2009070700046\n",
    "URN:NBN:no-nb_digibok_2010030903085\n",
    "URN:NBN:no-nb_digibok_2016101828005\n",
    "URN:NBN:no-nb_digibok_2016050226003\n",
    "URN:NBN:no-nb_digibok_2017050926008\n",
    "URN:NBN:no-nb_digibok_2008102300109\n",
    "URN:NBN:no-nb_digibok_2016112129003\n",
    "URN:NBN:no-nb_digibok_2016072026009\n",
    "URN:NBN:no-nb_digibok_2016101929002\n",
    "URN:NBN:no-nb_digibok_2016111626001\n",
    "URN:NBN:no-nb_digibok_2007062802001\n",
    "URN:NBN:no-nb_digibok_2016101828010\n",
    "URN:NBN:no-nb_digibok_2016110226001\n",
    "URN:NBN:no-nb_digibok_2016101828014\n",
    "URN:NBN:no-nb_digibok_2017050948060\n",
    "URN:NBN:no-nb_digibok_2013103124002\n",
    "URN:NBN:no-nb_digibok_2016060926013\n",
    "URN:NBN:no-nb_digibok_2009101303004\n",
    "URN:NBN:no-nb_digibok_2018011026010\n",
    "URN:NBN:no-nb_digibok_2010021503052\n",
    "URN:NBN:no-nb_digibok_2008091800014\n",
    "URN:NBN:no-nb_digibok_2009020600115\n",
    "URN:NBN:no-nb_digibok_2008091502001\n",
    "URN:NBN:no-nb_digibok_2018010826026\n",
    "URN:NBN:no-nb_digibok_2008110603029\n",
    "URN:NBN:no-nb_digibok_2006082200038\n",
    "URN:NBN:no-nb_digibok_2006081000017\n",
    "URN:NBN:no-nb_digibok_2007070302002\n",
    "URN:NBN:no-nb_digibok_2018010826012\n",
    "URN:NBN:no-nb_digibok_2017050848150\n",
    "URN:NBN:no-nb_digibok_2018011526001\n",
    "URN:NBN:no-nb_digibok_2017120726026\n",
    "URN:NBN:no-nb_digibok_2015121526006\n",
    "URN:NBN:no-nb_digibok_2007100112002\n",
    "URN:NBN:no-nb_digibok_2008111103017\n",
    "URN:NBN:no-nb_digibok_2012020208010\n",
    "URN:NBN:no-nb_digibok_2009090210001\n",
    "URN:NBN:no-nb_digibok_2008111103036\n",
    "URN:NBN:no-nb_digibok_2008111903018\n",
    "URN:NBN:no-nb_digibok_2014111908036\n",
    "URN:NBN:no-nb_digibok_2016061326001\n",
    "URN:NBN:no-nb_digibok_2017060826002\n",
    "URN:NBN:no-nb_digibok_2009052803025\n",
    "URN:NBN:no-nb_digibok_2008111103018\n",
    "URN:NBN:no-nb_digibok_2014040908025\n",
    "URN:NBN:no-nb_digibok_2016101828002\n",
    "URN:NBN:no-nb_digibok_2016052029003\n",
    "URN:NBN:no-nb_digibok_2018011026005\n",
    "URN:NBN:no-nb_digibok_2015060948119\n",
    "URN:NBN:no-nb_digibok_2010020103004\n",
    "URN:NBN:no-nb_digibok_2016111826008\n",
    "URN:NBN:no-nb_digibok_2008090903010\n",
    "URN:NBN:no-nb_digibok_2007072403001\n",
    "URN:NBN:no-nb_digibok_2008072810005\n",
    "URN:NBN:no-nb_digibok_2016121228001\n",
    "URN:NBN:no-nb_digibok_2010030903089\n",
    "URN:NBN:no-nb_digibok_2017112928005\n",
    "URN:NBN:no-nb_digibok_2016100428003\n",
    "URN:NBN:no-nb_digibok_2010021603004\n",
    "URN:NBN:no-nb_digibok_2018010829001\n",
    "URN:NBN:no-nb_digibok_2008040712002\n",
    "URN:NBN:no-nb_digibok_2008102300110\n",
    "URN:NBN:no-nb_digibok_2010020903016\n",
    "URN:NBN:no-nb_digibok_2014103128001\n",
    "URN:NBN:no-nb_digibok_2008111903017\n",
    "URN:NBN:no-nb_digibok_2010042703042\n",
    "URN:NBN:no-nb_digibok_2007102502001\n",
    "URN:NBN:no-nb_digibok_2010021503044\n",
    "URN:NBN:no-nb_digibok_2007091210003\n",
    "URN:NBN:no-nb_digibok_2009111312013\n",
    "URN:NBN:no-nb_digibok_2009082512004\n",
    "URN:NBN:no-nb_digibok_2007090712001\n",
    "URN:NBN:no-nb_digibok_2006112301019\n",
    "URN:NBN:no-nb_digibok_2006111501008\n",
    "URN:NBN:no-nb_digibok_2017030648049\n",
    "URN:NBN:no-nb_digibok_2007101612003\n",
    "URN:NBN:no-nb_digibok_2012061313001\n",
    "URN:NBN:no-nb_digibok_2017112748069\n",
    "URN:NBN:no-nb_digibok_2008112403001\n",
    "URN:NBN:no-nb_digibok_2012020208027\n",
    "URN:NBN:no-nb_digibok_2016050229007\n",
    "URN:NBN:no-nb_digibok_2008110510004\n",
    "URN:NBN:no-nb_digibok_2015030528005\n",
    "URN:NBN:no-nb_digibok_2007081602002\n",
    "URN:NBN:no-nb_digibok_2014031808078\n",
    "URN:NBN:no-nb_digibok_2014062048057\n",
    "URN:NBN:no-nb_digibok_2008090903035\n",
    "URN:NBN:no-nb_digibok_2010021803053\n",
    "URN:NBN:no-nb_digibok_2008042510001\n",
    "URN:NBN:no-nb_digibok_2009011212001\n",
    "URN:NBN:no-nb_digibok_2016061329001\n",
    "URN:NBN:no-nb_digibok_2009110512007\n",
    "URN:NBN:no-nb_digibok_2016103126002\n",
    "URN:NBN:no-nb_digibok_2007072603004\n",
    "URN:NBN:no-nb_digibok_2014121608075\n",
    "URN:NBN:no-nb_digibok_2007091310001\n",
    "URN:NBN:no-nb_digibok_2008090903021\n",
    "URN:NBN:no-nb_digibok_2016100427002\n",
    "URN:NBN:no-nb_digibok_2010031003056\n",
    "URN:NBN:no-nb_digibok_2009102200004\n",
    "URN:NBN:no-nb_digibok_2013052727007\n",
    "URN:NBN:no-nb_digibok_2006112101078\n",
    "URN:NBN:no-nb_digibok_2008082210009\n",
    "URN:NBN:no-nb_digibok_2016030326002\n",
    "URN:NBN:no-nb_digibok_2007041803002\n",
    "URN:NBN:no-nb_digibok_2009113013002\n",
    "URN:NBN:no-nb_digibok_2007091310005\n",
    "URN:NBN:no-nb_digibok_2007082103001\n",
    "URN:NBN:no-nb_digibok_2008100803003\n",
    "URN:NBN:no-nb_digibok_2008100803015\n",
    "URN:NBN:no-nb_digibok_2012062813003\n",
    "URN:NBN:no-nb_digibok_2009080703012\n",
    "URN:NBN:no-nb_digibok_2016112129004\n",
    "URN:NBN:no-nb_digibok_2009090703019\n",
    "URN:NBN:no-nb_digibok_2008100703033\n",
    "URN:NBN:no-nb_digibok_2008100113001\n",
    "URN:NBN:no-nb_digibok_2007053010002\n",
    "URN:NBN:no-nb_digibok_2009082103013\n",
    "URN:NBN:no-nb_digibok_2015042428001\n",
    "URN:NBN:no-nb_digibok_2007070302003\n",
    "URN:NBN:no-nb_digibok_2009082503014\n",
    "URN:NBN:no-nb_digibok_2009110212001\n",
    "URN:NBN:no-nb_digibok_2016072948077\n",
    "URN:NBN:no-nb_digibok_2009101210004\n",
    "URN:NBN:no-nb_digibok_2007080203002\n",
    "URN:NBN:no-nb_digibok_2008100610001\n",
    "URN:NBN:no-nb_digibok_2007100812001\n",
    "URN:NBN:no-nb_digibok_2007121103001\n",
    "URN:NBN:no-nb_digibok_2016041126001\n",
    "URN:NBN:no-nb_digibok_2007070302004\n",
    "URN:NBN:no-nb_digibok_2008111812002\n",
    "URN:NBN:no-nb_digibok_2016052626001\n",
    "URN:NBN:no-nb_digibok_2016053129003\n",
    "URN:NBN:no-nb_digibok_2008052102001\n",
    "URN:NBN:no-nb_digibok_2007112610010\n",
    "URN:NBN:no-nb_digibok_2010021803057\n",
    "URN:NBN:no-nb_digibok_2009072801117\n",
    "URN:NBN:no-nb_digibok_2016052548029\n",
    "URN:NBN:no-nb_digibok_2014013028005\n",
    "URN:NBN:no-nb_digibok_2008110612005\n",
    "URN:NBN:no-nb_digibok_2017111448116\n",
    "URN:NBN:no-nb_digibok_2008100310001\n",
    "URN:NBN:no-nb_digibok_2016081608001\n",
    "URN:NBN:no-nb_digibok_2010021003010\n",
    "URN:NBN:no-nb_digibok_2010021003009\n",
    "URN:NBN:no-nb_digibok_2016050229002\n",
    "URN:NBN:no-nb_digibok_2007072303003\n",
    "URN:NBN:no-nb_digibok_2013110728001\n",
    "URN:NBN:no-nb_digibok_2017022848010\n",
    "URN:NBN:no-nb_digibok_2007091310003\n",
    "URN:NBN:no-nb_digibok_2008092603002\n",
    "URN:NBN:no-nb_digibok_2007091310004\n",
    "URN:NBN:no-nb_digibok_2007101013002\n",
    "URN:NBN:no-nb_digibok_2007120412004\n",
    "URN:NBN:no-nb_digibok_2016092929002\n",
    "URN:NBN:no-nb_digibok_2008091800028\n",
    "URN:NBN:no-nb_digibok_2009080703013\n",
    "URN:NBN:no-nb_digibok_2008062302001\n",
    "URN:NBN:no-nb_digibok_2010042703012\n",
    "URN:NBN:no-nb_digibok_2009081403010\n",
    "URN:NBN:no-nb_digibok_2013083008179\n",
    "URN:NBN:no-nb_digibok_2016101226004\n",
    "URN:NBN:no-nb_digibok_2010030903077\n",
    "URN:NBN:no-nb_digibok_2013051427001\n",
    "URN:NBN:no-nb_digibok_2013121126001\n",
    "URN:NBN:no-nb_digibok_2009021204053\n",
    "URN:NBN:no-nb_digibok_2008111303003\n",
    "URN:NBN:no-nb_digibok_2017092048014\n",
    "URN:NBN:no-nb_digibok_2018010448500\n",
    "URN:NBN:no-nb_digibok_2016113008033\n",
    "URN:NBN:no-nb_digibok_2008092303017\n",
    "URN:NBN:no-nb_digibok_2013102226001\n",
    "URN:NBN:no-nb_digibok_2017050926024\n",
    "URN:NBN:no-nb_digibok_2009071401044\n",
    "URN:NBN:no-nb_digibok_2015060948148\n",
    "URN:NBN:no-nb_digibok_2006112200046\n",
    "URN:NBN:no-nb_digibok_2010020903015\n",
    "URN:NBN:no-nb_digibok_2017092048015\n",
    "URN:NBN:no-nb_digibok_2009020900002\n",
    "URN:NBN:no-nb_digibok_2008091800010\n",
    "URN:NBN:no-nb_digibok_2015060948058\n",
    "URN:NBN:no-nb_digibok_2008102300080\n",
    "URN:NBN:no-nb_digibok_2008100212002\n",
    "URN:NBN:no-nb_digibok_2006111400041\n",
    "URN:NBN:no-nb_digibok_2014082608024\n",
    "URN:NBN:no-nb_digibok_2008102800063\n",
    "URN:NBN:no-nb_digibok_2008091800042\n",
    "URN:NBN:no-nb_digibok_2009111912009\n",
    "URN:NBN:no-nb_digibok_2016091926005\n",
    "URN:NBN:no-nb_digibok_2008100703029\n",
    "URN:NBN:no-nb_digibok_2013102828008\n",
    "URN:NBN:no-nb_digibok_2008100210001\n",
    "URN:NBN:no-nb_digibok_2016070126002\n",
    "URN:NBN:no-nb_digibok_2016061326009\n",
    "URN:NBN:no-nb_digibok_2014070826001\n",
    "URN:NBN:no-nb_digibok_2010092803024\n",
    "URN:NBN:no-nb_digibok_2009080703003\n",
    "URN:NBN:no-nb_digibok_2016101928002\n",
    "URN:NBN:no-nb_digibok_2017062948068\n",
    "URN:NBN:no-nb_digibok_2017082926004\n",
    "URN:NBN:no-nb_digibok_2015081829001\n",
    "URN:NBN:no-nb_digibok_2008091803012\n",
    "URN:NBN:no-nb_digibok_2017081626006\n",
    "URN:NBN:no-nb_digibok_2008081102002\n",
    "URN:NBN:no-nb_digibok_2010021803043\n",
    "URN:NBN:no-nb_digibok_2007081003009\n",
    "URN:NBN:no-nb_digibok_2008080410002\n",
    "URN:NBN:no-nb_digibok_2010021603003\n",
    "URN:NBN:no-nb_digibok_2006082800062\n",
    "URN:NBN:no-nb_digibok_2010021903003\n",
    "URN:NBN:no-nb_digibok_2016051048044\n",
    "URN:NBN:no-nb_digibok_2010030903076\n",
    "URN:NBN:no-nb_digibok_2008090210001\n",
    "URN:NBN:no-nb_digibok_2015060948135\n",
    "URN:NBN:no-nb_digibok_2010042703062\n",
    "URN:NBN:no-nb_digibok_2009071010001\n",
    "URN:NBN:no-nb_digibok_2017112748070\n",
    "URN:NBN:no-nb_digibok_2008121510002\n",
    "URN:NBN:no-nb_digibok_2016091926006\n",
    "URN:NBN:no-nb_digibok_2017051248076\n",
    "URN:NBN:no-nb_digibok_2014080508118\n",
    "URN:NBN:no-nb_digibok_2010021003015\n",
    "URN:NBN:no-nb_digibok_2008100703028\n",
    "URN:NBN:no-nb_digibok_2013102828010\n",
    "URN:NBN:no-nb_digibok_2013102828009\n",
    "URN:NBN:no-nb_digibok_2010020903019\n",
    "URN:NBN:no-nb_digibok_2008041003002\n",
    "URN:NBN:no-nb_digibok_2014052208017\n",
    "URN:NBN:no-nb_digibok_2013090527046\n",
    "URN:NBN:no-nb_digibok_2008111203002\n",
    "URN:NBN:no-nb_digibok_2008112703004\n",
    "URN:NBN:no-nb_digibok_2014031027002\n",
    "URN:NBN:no-nb_digibok_2010021803033\n",
    "URN:NBN:no-nb_digibok_2008111303004\n",
    "URN:NBN:no-nb_digibok_2008110503025\n",
    "URN:NBN:no-nb_digibok_2008110503011\n",
    "URN:NBN:no-nb_digibok_2017062307017\n",
    "URN:NBN:no-nb_digibok_2007072603003\n",
    "URN:NBN:no-nb_digibok_2008071700087\n",
    "URN:NBN:no-nb_digibok_2011121410005\n",
    "URN:NBN:no-nb_digibok_2010030903059\n",
    "URN:NBN:no-nb_digibok_2016030829006\n",
    "URN:NBN:no-nb_digibok_2016111429001\n",
    "URN:NBN:no-nb_digibok_2016101226006\n",
    "URN:NBN:no-nb_digibok_2014111408019\n",
    "URN:NBN:no-nb_digibok_2017031728003\n",
    "URN:NBN:no-nb_digibok_2010020103005\n",
    "URN:NBN:no-nb_digibok_2008111103035\n",
    "URN:NBN:no-nb_digibok_2008092403001\n",
    "URN:NBN:no-nb_digibok_2015042027001\n",
    "URN:NBN:no-nb_digibok_2008081204051\n",
    "URN:NBN:no-nb_digibok_2008110603009\n",
    "URN:NBN:no-nb_digibok_2007061410002\"\"\".split()"
   ]
  },
  {
   "cell_type": "code",
   "execution_count": 121,
   "metadata": {
    "collapsed": false
   },
   "outputs": [],
   "source": [
    "sofies_file_locs = []\n",
    "for urn in sofies_urner:\n",
    "    urn = urn.split('_')[-1]\n",
    "    #print(urn)\n",
    "    sofies_file_locs.append(\n",
    "        [os.path.join(nbdigital, str(row[0]), row[1]) for row in query(filelist, \"select * from files where urn = ?\", (urn,))]\n",
    "    )"
   ]
  },
  {
   "cell_type": "code",
   "execution_count": 122,
   "metadata": {
    "collapsed": false
   },
   "outputs": [
    {
     "data": {
      "text/plain": [
       "[['/disk4/3/digibok_2009111310002_ocr_xml.tar'],\n",
       " ['/disk4/2/digibok_2009102012001_ocr_xml.tar'],\n",
       " ['/disk4/5/digibok_2015043007594_ocr_xml.tar'],\n",
       " ['/disk4/3/digibok_2009062303021_ocr_xml.tar'],\n",
       " ['/disk4/3/digibok_2008110603025_ocr_xml.tar'],\n",
       " ['/disk4/4/digibok_2008100913002_ocr_xml.tar'],\n",
       " ['/disk4/4/digibok_2013061027001_ocr_xml.tar'],\n",
       " ['/disk4/3/digibok_2011032412002_ocr_xml.tar'],\n",
       " ['/disk4/3/digibok_2010042703061_ocr_xml.tar'],\n",
       " ['/disk4/3/digibok_2010042106089_ocr_xml.tar'],\n",
       " ['/disk4/2/digibok_2010021003007_ocr_xml.tar'],\n",
       " ['/disk4/4/digibok_2008061612002_ocr_xml.tar'],\n",
       " ['/disk4/3/digibok_2008120910007_ocr_xml.tar'],\n",
       " ['/disk4/5/digibok_2016101748017_ocr_xml.tar'],\n",
       " ['/disk4/5/digibok_2015072408037_ocr_xml.tar'],\n",
       " ['/disk4/4/digibok_2014030528001_ocr_xml.tar'],\n",
       " ['/disk4/5/digibok_2016091926001_ocr_xml.tar'],\n",
       " ['/disk4/5/digibok_2016030829003_ocr_xml.tar'],\n",
       " ['/disk4/5/digibok_2016072026007_ocr_xml.tar'],\n",
       " ['/disk4/4/digibok_2008102200034_ocr_xml.tar']]"
      ]
     },
     "execution_count": 122,
     "metadata": {},
     "output_type": "execute_result"
    }
   ],
   "source": [
    "sofies_file_locs[:20]"
   ]
  },
  {
   "cell_type": "code",
   "execution_count": 114,
   "metadata": {
    "collapsed": false
   },
   "outputs": [
    {
     "name": "stdout",
     "output_type": "stream",
     "text": [
      "1  3  5  aviser\t\t\t\t      lost+found   test_svein\r\n",
      "2  4  6  LAGER_FOR_ALLE_PRODUSERTE_XML_BØKER  sprakbanken  tmp\r\n"
     ]
    }
   ],
   "source": [
    "!ls /disk4/"
   ]
  },
  {
   "cell_type": "code",
   "execution_count": 132,
   "metadata": {
    "collapsed": false
   },
   "outputs": [
    {
     "name": "stdout",
     "output_type": "stream",
     "text": [
      "feil med:  ['/disk4/3/digibok_2010042703049_ocr_xml.tar'] [Errno 17] File exists: '/ram_work/digibok_2010042703049_ocr_xml'\n",
      "feil med:  [] list index out of range\n",
      "antall illustrasjoner i sofies liste 5016\n"
     ]
    }
   ],
   "source": [
    "all_illustrations = []\n",
    "for fl in sofies_file_locs:\n",
    "    #print(fl)\n",
    "    try:\n",
    "        alto_dir = alto_extract(fl[0])\n",
    "        illustrations = extract_image_alto(alto_dir)\n",
    "        all_illustrations += illustrations\n",
    "    except Exception as e:\n",
    "        print(\"feil med: \", fl, e )\n",
    "print(\"antall illustrasjoner i sofies liste\", len(all_illustrations))\n",
    "with open(os.path.join(\"/home/larj/sofies_illustrations.json\"),\"w\", encoding=\"utf-8\" ) as fp:\n",
    "    json.dump(all_illustrations, fp)"
   ]
  },
  {
   "cell_type": "code",
   "execution_count": 131,
   "metadata": {
    "collapsed": false
   },
   "outputs": [],
   "source": [
    "clean_up_ramdisk()"
   ]
  },
  {
   "cell_type": "code",
   "execution_count": 133,
   "metadata": {
    "collapsed": false
   },
   "outputs": [
    {
     "data": {
      "text/plain": [
       "5016"
      ]
     },
     "execution_count": 133,
     "metadata": {},
     "output_type": "execute_result"
    }
   ],
   "source": [
    "len(all_illustrations)"
   ]
  },
  {
   "cell_type": "code",
   "execution_count": 129,
   "metadata": {
    "collapsed": false
   },
   "outputs": [
    {
     "name": "stdout",
     "output_type": "stream",
     "text": [
      "unsupported operand type(s) for +: 'int' and 'str'\n"
     ]
    }
   ],
   "source": [
    "try:\n",
    "    2 + \"3\"\n",
    "except Exception as e:\n",
    "    print(e)"
   ]
  },
  {
   "cell_type": "code",
   "execution_count": 111,
   "metadata": {
    "collapsed": true
   },
   "outputs": [],
   "source": [
    "with open(os.path.join(\"/home/larj/illustrations.json\"),\"w\", encoding=\"utf-8\" ) as fp:\n",
    "    json.dump(all_illustrations, fp)"
   ]
  },
  {
   "cell_type": "code",
   "execution_count": 85,
   "metadata": {
    "collapsed": false
   },
   "outputs": [],
   "source": [
    "with open(os.path.join(\"/home/larj/digibok_2010020103002_ocr_xml.json\"),\"w\", encoding=\"utf-8\" ) as fp:\n",
    "    json.dump(extract_image_alto('/ram_work/digibok_2010020103002_ocr_xml'), fp)"
   ]
  },
  {
   "cell_type": "code",
   "execution_count": 4,
   "metadata": {
    "collapsed": true
   },
   "outputs": [],
   "source": [
    "import lxml"
   ]
  },
  {
   "cell_type": "code",
   "execution_count": 319,
   "metadata": {
    "collapsed": false
   },
   "outputs": [],
   "source": [
    "def alto_extract(altofile, to_path = ramdisk):\n",
    "    \"\"\"\n",
    "    Pakk ut tarfil til ramdisk og returnerer mappen filene ligger i\n",
    "    \"\"\"\n",
    "\n",
    "\n",
    "    tf = tarfile.open(altofile, 'r')\n",
    "    # lag mappe på disk med navnet foran det som står foran .tar\n",
    "    filename = os.path.basename(altofile)\n",
    "    dname = filename.split('.tar')[0]\n",
    "    ndir = os.path.join(to_path, dname )\n",
    "    os.mkdir(ndir)\n",
    "    # Pakk ut alt til mappen\n",
    "    tf.extractall(ndir)\n",
    "    tf.close()\n",
    "    return ndir\n",
    "\n",
    "\n",
    "def extract_image_alto(ndir):\n",
    "    \"\"\"Hent ut alle bildene i alto-filen. Mappen ndir peker til mappen der tarfilene ligger\"\"\"\n",
    "    \n",
    "    import xml.etree.ElementTree as ET\n",
    "    import shutil\n",
    "    \n",
    "    ns = {'mix': \"http://www.loc.gov/mix/\"} \n",
    "    # XML-filene ligger i mappen ndir, så gå gjennom med os.walk()\n",
    "    # Alle filene blir liggende i variabelen f\n",
    "    \n",
    "    r,d,f = next(os.walk(ndir))\n",
    "    \n",
    "    # hent sidene i teksten og legg dem i variabelen pages\n",
    "    # skip metadatafilene - tekstene har sidenummer representert som 4-sifrede nummer, f.eks. 0014\n",
    "    # for bøker ligger de i slutten på _-sekvensen, for aviser er de nest sist\n",
    "    \n",
    "    # hent oppløsningen fra metsfil\n",
    "    metsfile = [fmets for fmets in f if fmets.endswith('mets.xml')]\n",
    "    if metsfile != []:\n",
    "        metsfile = os.path.join(r, metsfile[0])\n",
    "        tree = ET.parse(metsfile)\n",
    "        root = tree.getroot()\n",
    "        resolutions = {element.text for element in root.findall(\".//mix:XphysScanResolution\", ns)}\n",
    "        resolution = list(resolutions)[0]\n",
    "    else:\n",
    "        resolution = 100 \n",
    "    \n",
    "    pages = []\n",
    "    \n",
    "    for page in f:\n",
    "        pag = page.split('.xml')[0].split('_')\n",
    "        try:\n",
    "            int(pag[2])\n",
    "            pages.append((page, int(pag[2])))\n",
    "            \n",
    "        except:\n",
    "            True\n",
    "    # print(pages)\n",
    "    # alle avsnitt blir nummerert fortløpende\n",
    "    \n",
    "    illustrations = []\n",
    "    # sorter variabelen pages på sidenummer, andre ledd i tuplet\n",
    "    for page in sorted(pages, key=lambda x: x[1]):\n",
    "        page_file = os.path.join(r, page[0])\n",
    "        page_num = page[1]\n",
    "        file_identifier = page[0].split('.')[0] # remove .xml\n",
    "        #print(page[0], page[1])\n",
    "        # parse XML-fila og få tak i rotelementet root\n",
    "        tree = ET.parse(page_file)\n",
    "        root = tree.getroot()\n",
    "        #print(root)\n",
    "        # Gå gjennom XML-strukturen via TextBlock, som er avsnittselementet\n",
    "        for paragraph in root.findall(\".//*[@TYPE='Illustration']\"):\n",
    "            illustrations.append(\n",
    "                {'page': file_identifier, \n",
    "                 'pagenum':page_num,\n",
    "                 'resolution': resolution,\n",
    "                 'hpos': paragraph.attrib[\"HPOS\"],\n",
    "                 'vpos':paragraph.attrib[\"VPOS\"],\n",
    "                 'width':paragraph.attrib[\"WIDTH\"],\n",
    "                 'height':paragraph.attrib[\"HEIGHT\"],\n",
    "                 'type': 'Illustration'\n",
    "                 }\n",
    "            )\n",
    "        for paragraph in root.findall(\".//*[@TYPE='GraphicalElement']\"):\n",
    "            illustrations.append(\n",
    "                {'page': file_identifier,\n",
    "                 'pagenum':page_num,\n",
    "                 'resolution': resolution,\n",
    "                 'hpos': paragraph.attrib[\"HPOS\"],\n",
    "                 'vpos':paragraph.attrib[\"VPOS\"],\n",
    "                 'width':paragraph.attrib[\"WIDTH\"],\n",
    "                 'height':paragraph.attrib[\"HEIGHT\"],\n",
    "                 'type': 'GraphicalElement'\n",
    "                 }\n",
    "            )\n",
    "        \n",
    "    return illustrations\n",
    "\n",
    "def clean_up_ramdisk():\n",
    "    import shutil\n",
    "    r,d,f = next(os.walk(ramdisk))\n",
    "    for folder in d:\n",
    "        shutil.rmtree(os.path.join(ramdisk, folder))\n",
    "    \n",
    "\n",
    "    \n",
    "    \n",
    "def fetch_words(altofile, to_path=ramdisk):\n",
    "    \"\"\"Lag en produksjonsløype for en enkelt ALTO-fil \"\"\"\n",
    "    \n",
    "    import shutil\n",
    "    \n",
    "    ndir = alto_extract(altofile, to_path=to_path)\n",
    "    print(ndir)\n",
    "    text = process_alto(ndir)\n",
    "    shutil.rmtree(ndir)\n",
    "    return text\n",
    "\n",
    "def process_tar(tarfile):\n",
    "    \"\"\" illustration_database is global variable - set it outside function\"\"\"\n",
    "    alto_dir = alto_extract(tarfile)\n",
    "    illustrations = extract_image_alto(alto_dir)\n",
    "    for i in illustrations:\n",
    "        query(GLOBAL_illustration_database, \n",
    "          \"insert into illustrations values (?,?,?,?,?,?,?,?)\", \n",
    "                (i['page'], \n",
    "                 i['pagenum'],\n",
    "                 i['resolution'],\n",
    "                 i['hpos'],\n",
    "                 i['vpos'],\n",
    "                 i['width'],\n",
    "                 i['height'],\n",
    "                 i['type'] ))\n",
    "    shutil.rmtree(alto_dir)\n"
   ]
  },
  {
   "cell_type": "markdown",
   "metadata": {},
   "source": [
    "# Create sqlite3 database for illustrations"
   ]
  },
  {
   "cell_type": "code",
   "execution_count": 325,
   "metadata": {
    "collapsed": false
   },
   "outputs": [
    {
     "data": {
      "text/plain": [
       "[]"
      ]
     },
     "execution_count": 325,
     "metadata": {},
     "output_type": "execute_result"
    }
   ],
   "source": [
    "illustrationdb = 'illustrations_bookshelf_test2.db'\n",
    "query(illustrationdb, \"\"\"create table illustrations (\n",
    "        page varchar, \n",
    "         pagenum int,\n",
    "         resolution int,\n",
    "         hpos int,\n",
    "         vpos int,\n",
    "         width int,\n",
    "         height int,\n",
    "         type varchar)\"\"\")\n"
   ]
  },
  {
   "cell_type": "code",
   "execution_count": 326,
   "metadata": {
    "collapsed": true
   },
   "outputs": [],
   "source": [
    "GLOBAL_illustration_database = illustrationdb"
   ]
  },
  {
   "cell_type": "code",
   "execution_count": 278,
   "metadata": {
    "collapsed": false
   },
   "outputs": [],
   "source": [
    "r,d,f = next(os.walk('/disk4/1'))"
   ]
  },
  {
   "cell_type": "code",
   "execution_count": 286,
   "metadata": {
    "collapsed": false
   },
   "outputs": [],
   "source": [
    "process_tar(os.path.join(r,f[20300]))"
   ]
  },
  {
   "cell_type": "code",
   "execution_count": null,
   "metadata": {
    "collapsed": true
   },
   "outputs": [],
   "source": []
  },
  {
   "cell_type": "code",
   "execution_count": 290,
   "metadata": {
    "collapsed": false
   },
   "outputs": [
    {
     "data": {
      "text/plain": [
       "[]"
      ]
     },
     "execution_count": 290,
     "metadata": {},
     "output_type": "execute_result"
    }
   ],
   "source": [
    "#query(GLOBAL_illustration_database, \"drop table illustrations\")"
   ]
  },
  {
   "cell_type": "markdown",
   "metadata": {},
   "source": [
    "# Fill up database with files, use parallell"
   ]
  },
  {
   "cell_type": "code",
   "execution_count": 288,
   "metadata": {
    "collapsed": false
   },
   "outputs": [],
   "source": [
    "from multiprocessing import Pool"
   ]
  },
  {
   "cell_type": "markdown",
   "metadata": {},
   "source": [
    "## Test speed"
   ]
  },
  {
   "cell_type": "code",
   "execution_count": 309,
   "metadata": {
    "collapsed": true
   },
   "outputs": [],
   "source": [
    "r,d,f = next(os.walk('/disk4/1'))"
   ]
  },
  {
   "cell_type": "code",
   "execution_count": 306,
   "metadata": {
    "collapsed": true
   },
   "outputs": [],
   "source": [
    "from time import time"
   ]
  },
  {
   "cell_type": "code",
   "execution_count": 317,
   "metadata": {
    "collapsed": true
   },
   "outputs": [],
   "source": [
    "clean_up_ramdisk()"
   ]
  },
  {
   "cell_type": "markdown",
   "metadata": {},
   "source": [
    "# Serial process"
   ]
  },
  {
   "cell_type": "code",
   "execution_count": 337,
   "metadata": {
    "collapsed": true
   },
   "outputs": [],
   "source": [
    "clean_up_ramdisk()"
   ]
  },
  {
   "cell_type": "code",
   "execution_count": 339,
   "metadata": {
    "collapsed": false
   },
   "outputs": [
    {
     "name": "stdout",
     "output_type": "stream",
     "text": [
      "/disk4/1/digibok_2006080900032_ocr_xml.tar 8.07560110092163\n",
      "/disk4/1/digibok_2006080900034_ocr_xml.tar 0.6568648815155029\n",
      "/disk4/1/digibok_2006080900035_ocr_xml.tar 1.1435620784759521\n",
      "/disk4/1/digibok_2006080900036_ocr_xml.tar 3.4886982440948486\n",
      "/disk4/1/digibok_2006080900038_ocr_xml.tar 0.6125986576080322\n",
      "/disk4/1/digibok_2006081000002_ocr_xml.tar 3.7062599658966064\n",
      "/disk4/1/digibok_2006081000003_ocr_xml.tar 10.826144933700562\n",
      "/disk4/1/digibok_2006081000007_ocr_xml.tar 2.8636887073516846\n",
      "/disk4/1/digibok_2006081000008_ocr_xml.tar 0.8092172145843506\n",
      "/disk4/1/digibok_2006081000009_ocr_xml.tar 2.1326863765716553\n",
      "/disk4/1/digibok_2006081000011_ocr_xml.tar 0.5695009231567383\n",
      "/disk4/1/digibok_2006081000012_ocr_xml.tar 1.5259594917297363\n",
      "/disk4/1/digibok_2006081000013_ocr_xml.tar 0.9886593818664551\n",
      "/disk4/1/digibok_2006081000014_ocr_xml.tar 1.1470940113067627\n",
      "/disk4/1/digibok_2006081000015_ocr_xml.tar 1.1026816368103027\n",
      "/disk4/1/digibok_2006081000016_ocr_xml.tar 1.5999155044555664\n",
      "/disk4/1/digibok_2006081000017_ocr_xml.tar 0.5873088836669922\n",
      "/disk4/1/digibok_2006081000018_ocr_xml.tar 1.0026144981384277\n",
      "/disk4/1/digibok_2006081000020_ocr_xml.tar 2.0899181365966797\n",
      "/disk4/1/digibok_2006081000021_ocr_xml.tar 0.8923609256744385\n"
     ]
    },
    {
     "data": {
      "text/plain": [
       "[7.931894779205322,\n",
       " 0.7220849990844727,\n",
       " 1.1220245361328125,\n",
       " 3.2886643409729004,\n",
       " 0.7860541343688965,\n",
       " 3.787655830383301,\n",
       " 11.170828104019165,\n",
       " 3.3448026180267334,\n",
       " 1.025611162185669,\n",
       " 2.455352783203125,\n",
       " 0.572791337966919,\n",
       " 1.5789012908935547,\n",
       " 0.8825137615203857,\n",
       " 1.2211689949035645,\n",
       " 1.107832908630371,\n",
       " 1.5304031372070312,\n",
       " 0.4694392681121826,\n",
       " 0.9871499538421631,\n",
       " 2.371110200881958,\n",
       " 0.9975221157073975]"
      ]
     },
     "execution_count": 339,
     "metadata": {},
     "output_type": "execute_result"
    }
   ],
   "source": [
    "illus_t = []\n",
    "for file in [os.path.join(r, fn) for fn in f[20:40]]:\n",
    "    illus_t.append(process_tar_t(file))\n",
    "times"
   ]
  },
  {
   "cell_type": "markdown",
   "metadata": {},
   "source": [
    "# Parallell (so serial is approx 2.1 sec pr. file)"
   ]
  },
  {
   "cell_type": "code",
   "execution_count": 355,
   "metadata": {
    "collapsed": false
   },
   "outputs": [
    {
     "name": "stdout",
     "output_type": "stream",
     "text": [
      "/disk4/1/digibok_2006081000011_ocr_xml.tar 0.8276462554931641\n",
      "/disk4/1/digibok_2006080900038_ocr_xml.tar 0.9050748348236084\n",
      "/disk4/1/digibok_2006081000008_ocr_xml.tar 1.0581514835357666\n",
      "/disk4/1/digibok_2006080900035_ocr_xml.tar 1.3357536792755127\n",
      "/disk4/1/digibok_2006080900032_ocr_xml.tar 4.624724864959717\n",
      "/disk4/1/digibok_2006080900034_ocr_xml.tar 0.6854825019836426\n",
      "/disk4/1/digibok_2006081000002_ocr_xml.tar 5.846552610397339\n",
      "/disk4/1/digibok_2006081000009_ocr_xml.tar 6.114471435546875\n",
      "/disk4/1/digibok_2006081000017_ocr_xml.tar 0.41780734062194824\n",
      "/disk4/1/digibok_2006081000018_ocr_xml.tar 1.0202338695526123\n",
      "/disk4/1/digibok_2006081000020_ocr_xml.tar 2.1100594997406006\n",
      "/disk4/1/digibok_2006081000003_ocr_xml.tar 11.401070833206177\n",
      "/disk4/1/digibok_2006081000012_ocr_xml.tar 11.001638412475586\n",
      "/disk4/1/digibok_2006081000021_ocr_xml.tar 1.1629362106323242\n",
      "/disk4/1/digibok_2006080900036_ocr_xml.tar 11.098691463470459\n",
      "/disk4/1/digibok_2006081000015_ocr_xml.tar 5.840652942657471\n",
      "/disk4/1/digibok_2006081000013_ocr_xml.tar 7.393001317977905\n",
      "/disk4/1/digibok_2006081000026_ocr_xml.tar 2.167874813079834\n",
      "/disk4/1/digibok_2006081000014_ocr_xml.tar 1.9457948207855225\n",
      "/disk4/1/digibok_2006081000007_ocr_xml.tar 3.3962581157684326\n",
      "/disk4/1/digibok_2006081000022_ocr_xml.tar 3.0301294326782227\n",
      "/disk4/1/digibok_2006081000024_ocr_xml.tar 3.087688446044922\n",
      "/disk4/1/digibok_2006081000016_ocr_xml.tar 2.5756657123565674\n",
      "/disk4/1/digibok_2006081000028_ocr_xml.tar 0.9788486957550049\n",
      "/disk4/1/digibok_2006081000038_ocr_xml.tar 0.558894157409668\n",
      "/disk4/1/digibok_2006081000034_ocr_xml.tar 1.129967212677002\n",
      "/disk4/1/digibok_2006081000023_ocr_xml.tar 1.4953389167785645\n",
      "/disk4/1/digibok_2006081000040_ocr_xml.tar 1.2959165573120117\n",
      "/disk4/1/digibok_2006081000032_ocr_xml.tar 3.585700750350952\n",
      "/disk4/1/digibok_2006081000043_ocr_xml.tar 2.0639467239379883\n",
      "/disk4/1/digibok_2006081000035_ocr_xml.tar 2.1983814239501953\n",
      "/disk4/1/digibok_2006081000045_ocr_xml.tar 1.2413690090179443\n",
      "/disk4/1/digibok_2006081000025_ocr_xml.tar 3.8071372509002686\n",
      "/disk4/1/digibok_2006081000033_ocr_xml.tar 0.9318130016326904\n",
      "/disk4/1/digibok_2006081000044_ocr_xml.tar 1.211975336074829\n",
      "/disk4/1/digibok_2006081000029_ocr_xml.tar 7.640526533126831\n",
      "/disk4/1/digibok_2006081000047_ocr_xml.tar 3.897366523742676\n",
      "/disk4/1/digibok_2006081000046_ocr_xml.tar 4.263690710067749\n",
      "/disk4/1/digibok_2006081000031_ocr_xml.tar 1.696887493133545\n",
      "/disk4/1/digibok_2006081000049_ocr_xml.tar 5.519894361495972\n"
     ]
    }
   ],
   "source": [
    "# use variabel r, f as list of files as defined above\n",
    "def process_tar_t(tf):\n",
    "    t = time()\n",
    "    process_tar(tf)\n",
    "    print(tf, time() - t)\n",
    "\n",
    "import atexit\n",
    "\n",
    "file_names = [os.path.join(r, fn) for fn in f[20:60]]\n",
    "t0 = time()\n",
    "if __name__ == '__main__':\n",
    "    worker = Pool(6)\n",
    "    data = worker.map(process_tar_t, file_names)\n",
    "ptime = time() - t0\n"
   ]
  },
  {
   "cell_type": "code",
   "execution_count": 344,
   "metadata": {
    "collapsed": false
   },
   "outputs": [
    {
     "data": {
      "text/plain": [
       "<multiprocessing.pool.Pool at 0x7f53a71ac8d0>"
      ]
     },
     "execution_count": 344,
     "metadata": {},
     "output_type": "execute_result"
    }
   ],
   "source": [
    "worker"
   ]
  },
  {
   "cell_type": "code",
   "execution_count": 322,
   "metadata": {
    "collapsed": false
   },
   "outputs": [
    {
     "ename": "NameError",
     "evalue": "name 'ptime' is not defined",
     "output_type": "error",
     "traceback": [
      "\u001b[0;31m---------------------------------------------------------------------------\u001b[0m",
      "\u001b[0;31mNameError\u001b[0m                                 Traceback (most recent call last)",
      "\u001b[0;32m<ipython-input-322-2a8950900a1f>\u001b[0m in \u001b[0;36m<module>\u001b[0;34m()\u001b[0m\n\u001b[0;32m----> 1\u001b[0;31m \u001b[0mprint\u001b[0m\u001b[0;34m(\u001b[0m\u001b[0mptime\u001b[0m\u001b[0;34m)\u001b[0m\u001b[0;34m\u001b[0m\u001b[0m\n\u001b[0m",
      "\u001b[0;31mNameError\u001b[0m: name 'ptime' is not defined"
     ]
    }
   ],
   "source": [
    "print(ptime)"
   ]
  },
  {
   "cell_type": "markdown",
   "metadata": {},
   "source": [
    "## Kjør hovedloop for å fylle opp database"
   ]
  },
  {
   "cell_type": "code",
   "execution_count": 293,
   "metadata": {
    "collapsed": false
   },
   "outputs": [
    {
     "name": "stdout",
     "output_type": "stream",
     "text": [
      "/disk4/1\n"
     ]
    },
    {
     "name": "stderr",
     "output_type": "stream",
     "text": [
      "Process ForkPoolWorker-8:\n",
      "Traceback (most recent call last):\n",
      "  File \"/home/larj/anaconda3/lib/python3.5/multiprocessing/process.py\", line 249, in _bootstrap\n",
      "    self.run()\n",
      "  File \"/home/larj/anaconda3/lib/python3.5/multiprocessing/process.py\", line 93, in run\n",
      "    self._target(*self._args, **self._kwargs)\n",
      "  File \"/home/larj/anaconda3/lib/python3.5/multiprocessing/pool.py\", line 119, in worker\n",
      "    result = (True, func(*args, **kwds))\n",
      "  File \"/home/larj/anaconda3/lib/python3.5/multiprocessing/pool.py\", line 44, in mapstar\n",
      "    return list(map(*args))\n",
      "  File \"<ipython-input-280-dbf56410a4d1>\", line 132, in process_tar\n",
      "    i['type'] ))\n",
      "  File \"<ipython-input-8-1538efaa7930>\", line 7, in query\n",
      "    res = []\n",
      "KeyboardInterrupt\n"
     ]
    },
    {
     "ename": "KeyboardInterrupt",
     "evalue": "",
     "output_type": "error",
     "traceback": [
      "\u001b[0;31m---------------------------------------------------------------------------\u001b[0m",
      "\u001b[0;31mKeyboardInterrupt\u001b[0m                         Traceback (most recent call last)",
      "\u001b[0;32m<ipython-input-293-b532a3fa487f>\u001b[0m in \u001b[0;36m<module>\u001b[0;34m()\u001b[0m\n\u001b[1;32m      5\u001b[0m         \u001b[0mr\u001b[0m\u001b[0;34m,\u001b[0m \u001b[0md\u001b[0m\u001b[0;34m,\u001b[0m \u001b[0mf\u001b[0m \u001b[0;34m=\u001b[0m \u001b[0mnext\u001b[0m\u001b[0;34m(\u001b[0m\u001b[0mos\u001b[0m\u001b[0;34m.\u001b[0m\u001b[0mwalk\u001b[0m\u001b[0;34m(\u001b[0m\u001b[0mdir_\u001b[0m\u001b[0;34m)\u001b[0m\u001b[0;34m)\u001b[0m\u001b[0;34m\u001b[0m\u001b[0m\n\u001b[1;32m      6\u001b[0m         \u001b[0mprint\u001b[0m\u001b[0;34m(\u001b[0m\u001b[0mr\u001b[0m\u001b[0;34m)\u001b[0m\u001b[0;34m\u001b[0m\u001b[0m\n\u001b[0;32m----> 7\u001b[0;31m         \u001b[0mworker\u001b[0m\u001b[0;34m.\u001b[0m\u001b[0mmap\u001b[0m\u001b[0;34m(\u001b[0m\u001b[0mprocess_tar\u001b[0m\u001b[0;34m,\u001b[0m \u001b[0;34m[\u001b[0m\u001b[0mos\u001b[0m\u001b[0;34m.\u001b[0m\u001b[0mpath\u001b[0m\u001b[0;34m.\u001b[0m\u001b[0mjoin\u001b[0m\u001b[0;34m(\u001b[0m\u001b[0mr\u001b[0m\u001b[0;34m,\u001b[0m \u001b[0mfile\u001b[0m\u001b[0;34m)\u001b[0m \u001b[0;32mfor\u001b[0m \u001b[0mfile\u001b[0m \u001b[0;32min\u001b[0m \u001b[0mf\u001b[0m\u001b[0;34m]\u001b[0m\u001b[0;34m)\u001b[0m\u001b[0;34m\u001b[0m\u001b[0m\n\u001b[0m",
      "\u001b[0;32m/home/larj/anaconda3/lib/python3.5/multiprocessing/pool.py\u001b[0m in \u001b[0;36mmap\u001b[0;34m(self, func, iterable, chunksize)\u001b[0m\n\u001b[1;32m    258\u001b[0m         \u001b[0;32min\u001b[0m \u001b[0ma\u001b[0m \u001b[0mlist\u001b[0m \u001b[0mthat\u001b[0m \u001b[0;32mis\u001b[0m \u001b[0mreturned\u001b[0m\u001b[0;34m.\u001b[0m\u001b[0;34m\u001b[0m\u001b[0m\n\u001b[1;32m    259\u001b[0m         '''\n\u001b[0;32m--> 260\u001b[0;31m         \u001b[0;32mreturn\u001b[0m \u001b[0mself\u001b[0m\u001b[0;34m.\u001b[0m\u001b[0m_map_async\u001b[0m\u001b[0;34m(\u001b[0m\u001b[0mfunc\u001b[0m\u001b[0;34m,\u001b[0m \u001b[0miterable\u001b[0m\u001b[0;34m,\u001b[0m \u001b[0mmapstar\u001b[0m\u001b[0;34m,\u001b[0m \u001b[0mchunksize\u001b[0m\u001b[0;34m)\u001b[0m\u001b[0;34m.\u001b[0m\u001b[0mget\u001b[0m\u001b[0;34m(\u001b[0m\u001b[0;34m)\u001b[0m\u001b[0;34m\u001b[0m\u001b[0m\n\u001b[0m\u001b[1;32m    261\u001b[0m \u001b[0;34m\u001b[0m\u001b[0m\n\u001b[1;32m    262\u001b[0m     \u001b[0;32mdef\u001b[0m \u001b[0mstarmap\u001b[0m\u001b[0;34m(\u001b[0m\u001b[0mself\u001b[0m\u001b[0;34m,\u001b[0m \u001b[0mfunc\u001b[0m\u001b[0;34m,\u001b[0m \u001b[0miterable\u001b[0m\u001b[0;34m,\u001b[0m \u001b[0mchunksize\u001b[0m\u001b[0;34m=\u001b[0m\u001b[0;32mNone\u001b[0m\u001b[0;34m)\u001b[0m\u001b[0;34m:\u001b[0m\u001b[0;34m\u001b[0m\u001b[0m\n",
      "\u001b[0;32m/home/larj/anaconda3/lib/python3.5/multiprocessing/pool.py\u001b[0m in \u001b[0;36mget\u001b[0;34m(self, timeout)\u001b[0m\n\u001b[1;32m    600\u001b[0m \u001b[0;34m\u001b[0m\u001b[0m\n\u001b[1;32m    601\u001b[0m     \u001b[0;32mdef\u001b[0m \u001b[0mget\u001b[0m\u001b[0;34m(\u001b[0m\u001b[0mself\u001b[0m\u001b[0;34m,\u001b[0m \u001b[0mtimeout\u001b[0m\u001b[0;34m=\u001b[0m\u001b[0;32mNone\u001b[0m\u001b[0;34m)\u001b[0m\u001b[0;34m:\u001b[0m\u001b[0;34m\u001b[0m\u001b[0m\n\u001b[0;32m--> 602\u001b[0;31m         \u001b[0mself\u001b[0m\u001b[0;34m.\u001b[0m\u001b[0mwait\u001b[0m\u001b[0;34m(\u001b[0m\u001b[0mtimeout\u001b[0m\u001b[0;34m)\u001b[0m\u001b[0;34m\u001b[0m\u001b[0m\n\u001b[0m\u001b[1;32m    603\u001b[0m         \u001b[0;32mif\u001b[0m \u001b[0;32mnot\u001b[0m \u001b[0mself\u001b[0m\u001b[0;34m.\u001b[0m\u001b[0mready\u001b[0m\u001b[0;34m(\u001b[0m\u001b[0;34m)\u001b[0m\u001b[0;34m:\u001b[0m\u001b[0;34m\u001b[0m\u001b[0m\n\u001b[1;32m    604\u001b[0m             \u001b[0;32mraise\u001b[0m \u001b[0mTimeoutError\u001b[0m\u001b[0;34m\u001b[0m\u001b[0m\n",
      "\u001b[0;32m/home/larj/anaconda3/lib/python3.5/multiprocessing/pool.py\u001b[0m in \u001b[0;36mwait\u001b[0;34m(self, timeout)\u001b[0m\n\u001b[1;32m    597\u001b[0m \u001b[0;34m\u001b[0m\u001b[0m\n\u001b[1;32m    598\u001b[0m     \u001b[0;32mdef\u001b[0m \u001b[0mwait\u001b[0m\u001b[0;34m(\u001b[0m\u001b[0mself\u001b[0m\u001b[0;34m,\u001b[0m \u001b[0mtimeout\u001b[0m\u001b[0;34m=\u001b[0m\u001b[0;32mNone\u001b[0m\u001b[0;34m)\u001b[0m\u001b[0;34m:\u001b[0m\u001b[0;34m\u001b[0m\u001b[0m\n\u001b[0;32m--> 599\u001b[0;31m         \u001b[0mself\u001b[0m\u001b[0;34m.\u001b[0m\u001b[0m_event\u001b[0m\u001b[0;34m.\u001b[0m\u001b[0mwait\u001b[0m\u001b[0;34m(\u001b[0m\u001b[0mtimeout\u001b[0m\u001b[0;34m)\u001b[0m\u001b[0;34m\u001b[0m\u001b[0m\n\u001b[0m\u001b[1;32m    600\u001b[0m \u001b[0;34m\u001b[0m\u001b[0m\n\u001b[1;32m    601\u001b[0m     \u001b[0;32mdef\u001b[0m \u001b[0mget\u001b[0m\u001b[0;34m(\u001b[0m\u001b[0mself\u001b[0m\u001b[0;34m,\u001b[0m \u001b[0mtimeout\u001b[0m\u001b[0;34m=\u001b[0m\u001b[0;32mNone\u001b[0m\u001b[0;34m)\u001b[0m\u001b[0;34m:\u001b[0m\u001b[0;34m\u001b[0m\u001b[0m\n",
      "\u001b[0;32m/home/larj/anaconda3/lib/python3.5/threading.py\u001b[0m in \u001b[0;36mwait\u001b[0;34m(self, timeout)\u001b[0m\n\u001b[1;32m    547\u001b[0m             \u001b[0msignaled\u001b[0m \u001b[0;34m=\u001b[0m \u001b[0mself\u001b[0m\u001b[0;34m.\u001b[0m\u001b[0m_flag\u001b[0m\u001b[0;34m\u001b[0m\u001b[0m\n\u001b[1;32m    548\u001b[0m             \u001b[0;32mif\u001b[0m \u001b[0;32mnot\u001b[0m \u001b[0msignaled\u001b[0m\u001b[0;34m:\u001b[0m\u001b[0;34m\u001b[0m\u001b[0m\n\u001b[0;32m--> 549\u001b[0;31m                 \u001b[0msignaled\u001b[0m \u001b[0;34m=\u001b[0m \u001b[0mself\u001b[0m\u001b[0;34m.\u001b[0m\u001b[0m_cond\u001b[0m\u001b[0;34m.\u001b[0m\u001b[0mwait\u001b[0m\u001b[0;34m(\u001b[0m\u001b[0mtimeout\u001b[0m\u001b[0;34m)\u001b[0m\u001b[0;34m\u001b[0m\u001b[0m\n\u001b[0m\u001b[1;32m    550\u001b[0m             \u001b[0;32mreturn\u001b[0m \u001b[0msignaled\u001b[0m\u001b[0;34m\u001b[0m\u001b[0m\n\u001b[1;32m    551\u001b[0m \u001b[0;34m\u001b[0m\u001b[0m\n",
      "\u001b[0;32m/home/larj/anaconda3/lib/python3.5/threading.py\u001b[0m in \u001b[0;36mwait\u001b[0;34m(self, timeout)\u001b[0m\n\u001b[1;32m    291\u001b[0m         \u001b[0;32mtry\u001b[0m\u001b[0;34m:\u001b[0m    \u001b[0;31m# restore state no matter what (e.g., KeyboardInterrupt)\u001b[0m\u001b[0;34m\u001b[0m\u001b[0m\n\u001b[1;32m    292\u001b[0m             \u001b[0;32mif\u001b[0m \u001b[0mtimeout\u001b[0m \u001b[0;32mis\u001b[0m \u001b[0;32mNone\u001b[0m\u001b[0;34m:\u001b[0m\u001b[0;34m\u001b[0m\u001b[0m\n\u001b[0;32m--> 293\u001b[0;31m                 \u001b[0mwaiter\u001b[0m\u001b[0;34m.\u001b[0m\u001b[0macquire\u001b[0m\u001b[0;34m(\u001b[0m\u001b[0;34m)\u001b[0m\u001b[0;34m\u001b[0m\u001b[0m\n\u001b[0m\u001b[1;32m    294\u001b[0m                 \u001b[0mgotit\u001b[0m \u001b[0;34m=\u001b[0m \u001b[0;32mTrue\u001b[0m\u001b[0;34m\u001b[0m\u001b[0m\n\u001b[1;32m    295\u001b[0m             \u001b[0;32melse\u001b[0m\u001b[0;34m:\u001b[0m\u001b[0;34m\u001b[0m\u001b[0m\n",
      "\u001b[0;31mKeyboardInterrupt\u001b[0m: "
     ]
    }
   ],
   "source": [
    "\n",
    "if __name__ == '__main__':\n",
    "    worker = Pool(6)\n",
    "    directories = [os.path.join('/disk4', str(i)) for i in range(1, 7)]\n",
    "    for dir_ in directories:\n",
    "        r, d, f = next(os.walk(dir_))\n",
    "        print(r)\n",
    "        worker.map(process_tar, [os.path.join(r, file) for file in f])"
   ]
  },
  {
   "cell_type": "markdown",
   "metadata": {
    "collapsed": true
   },
   "source": [
    "\n",
    "## Find metsdata"
   ]
  },
  {
   "cell_type": "code",
   "execution_count": 272,
   "metadata": {
    "collapsed": false
   },
   "outputs": [
    {
     "name": "stdout",
     "output_type": "stream",
     "text": [
      "/disk4/1\n",
      "digibok_2006080900001_ocr_xml.tar\n",
      "digibok_2006080900002_ocr_xml.tar\n",
      "digibok_2006080900004_ocr_xml.tar\n",
      "digibok_2006080900005_ocr_xml.tar\n",
      "digibok_2006080900007_ocr_xml.tar\n",
      "digibok_2006080900015_ocr_xml.tar\n",
      "digibok_2006080900016_ocr_xml.tar\n",
      "digibok_2006080900017_ocr_xml.tar\n",
      "digibok_2006080900018_ocr_xml.tar\n",
      "digibok_2006080900019_ocr_xml.tar\n",
      "digibok_2006080900021_ocr_xml.tar\n",
      "digibok_2006080900022_ocr_xml.tar\n",
      "digibok_2006080900023_ocr_xml.tar\n",
      "digibok_2006080900024_ocr_xml.tar\n",
      "digibok_2006080900025_ocr_xml.tar\n",
      "digibok_2006080900027_ocr_xml.tar\n",
      "digibok_2006080900028_ocr_xml.tar\n",
      "digibok_2006080900029_ocr_xml.tar\n",
      "digibok_2006080900030_ocr_xml.tar\n",
      "digibok_2006080900031_ocr_xml.tar\n"
     ]
    },
    {
     "data": {
      "text/plain": [
       "'hurra'"
      ]
     },
     "execution_count": 272,
     "metadata": {},
     "output_type": "execute_result"
    }
   ],
   "source": [
    "process_tars()"
   ]
  },
  {
   "cell_type": "code",
   "execution_count": 136,
   "metadata": {
    "collapsed": false
   },
   "outputs": [
    {
     "data": {
      "text/plain": [
       "'/ram_work/digibok'"
      ]
     },
     "execution_count": 136,
     "metadata": {},
     "output_type": "execute_result"
    }
   ],
   "source": [
    "os.path.join('/ram_work/', 'digibok')"
   ]
  },
  {
   "cell_type": "code",
   "execution_count": 148,
   "metadata": {
    "collapsed": false
   },
   "outputs": [],
   "source": [
    "mets = []\n",
    "for _, mappe,_ in os.walk('/ram_work'):\n",
    "    for d in mappe:\n",
    "        for _, _, files in os.walk(os.path.join('/ram_work', d)):\n",
    "            #print(f)\n",
    "            for f in files:\n",
    "                if \"mets\" in f:\n",
    "                    mets.append(os.path.join('/ram_work', d, f))\n",
    "                          "
   ]
  },
  {
   "cell_type": "code",
   "execution_count": 163,
   "metadata": {
    "collapsed": false
   },
   "outputs": [],
   "source": [
    "import xml.etree.ElementTree as ET\n",
    "ns = {'mix': \"http://www.loc.gov/mix/\"} \n",
    "filemap = dict()\n",
    "for file in mets:\n",
    "    tree = ET.parse(file)\n",
    "    root = tree.getroot()\n",
    "    resolutions = {element.text for element in root.findall(\".//mix:XphysScanResolution\", ns)}\n",
    "    filemap[file] = resolutions\n",
    "        "
   ]
  },
  {
   "cell_type": "code",
   "execution_count": 182,
   "metadata": {
    "collapsed": false
   },
   "outputs": [
    {
     "data": {
      "text/plain": [
       "{'/ram_work/digibok_2006081000017_ocr_xml/digibok_2006081000017-mets.xml': {'400'},\n",
       " '/ram_work/digibok_2006082200038_ocr_xml/digibok_2006082200038-mets.xml': {'150'},\n",
       " '/ram_work/digibok_2006082800062_ocr_xml/digibok_2006082800062-mets.xml': {'400'},\n",
       " '/ram_work/digibok_2006111400041_ocr_xml/digibok_2006111400041-mets.xml': {'400'},\n",
       " '/ram_work/digibok_2006111501008_ocr_xml/digibok_2006111501008-mets.xml': {'400'},\n",
       " '/ram_work/digibok_2006112101078_ocr_xml/digibok_2006112101078-mets.xml': {'400'},\n",
       " '/ram_work/digibok_2006112200046_ocr_xml/digibok_2006112200046-mets.xml': {'400'},\n",
       " '/ram_work/digibok_2006112301019_ocr_xml/digibok_2006112301019-mets.xml': {'400'},\n",
       " '/ram_work/digibok_2006112301027_ocr_xml/digibok_2006112301027-mets.xml': {'400'},\n",
       " '/ram_work/digibok_2007041803002_ocr_xml/digibok_2007041803002-mets.xml': {'150'},\n",
       " '/ram_work/digibok_2007053010002_ocr_xml/digibok_2007053010002-mets.xml': {'400'},\n",
       " '/ram_work/digibok_2007061410002_ocr_xml/digibok_2007061410002-mets.xml': {'400'},\n",
       " '/ram_work/digibok_2007061902001_ocr_xml/digibok_2007061902001-mets.xml': {'150'},\n",
       " '/ram_work/digibok_2007062802001_ocr_xml/digibok_2007062802001-mets.xml': {'150'},\n",
       " '/ram_work/digibok_2007070302002_ocr_xml/digibok_2007070302002-mets.xml': {'150'},\n",
       " '/ram_work/digibok_2007070302003_ocr_xml/digibok_2007070302003-mets.xml': {'150'},\n",
       " '/ram_work/digibok_2007070302004_ocr_xml/digibok_2007070302004-mets.xml': {'150'},\n",
       " '/ram_work/digibok_2007072303003_ocr_xml/digibok_2007072303003-mets.xml': {'150'},\n",
       " '/ram_work/digibok_2007072403001_ocr_xml/digibok_2007072403001-mets.xml': {'150'},\n",
       " '/ram_work/digibok_2007072603003_ocr_xml/digibok_2007072603003-mets.xml': {'400'},\n",
       " '/ram_work/digibok_2007072603004_ocr_xml/digibok_2007072603004-mets.xml': {'150'},\n",
       " '/ram_work/digibok_2007080203002_ocr_xml/digibok_2007080203002-mets.xml': {'150'},\n",
       " '/ram_work/digibok_2007081003009_ocr_xml/digibok_2007081003009-mets.xml': {'150'},\n",
       " '/ram_work/digibok_2007082103001_ocr_xml/digibok_2007082103001-mets.xml': {'150'},\n",
       " '/ram_work/digibok_2007090712001_ocr_xml/digibok_2007090712001-mets.xml': {'150'},\n",
       " '/ram_work/digibok_2007091210003_ocr_xml/digibok_2007091210003-mets.xml': {'150'},\n",
       " '/ram_work/digibok_2007091310001_ocr_xml/digibok_2007091310001-mets.xml': {'150'},\n",
       " '/ram_work/digibok_2007091310003_ocr_xml/digibok_2007091310003-mets.xml': {'150'},\n",
       " '/ram_work/digibok_2007091310004_ocr_xml/digibok_2007091310004-mets.xml': {'150'},\n",
       " '/ram_work/digibok_2007091310005_ocr_xml/digibok_2007091310005-mets.xml': {'150'},\n",
       " '/ram_work/digibok_2007100112002_ocr_xml/digibok_2007100112002-mets.xml': {'150'},\n",
       " '/ram_work/digibok_2007100812001_ocr_xml/digibok_2007100812001-mets.xml': {'150'},\n",
       " '/ram_work/digibok_2007101013002_ocr_xml/digibok_2007101013002-mets.xml': {'150'},\n",
       " '/ram_work/digibok_2007101203001_ocr_xml/digibok_2007101203001-mets.xml': {'150'},\n",
       " '/ram_work/digibok_2007101612003_ocr_xml/digibok_2007101612003-mets.xml': {'150'},\n",
       " '/ram_work/digibok_2007102502001_ocr_xml/digibok_2007102502001-mets.xml': {'150'},\n",
       " '/ram_work/digibok_2007112610010_ocr_xml/digibok_2007112610010-mets.xml': {'150'},\n",
       " '/ram_work/digibok_2007120412004_ocr_xml/digibok_2007120412004-mets.xml': {'150'},\n",
       " '/ram_work/digibok_2007121103001_ocr_xml/digibok_2007121103001-mets.xml': {'150'},\n",
       " '/ram_work/digibok_2008012410002_ocr_xml/digibok_2008012410002-mets.xml': {'150'},\n",
       " '/ram_work/digibok_2008040712002_ocr_xml/digibok_2008040712002-mets.xml': {'150'},\n",
       " '/ram_work/digibok_2008041003002_ocr_xml/digibok_2008041003002-mets.xml': {'150'},\n",
       " '/ram_work/digibok_2008042510001_ocr_xml/digibok_2008042510001-mets.xml': {'150'},\n",
       " '/ram_work/digibok_2008052102001_ocr_xml/digibok_2008052102001-mets.xml': {'150'},\n",
       " '/ram_work/digibok_2008061312001_ocr_xml/digibok_2008061312001-mets.xml': {'150'},\n",
       " '/ram_work/digibok_2008061612002_ocr_xml/digibok_2008061612002-mets.xml': {'150'},\n",
       " '/ram_work/digibok_2008062302001_ocr_xml/digibok_2008062302001-mets.xml': {'400'},\n",
       " '/ram_work/digibok_2008071110017_ocr_xml/digibok_2008071110017-mets.xml': {'150'},\n",
       " '/ram_work/digibok_2008071700087_ocr_xml/digibok_2008071700087-mets.xml': {'300',\n",
       "  '400'},\n",
       " '/ram_work/digibok_2008072810005_ocr_xml/digibok_2008072810005-mets.xml': {'150'},\n",
       " '/ram_work/digibok_2008080410002_ocr_xml/digibok_2008080410002-mets.xml': {'150'},\n",
       " '/ram_work/digibok_2008080810010_ocr_xml/digibok_2008080810010-mets.xml': {'150'},\n",
       " '/ram_work/digibok_2008081102002_ocr_xml/digibok_2008081102002-mets.xml': {'400'},\n",
       " '/ram_work/digibok_2008081204051_ocr_xml/digibok_2008081204051-mets.xml': {'150'},\n",
       " '/ram_work/digibok_2008082210009_ocr_xml/digibok_2008082210009-mets.xml': {'150'},\n",
       " '/ram_work/digibok_2008090210001_ocr_xml/digibok_2008090210001-mets.xml': {'150'},\n",
       " '/ram_work/digibok_2008090903010_ocr_xml/digibok_2008090903010-mets.xml': {'150'},\n",
       " '/ram_work/digibok_2008090903021_ocr_xml/digibok_2008090903021-mets.xml': {'150'},\n",
       " '/ram_work/digibok_2008090903035_ocr_xml/digibok_2008090903035-mets.xml': {'150'},\n",
       " '/ram_work/digibok_2008091002003_ocr_xml/digibok_2008091002003-mets.xml': {'400'},\n",
       " '/ram_work/digibok_2008091003004_ocr_xml/digibok_2008091003004-mets.xml': {'150'},\n",
       " '/ram_work/digibok_2008091502001_ocr_xml/digibok_2008091502001-mets.xml': {'400'},\n",
       " '/ram_work/digibok_2008091503001_ocr_xml/digibok_2008091503001-mets.xml': {'150'},\n",
       " '/ram_work/digibok_2008091602002_ocr_xml/digibok_2008091602002-mets.xml': {'400'},\n",
       " '/ram_work/digibok_2008091603029_ocr_xml/digibok_2008091603029-mets.xml': {'150'},\n",
       " '/ram_work/digibok_2008091800010_ocr_xml/digibok_2008091800010-mets.xml': {'150'},\n",
       " '/ram_work/digibok_2008091800014_ocr_xml/digibok_2008091800014-mets.xml': {'150'},\n",
       " '/ram_work/digibok_2008091800028_ocr_xml/digibok_2008091800028-mets.xml': {'150'},\n",
       " '/ram_work/digibok_2008091800042_ocr_xml/digibok_2008091800042-mets.xml': {'150'},\n",
       " '/ram_work/digibok_2008091803012_ocr_xml/digibok_2008091803012-mets.xml': {'150'},\n",
       " '/ram_work/digibok_2008092303004_ocr_xml/digibok_2008092303004-mets.xml': {'150'},\n",
       " '/ram_work/digibok_2008092303017_ocr_xml/digibok_2008092303017-mets.xml': {'150'},\n",
       " '/ram_work/digibok_2008092403001_ocr_xml/digibok_2008092403001-mets.xml': {'400'},\n",
       " '/ram_work/digibok_2008092603002_ocr_xml/digibok_2008092603002-mets.xml': {'400'},\n",
       " '/ram_work/digibok_2008100113001_ocr_xml/digibok_2008100113001-mets.xml': {'150'},\n",
       " '/ram_work/digibok_2008100210001_ocr_xml/digibok_2008100210001-mets.xml': {'150'},\n",
       " '/ram_work/digibok_2008100212002_ocr_xml/digibok_2008100212002-mets.xml': {'150'},\n",
       " '/ram_work/digibok_2008100310001_ocr_xml/digibok_2008100310001-mets.xml': {'150'},\n",
       " '/ram_work/digibok_2008100603006_ocr_xml/digibok_2008100603006-mets.xml': {'150'},\n",
       " '/ram_work/digibok_2008100610001_ocr_xml/digibok_2008100610001-mets.xml': {'150'},\n",
       " '/ram_work/digibok_2008100703019_ocr_xml/digibok_2008100703019-mets.xml': {'400'},\n",
       " '/ram_work/digibok_2008100703028_ocr_xml/digibok_2008100703028-mets.xml': {'150'},\n",
       " '/ram_work/digibok_2008100703029_ocr_xml/digibok_2008100703029-mets.xml': {'400'},\n",
       " '/ram_work/digibok_2008100703033_ocr_xml/digibok_2008100703033-mets.xml': {'150'},\n",
       " '/ram_work/digibok_2008100803003_ocr_xml/digibok_2008100803003-mets.xml': {'400'},\n",
       " '/ram_work/digibok_2008100803015_ocr_xml/digibok_2008100803015-mets.xml': {'400'},\n",
       " '/ram_work/digibok_2008100803019_ocr_xml/digibok_2008100803019-mets.xml': {'400'},\n",
       " '/ram_work/digibok_2008100913002_ocr_xml/digibok_2008100913002-mets.xml': {'150'},\n",
       " '/ram_work/digibok_2008102200034_ocr_xml/digibok_2008102200034-mets.xml': {'150'},\n",
       " '/ram_work/digibok_2008102212005_ocr_xml/digibok_2008102212005-mets.xml': {'400'},\n",
       " '/ram_work/digibok_2008102300080_ocr_xml/digibok_2008102300080-mets.xml': {'150'},\n",
       " '/ram_work/digibok_2008102300109_ocr_xml/digibok_2008102300109-mets.xml': {'150'},\n",
       " '/ram_work/digibok_2008102300110_ocr_xml/digibok_2008102300110-mets.xml': {'150'},\n",
       " '/ram_work/digibok_2008102800063_ocr_xml/digibok_2008102800063-mets.xml': {'150'},\n",
       " '/ram_work/digibok_2008103003005_ocr_xml/digibok_2008103003005-mets.xml': {'400'},\n",
       " '/ram_work/digibok_2008110503011_ocr_xml/digibok_2008110503011-mets.xml': {'400'},\n",
       " '/ram_work/digibok_2008110503025_ocr_xml/digibok_2008110503025-mets.xml': {'400'},\n",
       " '/ram_work/digibok_2008110510004_ocr_xml/digibok_2008110510004-mets.xml': {'400'},\n",
       " '/ram_work/digibok_2008110603009_ocr_xml/digibok_2008110603009-mets.xml': {'150'},\n",
       " '/ram_work/digibok_2008110603025_ocr_xml/digibok_2008110603025-mets.xml': {'150'},\n",
       " '/ram_work/digibok_2008110603029_ocr_xml/digibok_2008110603029-mets.xml': {'150'},\n",
       " '/ram_work/digibok_2008110603044_ocr_xml/digibok_2008110603044-mets.xml': {'150'},\n",
       " '/ram_work/digibok_2008110612005_ocr_xml/digibok_2008110612005-mets.xml': {'400'},\n",
       " '/ram_work/digibok_2008111103017_ocr_xml/digibok_2008111103017-mets.xml': {'150'},\n",
       " '/ram_work/digibok_2008111103018_ocr_xml/digibok_2008111103018-mets.xml': {'150'},\n",
       " '/ram_work/digibok_2008111103035_ocr_xml/digibok_2008111103035-mets.xml': {'150'},\n",
       " '/ram_work/digibok_2008111103036_ocr_xml/digibok_2008111103036-mets.xml': {'150'},\n",
       " '/ram_work/digibok_2008111203002_ocr_xml/digibok_2008111203002-mets.xml': {'400'},\n",
       " '/ram_work/digibok_2008111303003_ocr_xml/digibok_2008111303003-mets.xml': {'150'},\n",
       " '/ram_work/digibok_2008111303004_ocr_xml/digibok_2008111303004-mets.xml': {'150'},\n",
       " '/ram_work/digibok_2008111812002_ocr_xml/digibok_2008111812002-mets.xml': {'150'},\n",
       " '/ram_work/digibok_2008111903008_ocr_xml/digibok_2008111903008-mets.xml': {'150'},\n",
       " '/ram_work/digibok_2008111903014_ocr_xml/digibok_2008111903014-mets.xml': {'150'},\n",
       " '/ram_work/digibok_2008111903017_ocr_xml/digibok_2008111903017-mets.xml': {'150'},\n",
       " '/ram_work/digibok_2008111903018_ocr_xml/digibok_2008111903018-mets.xml': {'150'},\n",
       " '/ram_work/digibok_2008112403001_ocr_xml/digibok_2008112403001-mets.xml': {'150'},\n",
       " '/ram_work/digibok_2008112703004_ocr_xml/digibok_2008112703004-mets.xml': {'150'},\n",
       " '/ram_work/digibok_2008120910007_ocr_xml/digibok_2008120910007-mets.xml': {'150'},\n",
       " '/ram_work/digibok_2008121510002_ocr_xml/digibok_2008121510002-mets.xml': {'150'},\n",
       " '/ram_work/digibok_2008121812001_ocr_xml/digibok_2008121812001-mets.xml': {'150'},\n",
       " '/ram_work/digibok_2009011212001_ocr_xml/digibok_2009011212001-mets.xml': {'150'},\n",
       " '/ram_work/digibok_2009020600072_ocr_xml/digibok_2009020600072-mets.xml': {'150'},\n",
       " '/ram_work/digibok_2009020600115_ocr_xml/digibok_2009020600115-mets.xml': {'150'},\n",
       " '/ram_work/digibok_2009020900002_ocr_xml/digibok_2009020900002-mets.xml': {'150'},\n",
       " '/ram_work/digibok_2009020900006_ocr_xml/digibok_2009020900006-mets.xml': {'150'},\n",
       " '/ram_work/digibok_2009020900010_ocr_xml/digibok_2009020900010-mets.xml': {'150'},\n",
       " '/ram_work/digibok_2009020900011_ocr_xml/digibok_2009020900011-mets.xml': {'150'},\n",
       " '/ram_work/digibok_2009021204053_ocr_xml/digibok_2009021204053-mets.xml': {'150'},\n",
       " '/ram_work/digibok_2009052803025_ocr_xml/digibok_2009052803025-mets.xml': {'150'},\n",
       " '/ram_work/digibok_2009062204035_ocr_xml/digibok_2009062204035-mets.xml': {'150'},\n",
       " '/ram_work/digibok_2009062303021_ocr_xml/digibok_2009062303021-mets.xml': {'150'},\n",
       " '/ram_work/digibok_2009070700046_ocr_xml/digibok_2009070700046-mets.xml': {'150'},\n",
       " '/ram_work/digibok_2009071010001_ocr_xml/digibok_2009071010001-mets.xml': {'150'},\n",
       " '/ram_work/digibok_2009071401044_ocr_xml/digibok_2009071401044-mets.xml': {'150'},\n",
       " '/ram_work/digibok_2009072801117_ocr_xml/digibok_2009072801117-mets.xml': {'150'},\n",
       " '/ram_work/digibok_2009080703003_ocr_xml/digibok_2009080703003-mets.xml': {'150'},\n",
       " '/ram_work/digibok_2009080703012_ocr_xml/digibok_2009080703012-mets.xml': {'150'},\n",
       " '/ram_work/digibok_2009080703013_ocr_xml/digibok_2009080703013-mets.xml': {'150'},\n",
       " '/ram_work/digibok_2009081303025_ocr_xml/digibok_2009081303025-mets.xml': {'150'},\n",
       " '/ram_work/digibok_2009081403010_ocr_xml/digibok_2009081403010-mets.xml': {'150'},\n",
       " '/ram_work/digibok_2009081801030_ocr_xml/digibok_2009081801030-mets.xml': {'150'},\n",
       " '/ram_work/digibok_2009082103013_ocr_xml/digibok_2009082103013-mets.xml': {'150'},\n",
       " '/ram_work/digibok_2009082403015_ocr_xml/digibok_2009082403015-mets.xml': {'150'},\n",
       " '/ram_work/digibok_2009082503014_ocr_xml/digibok_2009082503014-mets.xml': {'150'},\n",
       " '/ram_work/digibok_2009082512004_ocr_xml/digibok_2009082512004-mets.xml': {'150'},\n",
       " '/ram_work/digibok_2009090210001_ocr_xml/digibok_2009090210001-mets.xml': {'150'},\n",
       " '/ram_work/digibok_2009090703019_ocr_xml/digibok_2009090703019-mets.xml': {'150'},\n",
       " '/ram_work/digibok_2009101210004_ocr_xml/digibok_2009101210004-mets.xml': {'150'},\n",
       " '/ram_work/digibok_2009101303004_ocr_xml/digibok_2009101303004-mets.xml': {'150'},\n",
       " '/ram_work/digibok_2009102012001_ocr_xml/digibok_2009102012001-mets.xml': {'150'},\n",
       " '/ram_work/digibok_2009102200004_ocr_xml/digibok_2009102200004-mets.xml': {'150'},\n",
       " '/ram_work/digibok_2009110212001_ocr_xml/digibok_2009110212001-mets.xml': {'150'},\n",
       " '/ram_work/digibok_2009110512007_ocr_xml/digibok_2009110512007-mets.xml': {'150'},\n",
       " '/ram_work/digibok_2009111310002_ocr_xml/digibok_2009111310002-mets.xml': {'150'},\n",
       " '/ram_work/digibok_2009111312013_ocr_xml/digibok_2009111312013-mets.xml': {'150'},\n",
       " '/ram_work/digibok_2009111912009_ocr_xml/digibok_2009111912009-mets.xml': {'150'},\n",
       " '/ram_work/digibok_2009113013002_ocr_xml/digibok_2009113013002-mets.xml': {'150'},\n",
       " '/ram_work/digibok_2010011312004_ocr_xml/digibok_2010011312004-mets.xml': {'150'},\n",
       " '/ram_work/digibok_2010020103004_ocr_xml/digibok_2010020103004-mets.xml': {'150'},\n",
       " '/ram_work/digibok_2010020103005_ocr_xml/digibok_2010020103005-mets.xml': {'150'},\n",
       " '/ram_work/digibok_2010020103008_ocr_xml/digibok_2010020103008-mets.xml': {'150'},\n",
       " '/ram_work/digibok_2010020903015_ocr_xml/digibok_2010020903015-mets.xml': {'150'},\n",
       " '/ram_work/digibok_2010020903016_ocr_xml/digibok_2010020903016-mets.xml': {'150'},\n",
       " '/ram_work/digibok_2010020903019_ocr_xml/digibok_2010020903019-mets.xml': {'150'},\n",
       " '/ram_work/digibok_2010021003007_ocr_xml/digibok_2010021003007-mets.xml': {'150'},\n",
       " '/ram_work/digibok_2010021003009_ocr_xml/digibok_2010021003009-mets.xml': {'150'},\n",
       " '/ram_work/digibok_2010021003010_ocr_xml/digibok_2010021003010-mets.xml': {'150'},\n",
       " '/ram_work/digibok_2010021003015_ocr_xml/digibok_2010021003015-mets.xml': {'150'},\n",
       " '/ram_work/digibok_2010021503044_ocr_xml/digibok_2010021503044-mets.xml': {'150'},\n",
       " '/ram_work/digibok_2010021503052_ocr_xml/digibok_2010021503052-mets.xml': {'150'},\n",
       " '/ram_work/digibok_2010021603003_ocr_xml/digibok_2010021603003-mets.xml': {'150'},\n",
       " '/ram_work/digibok_2010021603004_ocr_xml/digibok_2010021603004-mets.xml': {'150'},\n",
       " '/ram_work/digibok_2010021803033_ocr_xml/digibok_2010021803033-mets.xml': {'150'},\n",
       " '/ram_work/digibok_2010021803043_ocr_xml/digibok_2010021803043-mets.xml': {'150'},\n",
       " '/ram_work/digibok_2010021803053_ocr_xml/digibok_2010021803053-mets.xml': {'150'},\n",
       " '/ram_work/digibok_2010021803057_ocr_xml/digibok_2010021803057-mets.xml': {'150'},\n",
       " '/ram_work/digibok_2010021903002_ocr_xml/digibok_2010021903002-mets.xml': {'150'},\n",
       " '/ram_work/digibok_2010021903003_ocr_xml/digibok_2010021903003-mets.xml': {'150'},\n",
       " '/ram_work/digibok_2010030203053_ocr_xml/digibok_2010030203053-mets.xml': {'150'},\n",
       " '/ram_work/digibok_2010030903059_ocr_xml/digibok_2010030903059-mets.xml': {'150'},\n",
       " '/ram_work/digibok_2010030903076_ocr_xml/digibok_2010030903076-mets.xml': {'150'},\n",
       " '/ram_work/digibok_2010030903077_ocr_xml/digibok_2010030903077-mets.xml': {'150'},\n",
       " '/ram_work/digibok_2010030903085_ocr_xml/digibok_2010030903085-mets.xml': {'150'},\n",
       " '/ram_work/digibok_2010030903089_ocr_xml/digibok_2010030903089-mets.xml': {'150'},\n",
       " '/ram_work/digibok_2010031003056_ocr_xml/digibok_2010031003056-mets.xml': {'150'},\n",
       " '/ram_work/digibok_2010042106089_ocr_xml/digibok_2010042106089-mets.xml': {'150'},\n",
       " '/ram_work/digibok_2010042703012_ocr_xml/digibok_2010042703012-mets.xml': {'150'},\n",
       " '/ram_work/digibok_2010042703042_ocr_xml/digibok_2010042703042-mets.xml': {'150'},\n",
       " '/ram_work/digibok_2010042703049_ocr_xml/digibok_2010042703049-mets.xml': {'150'},\n",
       " '/ram_work/digibok_2010042703061_ocr_xml/digibok_2010042703061-mets.xml': {'150'},\n",
       " '/ram_work/digibok_2010042703062_ocr_xml/digibok_2010042703062-mets.xml': {'150'},\n",
       " '/ram_work/digibok_2010042706006_ocr_xml/digibok_2010042706006-mets.xml': {'150'},\n",
       " '/ram_work/digibok_2010070503013_ocr_xml/digibok_2010070503013-mets.xml': {'150'},\n",
       " '/ram_work/digibok_2010092803024_ocr_xml/digibok_2010092803024-mets.xml': {'150'},\n",
       " '/ram_work/digibok_2011032412002_ocr_xml/digibok_2011032412002-mets.xml': {'150'},\n",
       " '/ram_work/digibok_2011062408074_ocr_xml/digibok_2011062408074-mets.xml': {'150'},\n",
       " '/ram_work/digibok_2011121410005_ocr_xml/digibok_2011121410005-mets.xml': {'150'},\n",
       " '/ram_work/digibok_2012020208010_ocr_xml/digibok_2012020208010-mets.xml': {'150'},\n",
       " '/ram_work/digibok_2012020208027_ocr_xml/digibok_2012020208027-mets.xml': {'150'},\n",
       " '/ram_work/digibok_2012041724009_ocr_xml/digibok_2012041724009-mets.xml': {'150'},\n",
       " '/ram_work/digibok_2012041724010_ocr_xml/digibok_2012041724010-mets.xml': {'150'},\n",
       " '/ram_work/digibok_2012051124003_ocr_xml/digibok_2012051124003-mets.xml': {'150'},\n",
       " '/ram_work/digibok_2012051124004_ocr_xml/digibok_2012051124004-mets.xml': {'150'},\n",
       " '/ram_work/digibok_2012061313001_ocr_xml/digibok_2012061313001-mets.xml': {'150'},\n",
       " '/ram_work/digibok_2012062813003_ocr_xml/digibok_2012062813003-mets.xml': {'150'},\n",
       " '/ram_work/digibok_2013051427001_ocr_xml/digibok_2013051427001-mets.xml': {'150'},\n",
       " '/ram_work/digibok_2013052727007_ocr_xml/digibok_2013052727007-mets.xml': {'150'},\n",
       " '/ram_work/digibok_2013061027001_ocr_xml/digibok_2013061027001-mets.xml': {'150'},\n",
       " '/ram_work/digibok_2013083008179_ocr_xml/digibok_2013083008179-mets.xml': {'150'},\n",
       " '/ram_work/digibok_2013090527046_ocr_xml/digibok_2013090527046-mets.xml': {'150'},\n",
       " '/ram_work/digibok_2013102226001_ocr_xml/digibok_2013102226001-mets.xml': {'150'},\n",
       " '/ram_work/digibok_2013102828008_ocr_xml/digibok_2013102828008-mets.xml': {'150'},\n",
       " '/ram_work/digibok_2013102828009_ocr_xml/digibok_2013102828009-mets.xml': {'150'},\n",
       " '/ram_work/digibok_2013102828010_ocr_xml/digibok_2013102828010-mets.xml': {'150'},\n",
       " '/ram_work/digibok_2013103124002_ocr_xml/digibok_2013103124002-mets.xml': {'150'},\n",
       " '/ram_work/digibok_2013110728001_ocr_xml/digibok_2013110728001-mets.xml': {'150'},\n",
       " '/ram_work/digibok_2013121126001_ocr_xml/digibok_2013121126001-mets.xml': {'150'},\n",
       " '/ram_work/digibok_2014013028005_ocr_xml/digibok_2014013028005-mets.xml': {'150'},\n",
       " '/ram_work/digibok_2014030528001_ocr_xml/digibok_2014030528001-mets.xml': {'150'},\n",
       " '/ram_work/digibok_2014030528002_ocr_xml/digibok_2014030528002-mets.xml': {'150'},\n",
       " '/ram_work/digibok_2014031027002_ocr_xml/digibok_2014031027002-mets.xml': {'150'},\n",
       " '/ram_work/digibok_2014031808070_ocr_xml/digibok_2014031808070-mets.xml': {'150'},\n",
       " '/ram_work/digibok_2014031808078_ocr_xml/digibok_2014031808078-mets.xml': {'150'},\n",
       " '/ram_work/digibok_2014040908025_ocr_xml/digibok_2014040908025-mets.xml': {'150'},\n",
       " '/ram_work/digibok_2014052208017_ocr_xml/digibok_2014052208017-mets.xml': {'150'},\n",
       " '/ram_work/digibok_2014062048057_ocr_xml/digibok_2014062048057-mets.xml': {'400'},\n",
       " '/ram_work/digibok_2014070826001_ocr_xml/digibok_2014070826001-mets.xml': {'150'},\n",
       " '/ram_work/digibok_2014080508118_ocr_xml/digibok_2014080508118-mets.xml': {'150'},\n",
       " '/ram_work/digibok_2014082608024_ocr_xml/digibok_2014082608024-mets.xml': {'150'},\n",
       " '/ram_work/digibok_2014090308025_ocr_xml/digibok_2014090308025-mets.xml': {'400'},\n",
       " '/ram_work/digibok_2014101008104_ocr_xml/digibok_2014101008104-mets.xml': {'400'},\n",
       " '/ram_work/digibok_2014103128001_ocr_xml/digibok_2014103128001-mets.xml': {'400'},\n",
       " '/ram_work/digibok_2014111408019_ocr_xml/digibok_2014111408019-mets.xml': {'400'},\n",
       " '/ram_work/digibok_2014111908036_ocr_xml/digibok_2014111908036-mets.xml': {'400'},\n",
       " '/ram_work/digibok_2014112108039_ocr_xml/digibok_2014112108039-mets.xml': {'400'},\n",
       " '/ram_work/digibok_2014121608075_ocr_xml/digibok_2014121608075-mets.xml': {'400'},\n",
       " '/ram_work/digibok_2015012008057_ocr_xml/digibok_2015012008057-mets.xml': {'400'},\n",
       " '/ram_work/digibok_2015012928001_ocr_xml/digibok_2015012928001-mets.xml': {'400'},\n",
       " '/ram_work/digibok_2015020208043_ocr_xml/digibok_2015020208043-mets.xml': {'400'},\n",
       " '/ram_work/digibok_2015030528005_ocr_xml/digibok_2015030528005-mets.xml': {'400'},\n",
       " '/ram_work/digibok_2015042027001_ocr_xml/digibok_2015042027001-mets.xml': {'400'},\n",
       " '/ram_work/digibok_2015042428001_ocr_xml/digibok_2015042428001-mets.xml': {'400'},\n",
       " '/ram_work/digibok_2015043007594_ocr_xml/digibok_2015043007594-mets.xml': {'400'},\n",
       " '/ram_work/digibok_2015060948058_ocr_xml/digibok_2015060948058-mets.xml': {'400'},\n",
       " '/ram_work/digibok_2015060948119_ocr_xml/digibok_2015060948119-mets.xml': {'400'},\n",
       " '/ram_work/digibok_2015060948135_ocr_xml/digibok_2015060948135-mets.xml': {'400'},\n",
       " '/ram_work/digibok_2015060948148_ocr_xml/digibok_2015060948148-mets.xml': {'400'},\n",
       " '/ram_work/digibok_2015072408037_ocr_xml/digibok_2015072408037-mets.xml': {'400'},\n",
       " '/ram_work/digibok_2015081829001_ocr_xml/digibok_2015081829001-mets.xml': {'400'},\n",
       " '/ram_work/digibok_2015121526006_ocr_xml/digibok_2015121526006-mets.xml': {'400'},\n",
       " '/ram_work/digibok_2015121828001_ocr_xml/digibok_2015121828001-mets.xml': {'400'},\n",
       " '/ram_work/digibok_2016021527001_ocr_xml/digibok_2016021527001-mets.xml': {'400'},\n",
       " '/ram_work/digibok_2016030326002_ocr_xml/digibok_2016030326002-mets.xml': {'400'},\n",
       " '/ram_work/digibok_2016030829003_ocr_xml/digibok_2016030829003-mets.xml': {'400'},\n",
       " '/ram_work/digibok_2016030829006_ocr_xml/digibok_2016030829006-mets.xml': {'400'},\n",
       " '/ram_work/digibok_2016041126001_ocr_xml/digibok_2016041126001-mets.xml': {'400'},\n",
       " '/ram_work/digibok_2016050226003_ocr_xml/digibok_2016050226003-mets.xml': {'400'},\n",
       " '/ram_work/digibok_2016050229002_ocr_xml/digibok_2016050229002-mets.xml': {'400'},\n",
       " '/ram_work/digibok_2016050229004_ocr_xml/digibok_2016050229004-mets.xml': {'400'},\n",
       " '/ram_work/digibok_2016050229007_ocr_xml/digibok_2016050229007-mets.xml': {'400'},\n",
       " '/ram_work/digibok_2016050948133_ocr_xml/digibok_2016050948133-mets.xml': {'400'},\n",
       " '/ram_work/digibok_2016051048044_ocr_xml/digibok_2016051048044-mets.xml': {'400'},\n",
       " '/ram_work/digibok_2016052026007_ocr_xml/digibok_2016052026007-mets.xml': {'400'},\n",
       " '/ram_work/digibok_2016052028001_ocr_xml/digibok_2016052028001-mets.xml': {'400'},\n",
       " '/ram_work/digibok_2016052028002_ocr_xml/digibok_2016052028002-mets.xml': {'400'},\n",
       " '/ram_work/digibok_2016052028004_ocr_xml/digibok_2016052028004-mets.xml': {'400'},\n",
       " '/ram_work/digibok_2016052029003_ocr_xml/digibok_2016052029003-mets.xml': {'400'},\n",
       " '/ram_work/digibok_2016052548029_ocr_xml/digibok_2016052548029-mets.xml': {'400'},\n",
       " '/ram_work/digibok_2016052626001_ocr_xml/digibok_2016052626001-mets.xml': {'400'},\n",
       " '/ram_work/digibok_2016052628001_ocr_xml/digibok_2016052628001-mets.xml': {'400'},\n",
       " '/ram_work/digibok_2016053026001_ocr_xml/digibok_2016053026001-mets.xml': {'400'},\n",
       " '/ram_work/digibok_2016053129003_ocr_xml/digibok_2016053129003-mets.xml': {'400'},\n",
       " '/ram_work/digibok_2016060926013_ocr_xml/digibok_2016060926013-mets.xml': {'400'},\n",
       " '/ram_work/digibok_2016061326001_ocr_xml/digibok_2016061326001-mets.xml': {'400'},\n",
       " '/ram_work/digibok_2016061326003_ocr_xml/digibok_2016061326003-mets.xml': {'400'},\n",
       " '/ram_work/digibok_2016061326009_ocr_xml/digibok_2016061326009-mets.xml': {'400'},\n",
       " '/ram_work/digibok_2016061329001_ocr_xml/digibok_2016061329001-mets.xml': {'400'},\n",
       " '/ram_work/digibok_2016061329002_ocr_xml/digibok_2016061329002-mets.xml': {'400'},\n",
       " '/ram_work/digibok_2016063008035_ocr_xml/digibok_2016063008035-mets.xml': {'400'},\n",
       " '/ram_work/digibok_2016070126002_ocr_xml/digibok_2016070126002-mets.xml': {'400'},\n",
       " '/ram_work/digibok_2016072026007_ocr_xml/digibok_2016072026007-mets.xml': {'400'},\n",
       " '/ram_work/digibok_2016072026009_ocr_xml/digibok_2016072026009-mets.xml': {'400'},\n",
       " '/ram_work/digibok_2016072948077_ocr_xml/digibok_2016072948077-mets.xml': {'400'},\n",
       " '/ram_work/digibok_2016081608001_ocr_xml/digibok_2016081608001-mets.xml': {'400'},\n",
       " '/ram_work/digibok_2016091926001_ocr_xml/digibok_2016091926001-mets.xml': {'400'},\n",
       " '/ram_work/digibok_2016091926005_ocr_xml/digibok_2016091926005-mets.xml': {'400'},\n",
       " '/ram_work/digibok_2016091926006_ocr_xml/digibok_2016091926006-mets.xml': {'400'},\n",
       " '/ram_work/digibok_2016092126002_ocr_xml/digibok_2016092126002-mets.xml': {'400'},\n",
       " '/ram_work/digibok_2016092126004_ocr_xml/digibok_2016092126004-mets.xml': {'400'},\n",
       " '/ram_work/digibok_2016092929002_ocr_xml/digibok_2016092929002-mets.xml': {'400'},\n",
       " '/ram_work/digibok_2016092929005_ocr_xml/digibok_2016092929005-mets.xml': {'400'},\n",
       " '/ram_work/digibok_2016092929006_ocr_xml/digibok_2016092929006-mets.xml': {'400'},\n",
       " '/ram_work/digibok_2016092929007_ocr_xml/digibok_2016092929007-mets.xml': {'400'},\n",
       " '/ram_work/digibok_2016092948016_ocr_xml/digibok_2016092948016-mets.xml': {'400'},\n",
       " '/ram_work/digibok_2016100427002_ocr_xml/digibok_2016100427002-mets.xml': {'400'},\n",
       " '/ram_work/digibok_2016100428003_ocr_xml/digibok_2016100428003-mets.xml': {'400'},\n",
       " '/ram_work/digibok_2016101226004_ocr_xml/digibok_2016101226004-mets.xml': {'400'},\n",
       " '/ram_work/digibok_2016101226005_ocr_xml/digibok_2016101226005-mets.xml': {'400'},\n",
       " '/ram_work/digibok_2016101226006_ocr_xml/digibok_2016101226006-mets.xml': {'400'},\n",
       " '/ram_work/digibok_2016101726001_ocr_xml/digibok_2016101726001-mets.xml': {'400'},\n",
       " '/ram_work/digibok_2016101728001_ocr_xml/digibok_2016101728001-mets.xml': {'400'},\n",
       " '/ram_work/digibok_2016101748017_ocr_xml/digibok_2016101748017-mets.xml': {'400'},\n",
       " '/ram_work/digibok_2016101748020_ocr_xml/digibok_2016101748020-mets.xml': {'400'},\n",
       " '/ram_work/digibok_2016101748110_ocr_xml/digibok_2016101748110-mets.xml': {'400'},\n",
       " '/ram_work/digibok_2016101828002_ocr_xml/digibok_2016101828002-mets.xml': {'400'},\n",
       " '/ram_work/digibok_2016101828005_ocr_xml/digibok_2016101828005-mets.xml': {'400'},\n",
       " '/ram_work/digibok_2016101828010_ocr_xml/digibok_2016101828010-mets.xml': {'400'},\n",
       " '/ram_work/digibok_2016101828014_ocr_xml/digibok_2016101828014-mets.xml': {'400'},\n",
       " '/ram_work/digibok_2016101926012_ocr_xml/digibok_2016101926012-mets.xml': {'400'},\n",
       " '/ram_work/digibok_2016101926017_ocr_xml/digibok_2016101926017-mets.xml': {'400'},\n",
       " '/ram_work/digibok_2016101928002_ocr_xml/digibok_2016101928002-mets.xml': {'400'},\n",
       " '/ram_work/digibok_2016101928011_ocr_xml/digibok_2016101928011-mets.xml': {'400'},\n",
       " '/ram_work/digibok_2016101928024_ocr_xml/digibok_2016101928024-mets.xml': {'400'},\n",
       " '/ram_work/digibok_2016101929002_ocr_xml/digibok_2016101929002-mets.xml': {'400'},\n",
       " '/ram_work/digibok_2016103126002_ocr_xml/digibok_2016103126002-mets.xml': {'400'},\n",
       " '/ram_work/digibok_2016110226001_ocr_xml/digibok_2016110226001-mets.xml': {'400'},\n",
       " '/ram_work/digibok_2016111429001_ocr_xml/digibok_2016111429001-mets.xml': {'400'},\n",
       " '/ram_work/digibok_2016111429003_ocr_xml/digibok_2016111429003-mets.xml': {'400'},\n",
       " '/ram_work/digibok_2016111626001_ocr_xml/digibok_2016111626001-mets.xml': {'400'},\n",
       " '/ram_work/digibok_2016111826008_ocr_xml/digibok_2016111826008-mets.xml': {'400'},\n",
       " '/ram_work/digibok_2016112128001_ocr_xml/digibok_2016112128001-mets.xml': {'400'},\n",
       " '/ram_work/digibok_2016112129003_ocr_xml/digibok_2016112129003-mets.xml': {'400'},\n",
       " '/ram_work/digibok_2016112129004_ocr_xml/digibok_2016112129004-mets.xml': {'400'},\n",
       " '/ram_work/digibok_2016113008033_ocr_xml/digibok_2016113008033-mets.xml': {'400'},\n",
       " '/ram_work/digibok_2016121228001_ocr_xml/digibok_2016121228001-mets.xml': {'400'},\n",
       " '/ram_work/digibok_2017022848010_ocr_xml/digibok_2017022848010-mets.xml': {'400'},\n",
       " '/ram_work/digibok_2017030648049_ocr_xml/digibok_2017030648049-mets.xml': {'400'},\n",
       " '/ram_work/digibok_2017031328001_ocr_xml/digibok_2017031328001-mets.xml': {'400'},\n",
       " '/ram_work/digibok_2017031728003_ocr_xml/digibok_2017031728003-mets.xml': {'400'},\n",
       " '/ram_work/digibok_2017032828001_ocr_xml/digibok_2017032828001-mets.xml': {'400'},\n",
       " '/ram_work/digibok_2017050848150_ocr_xml/digibok_2017050848150-mets.xml': {'400'},\n",
       " '/ram_work/digibok_2017050926008_ocr_xml/digibok_2017050926008-mets.xml': {'400'},\n",
       " '/ram_work/digibok_2017050926024_ocr_xml/digibok_2017050926024-mets.xml': {'400'},\n",
       " '/ram_work/digibok_2017050948060_ocr_xml/digibok_2017050948060-mets.xml': {'400'},\n",
       " '/ram_work/digibok_2017051248076_ocr_xml/digibok_2017051248076-mets.xml': {'400'},\n",
       " '/ram_work/digibok_2017060626003_ocr_xml/digibok_2017060626003-mets.xml': {'400'},\n",
       " '/ram_work/digibok_2017060826002_ocr_xml/digibok_2017060826002-mets.xml': {'400'},\n",
       " '/ram_work/digibok_2017062307017_ocr_xml/digibok_2017062307017-mets.xml': {'400'},\n",
       " '/ram_work/digibok_2017062948068_ocr_xml/digibok_2017062948068-mets.xml': {'400'},\n",
       " '/ram_work/digibok_2017070627001_ocr_xml/digibok_2017070627001-mets.xml': {'400'},\n",
       " '/ram_work/digibok_2017071468050_ocr_xml/digibok_2017071468050-mets.xml': {'400'},\n",
       " '/ram_work/digibok_2017081626006_ocr_xml/digibok_2017081626006-mets.xml': {'400'},\n",
       " '/ram_work/digibok_2017082526005_ocr_xml/digibok_2017082526005-mets.xml': {'400'},\n",
       " '/ram_work/digibok_2017082926004_ocr_xml/digibok_2017082926004-mets.xml': {'400'},\n",
       " '/ram_work/digibok_2017090826003_ocr_xml/digibok_2017090826003-mets.xml': {'400'},\n",
       " '/ram_work/digibok_2017091526001_ocr_xml/digibok_2017091526001-mets.xml': {'400'},\n",
       " '/ram_work/digibok_2017092048014_ocr_xml/digibok_2017092048014-mets.xml': {'400'},\n",
       " '/ram_work/digibok_2017092048015_ocr_xml/digibok_2017092048015-mets.xml': {'400'},\n",
       " '/ram_work/digibok_2017111348085_ocr_xml/digibok_2017111348085-mets.xml': {'400'},\n",
       " '/ram_work/digibok_2017111448116_ocr_xml/digibok_2017111448116-mets.xml': {'400'},\n",
       " '/ram_work/digibok_2017112748069_ocr_xml/digibok_2017112748069-mets.xml': {'400'},\n",
       " '/ram_work/digibok_2017112748070_ocr_xml/digibok_2017112748070-mets.xml': {'400'},\n",
       " '/ram_work/digibok_2017112928005_ocr_xml/digibok_2017112928005-mets.xml': {'400'},\n",
       " '/ram_work/digibok_2017120726004_ocr_xml/digibok_2017120726004-mets.xml': {'400'},\n",
       " '/ram_work/digibok_2017120726026_ocr_xml/digibok_2017120726026-mets.xml': {'400'},\n",
       " '/ram_work/digibok_2018010448500_ocr_xml/digibok_2018010448500-mets.xml': {'400'},\n",
       " '/ram_work/digibok_2018010826012_ocr_xml/digibok_2018010826012-mets.xml': {'400'},\n",
       " '/ram_work/digibok_2018010826026_ocr_xml/digibok_2018010826026-mets.xml': {'400'},\n",
       " '/ram_work/digibok_2018010826045_ocr_xml/digibok_2018010826045-mets.xml': {'400'},\n",
       " '/ram_work/digibok_2018010829001_ocr_xml/digibok_2018010829001-mets.xml': {'400'},\n",
       " '/ram_work/digibok_2018011026005_ocr_xml/digibok_2018011026005-mets.xml': {'400'},\n",
       " '/ram_work/digibok_2018011026010_ocr_xml/digibok_2018011026010-mets.xml': {'400'},\n",
       " '/ram_work/digibok_2018011526001_ocr_xml/digibok_2018011526001-mets.xml': {'400'}}"
      ]
     },
     "execution_count": 182,
     "metadata": {},
     "output_type": "execute_result"
    }
   ],
   "source": [
    "filemap"
   ]
  },
  {
   "cell_type": "markdown",
   "metadata": {},
   "source": [
    "# test extract image"
   ]
  },
  {
   "cell_type": "code",
   "execution_count": 190,
   "metadata": {
    "collapsed": false
   },
   "outputs": [
    {
     "data": {
      "text/plain": [
       "[]"
      ]
     },
     "execution_count": 190,
     "metadata": {},
     "output_type": "execute_result"
    }
   ],
   "source": [
    "# lage en sqlitedatabase for å holde illustrasjonene\n",
    "query('illustrations_sept20.db', \"drop table illustrations\")\n",
    "query('illustrations_sept20.db', \"\"\"create table illustrations (\n",
    "                page varchar, \n",
    "                 pagenum int,\n",
    "                 resolution int,\n",
    "                 hpos int,\n",
    "                 vpos int,\n",
    "                 width int,\n",
    "                 height int,\n",
    "                 type varchar)\"\"\")"
   ]
  },
  {
   "cell_type": "code",
   "execution_count": 203,
   "metadata": {
    "collapsed": false
   },
   "outputs": [
    {
     "data": {
      "text/plain": [
       "[('table',\n",
       "  'illustrations',\n",
       "  'illustrations',\n",
       "  2,\n",
       "  'CREATE TABLE illustrations (\\n                page varchar, \\n                 pagenum int,\\n                 resolution int,\\n                 hpos int,\\n                 vpos int,\\n                 width int,\\n                 height int,\\n                 type varchar)')]"
      ]
     },
     "execution_count": 203,
     "metadata": {},
     "output_type": "execute_result"
    }
   ],
   "source": [
    "query('illustrations_sept20.db', \"select * from sqlite_master\")"
   ]
  },
  {
   "cell_type": "code",
   "execution_count": 285,
   "metadata": {
    "collapsed": true
   },
   "outputs": [],
   "source": [
    "clean_up_ramdisk()"
   ]
  },
  {
   "cell_type": "code",
   "execution_count": 260,
   "metadata": {
    "collapsed": false
   },
   "outputs": [],
   "source": [
    "r,d,f = next(os.walk('/disk4'))"
   ]
  },
  {
   "cell_type": "markdown",
   "metadata": {},
   "source": [
    "# Lag en oversikt over filer og trål gjennom dem"
   ]
  },
  {
   "cell_type": "code",
   "execution_count": 266,
   "metadata": {
    "collapsed": false
   },
   "outputs": [
    {
     "data": {
      "text/plain": [
       "['/disk4/1', '/disk4/2', '/disk4/3', '/disk4/4', '/disk4/5', '/disk4/6']"
      ]
     },
     "execution_count": 266,
     "metadata": {},
     "output_type": "execute_result"
    }
   ],
   "source": [
    "paths = [os.path.join('/disk4', str(i)) for i in range(1, 7)]\n",
    "paths"
   ]
  },
  {
   "cell_type": "code",
   "execution_count": 255,
   "metadata": {
    "collapsed": false
   },
   "outputs": [
    {
     "name": "stdout",
     "output_type": "stream",
     "text": [
      "['/disk4/3/digibok_2009111310002_ocr_xml.tar']\n",
      "['/disk4/2/digibok_2009102012001_ocr_xml.tar']\n",
      "['/disk4/5/digibok_2015043007594_ocr_xml.tar']\n",
      "['/disk4/3/digibok_2009062303021_ocr_xml.tar']\n",
      "['/disk4/3/digibok_2008110603025_ocr_xml.tar']\n",
      "['/disk4/4/digibok_2008100913002_ocr_xml.tar']\n",
      "['/disk4/4/digibok_2013061027001_ocr_xml.tar']\n",
      "['/disk4/3/digibok_2011032412002_ocr_xml.tar']\n",
      "['/disk4/3/digibok_2010042703061_ocr_xml.tar']\n",
      "['/disk4/3/digibok_2010042106089_ocr_xml.tar']\n",
      "['/disk4/2/digibok_2010021003007_ocr_xml.tar']\n",
      "['/disk4/4/digibok_2008061612002_ocr_xml.tar']\n",
      "['/disk4/3/digibok_2008120910007_ocr_xml.tar']\n",
      "['/disk4/5/digibok_2016101748017_ocr_xml.tar']\n",
      "['/disk4/5/digibok_2015072408037_ocr_xml.tar']\n",
      "['/disk4/4/digibok_2014030528001_ocr_xml.tar']\n",
      "['/disk4/5/digibok_2016091926001_ocr_xml.tar']\n",
      "['/disk4/5/digibok_2016030829003_ocr_xml.tar']\n",
      "['/disk4/5/digibok_2016072026007_ocr_xml.tar']\n",
      "['/disk4/4/digibok_2008102200034_ocr_xml.tar']\n"
     ]
    }
   ],
   "source": [
    "for f_ in filelocs:\n",
    "    print(f_)\n",
    "    alto_d = alto_extract(f_[0])\n",
    "    illustrations = extract_image_alto(alto_d)"
   ]
  },
  {
   "cell_type": "code",
   "execution_count": 256,
   "metadata": {
    "collapsed": false
   },
   "outputs": [
    {
     "name": "stdout",
     "output_type": "stream",
     "text": [
      "{'width': '2518', 'vpos': '755', 'page': 'digibok_2008102200034_0010', 'hpos': '81', 'pagenum': 10, 'resolution': '150', 'type': 'Illustration', 'height': '3297'}\n",
      "{'width': '2804', 'vpos': '20', 'page': 'digibok_2008102200034_0015', 'hpos': '0', 'pagenum': 15, 'resolution': '150', 'type': 'Illustration', 'height': '4649'}\n",
      "{'width': '1380', 'vpos': '559', 'page': 'digibok_2008102200034_0016', 'hpos': '1463', 'pagenum': 16, 'resolution': '150', 'type': 'Illustration', 'height': '3629'}\n",
      "{'width': '2288', 'vpos': '471', 'page': 'digibok_2008102200034_0017', 'hpos': '0', 'pagenum': 17, 'resolution': '150', 'type': 'Illustration', 'height': '3781'}\n",
      "{'width': '2823', 'vpos': '178', 'page': 'digibok_2008102200034_0018', 'hpos': '20', 'pagenum': 18, 'resolution': '150', 'type': 'Illustration', 'height': '4535'}\n",
      "{'width': '1417', 'vpos': '1170', 'page': 'digibok_2008102200034_0020', 'hpos': '779', 'pagenum': 20, 'resolution': '150', 'type': 'Illustration', 'height': '2791'}\n",
      "{'width': '2457', 'vpos': '725', 'page': 'digibok_2008102200034_0031', 'hpos': '17', 'pagenum': 31, 'resolution': '150', 'type': 'Illustration', 'height': '3425'}\n",
      "{'width': '2816', 'vpos': '47', 'page': 'digibok_2008102200034_0032', 'hpos': '0', 'pagenum': 32, 'resolution': '150', 'type': 'Illustration', 'height': '2833'}\n"
     ]
    }
   ],
   "source": [
    "for i in illustrations:\n",
    "    print(i)\n",
    "    query('illustrations_sept20.db', \n",
    "          \"insert into illustrations values (?,?,?,?,?,?,?,?)\", \n",
    "                (i['page'], \n",
    "                 i['pagenum'],\n",
    "                 i['resolution'],\n",
    "                 i['hpos'],\n",
    "                 i['vpos'],\n",
    "                 i['width'],\n",
    "                 i['height'],\n",
    "                 i['type'] ))"
   ]
  },
  {
   "cell_type": "code",
   "execution_count": 257,
   "metadata": {
    "collapsed": false
   },
   "outputs": [
    {
     "data": {
      "text/plain": [
       "[('digibok_2010021003007_0003', 3, 400, 1910, 1838, 553, 488, 'Illustration'),\n",
       " ('digibok_2010021003007_0003', 3, 100, 1910, 1838, 553, 488, 'Illustration'),\n",
       " ('digibok_2010021003007_0003', 3, 100, 1910, 1838, 553, 488, 'Illustration'),\n",
       " ('digibok_2010021003007_0003', 3, 150, 1910, 1838, 553, 488, 'Illustration'),\n",
       " ('digibok_2010021003007_0003', 3, 150, 1910, 1838, 553, 488, 'Illustration'),\n",
       " ('digibok_2009102012001_0001', 1, 150, 27, 37, 3850, 5937, 'Illustration'),\n",
       " ('digibok_2009102012001_0003', 3, 150, 614, 552, 881, 875, 'Illustration'),\n",
       " ('digibok_2008102200034_0010', 10, 150, 81, 755, 2518, 3297, 'Illustration'),\n",
       " ('digibok_2008102200034_0015', 15, 150, 0, 20, 2804, 4649, 'Illustration'),\n",
       " ('digibok_2008102200034_0016',\n",
       "  16,\n",
       "  150,\n",
       "  1463,\n",
       "  559,\n",
       "  1380,\n",
       "  3629,\n",
       "  'Illustration'),\n",
       " ('digibok_2008102200034_0017', 17, 150, 0, 471, 2288, 3781, 'Illustration'),\n",
       " ('digibok_2008102200034_0018', 18, 150, 20, 178, 2823, 4535, 'Illustration'),\n",
       " ('digibok_2008102200034_0020',\n",
       "  20,\n",
       "  150,\n",
       "  779,\n",
       "  1170,\n",
       "  1417,\n",
       "  2791,\n",
       "  'Illustration'),\n",
       " ('digibok_2008102200034_0031', 31, 150, 17, 725, 2457, 3425, 'Illustration'),\n",
       " ('digibok_2008102200034_0032', 32, 150, 0, 47, 2816, 2833, 'Illustration')]"
      ]
     },
     "execution_count": 257,
     "metadata": {},
     "output_type": "execute_result"
    }
   ],
   "source": [
    "query('illustrations_sept20.db', 'select * from illustrations')"
   ]
  },
  {
   "cell_type": "code",
   "execution_count": 357,
   "metadata": {
    "collapsed": false
   },
   "outputs": [
    {
     "data": {
      "text/plain": [
       "[(32707,)]"
      ]
     },
     "execution_count": 357,
     "metadata": {},
     "output_type": "execute_result"
    }
   ],
   "source": [
    "query('illustrations_bookshelf.db', \"select count(urn) from (select substr(page, 9, 13) as urn from illustrations group by urn)\")"
   ]
  },
  {
   "cell_type": "code",
   "execution_count": 358,
   "metadata": {
    "collapsed": false
   },
   "outputs": [
    {
     "data": {
      "text/plain": [
       "[(1702047,)]"
      ]
     },
     "execution_count": 358,
     "metadata": {},
     "output_type": "execute_result"
    }
   ],
   "source": [
    "query(\"illustrations_bookshelf.db\", \"select rowid from illustrations order by rowid desc limit 1\")"
   ]
  },
  {
   "cell_type": "code",
   "execution_count": 359,
   "metadata": {
    "collapsed": false
   },
   "outputs": [
    {
     "data": {
      "text/plain": [
       "52.039227076772555"
      ]
     },
     "execution_count": 359,
     "metadata": {},
     "output_type": "execute_result"
    }
   ],
   "source": [
    "1702047/32707"
   ]
  },
  {
   "cell_type": "code",
   "execution_count": 356,
   "metadata": {
    "collapsed": false
   },
   "outputs": [
    {
     "data": {
      "text/plain": [
       "[(100, 15), (150, 1374060), (300, 3), (400, 327686), (401, 283)]"
      ]
     },
     "execution_count": 356,
     "metadata": {},
     "output_type": "execute_result"
    }
   ],
   "source": [
    "query('illustrations_bookshelf.db', \"select resolution, count(*) from illustrations group by resolution\")"
   ]
  }
 ],
 "metadata": {
  "anaconda-cloud": {},
  "kernelspec": {
   "display_name": "Python [conda root]",
   "language": "python",
   "name": "conda-root-py"
  },
  "language_info": {
   "codemirror_mode": {
    "name": "ipython",
    "version": 3
   },
   "file_extension": ".py",
   "mimetype": "text/x-python",
   "name": "python",
   "nbconvert_exporter": "python",
   "pygments_lexer": "ipython3",
   "version": "3.5.2"
  }
 },
 "nbformat": 4,
 "nbformat_minor": 1
}
