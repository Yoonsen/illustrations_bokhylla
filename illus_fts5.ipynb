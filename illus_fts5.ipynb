{
 "cells": [
  {
   "cell_type": "markdown",
   "id": "9dfd4cd0-ca68-49df-8a43-5d33de533fac",
   "metadata": {},
   "source": [
    "# Illustrations\n",
    "\n",
    "Access illustrations using the text surrounding them."
   ]
  },
  {
   "cell_type": "code",
   "execution_count": 340,
   "id": "2a581ee5-8041-40a4-bdb3-855732cbf83e",
   "metadata": {},
   "outputs": [],
   "source": [
    "import dhlab.module_update as mu\n",
    "#mu.update(\"nbpictures\", silent = True)\n",
    "from nbpictures import iiif_manifest, display_finds, get_urls_from_illustration_data, get_illustration_data_from_book, large_scale, small_scale\n",
    "from IPython.display import HTML, Markdown, display\n",
    "import streamlit as st\n",
    "from PIL import Image\n",
    "\n",
    "import sqlite3\n",
    "import pandas as pd\n",
    "import os\n",
    "import re\n",
    "\n",
    "small_scale = 0.59\n",
    "large_scale = 1.58\n"
   ]
  },
  {
   "cell_type": "code",
   "execution_count": 248,
   "id": "c5853cf0-15a3-4153-a725-18e8ca2bc3dc",
   "metadata": {},
   "outputs": [],
   "source": [
    "def get_urls_from_illustration_data(illus, part = True, scale = None, cuts = True, delta = 0):\n",
    "    \"\"\"From infomration about a picture on a page in a book (or newspaper) generate a link to a picture.\n",
    "    part sets size of output of page, it takes the value True or a number. If part is True it returns the cut out of image.\n",
    "    illus is a dictionary of with entries and values like this: \n",
    "    {'height': 270, 'hpos': 251, 'page': 'digibok_2017081626006_0018', 'resolution': 400, 'vpos': 791, 'width': 373} \n",
    "    the variable cuts, if true allows cropping of image - restricted images must not go over 1024 x 1024 pixels\"\"\"\n",
    "    \n",
    "    if scale == None:\n",
    "        if illus['resolution'] >= 300 or illus['resolution'] < 100:\n",
    "            scale = large_scale\n",
    "        else:\n",
    "            scale = small_scale\n",
    "            \n",
    "    height = int(illus['height']) + 2*delta\n",
    "    width = int(illus['width']) + 2*delta\n",
    "    vpos = int(illus['vpos']) - delta\n",
    "    hpos = int(illus['hpos']) - delta\n",
    "    \n",
    "    if cuts != False:\n",
    "        if width * scale > 1024:\n",
    "            width = int(1024/scale)\n",
    "        if height * scale > 1024:\n",
    "            height = int(1024/scale)\n",
    "            \n",
    "    urn = f\"URN:NBN:no-nb_{illus['page']}\"\n",
    "    if part == True:\n",
    "        # return cut out\n",
    "        url = f\"https://www.nb.no/services/image/resolver/{urn}/{int(hpos*scale)},{int(vpos*scale)},{int(width*scale)},{int(height*scale)}/full/0/native.jpg\"\n",
    "    else:\n",
    "        # return whole page\n",
    "        url = f\"https://www.nb.no/services/image/resolver/{urn}/full/0,{part}/0/native.jpg\"    \n",
    "    return url"
   ]
  },
  {
   "cell_type": "code",
   "execution_count": 10,
   "id": "85129d57-3d46-43da-9713-002b0f3b063b",
   "metadata": {},
   "outputs": [],
   "source": [
    "def query(db, sql, params=()):\n",
    "    with sqlite3.connect(db) as con:\n",
    "        res = con.execute(sql, params).fetchall()\n",
    "    return res\n",
    "\n",
    "def pdquery(db, sql, params=()):\n",
    "    with sqlite3.connect(db) as con:\n",
    "        res = pd.read_sql_query(sql, con, params=params)\n",
    "    return res\n"
   ]
  },
  {
   "cell_type": "code",
   "execution_count": 401,
   "id": "a113ca40-2b9d-4c7a-b3a9-310514cc69c3",
   "metadata": {},
   "outputs": [],
   "source": [
    "illustrations_db = \"/mnt/disk1/illustrations_bookshelf.db\"\n",
    "illustration_text = \"/mnt/disk1/illus_db\"\n",
    "bigdatabase = \"/mnt/disk1/illustrations_all.db\""
   ]
  },
  {
   "cell_type": "code",
   "execution_count": 8,
   "id": "704c5a58-1a67-4837-85b2-a17fccbc27e4",
   "metadata": {},
   "outputs": [
    {
     "data": {
      "text/plain": [
       "['/mnt/disk1/illus_db/illustrations_10000000_11000000_text.db',\n",
       " '/mnt/disk1/illus_db/illustrations_13000000_14000000_text.db',\n",
       " '/mnt/disk1/illus_db/illustrations_7000000_8000000_text.db',\n",
       " '/mnt/disk1/illus_db/illustrations_24000000_25000000_text.db',\n",
       " '/mnt/disk1/illus_db/illustrations_22000000_23000000_text.db']"
      ]
     },
     "execution_count": 8,
     "metadata": {},
     "output_type": "execute_result"
    }
   ],
   "source": [
    "r, d, f = next(os.walk(illustration_text))\n",
    "illus = [os.path.join(r, x) for x in f]\n",
    "illus[:5]"
   ]
  },
  {
   "cell_type": "code",
   "execution_count": 292,
   "id": "ae660c57-102b-4d92-92c1-45deaafbf47c",
   "metadata": {},
   "outputs": [],
   "source": [
    "pics = pd.concat([ pdquery(ill, \"select page, rank from pictures_small where text match 'NEAR(nannestad vinter*, 3)' order by rank limit 20\") for ill in illus])                                                                                                      "
   ]
  },
  {
   "cell_type": "code",
   "execution_count": 293,
   "id": "2e2e92da-e123-4833-8b03-297533e4d432",
   "metadata": {},
   "outputs": [],
   "source": [
    "pictures = pics.sort_values(by=\"rank\").drop_duplicates().head(20)"
   ]
  },
  {
   "cell_type": "code",
   "execution_count": 301,
   "id": "5e6e5877-0c64-4ba4-acd1-a3d9ec5d1953",
   "metadata": {},
   "outputs": [
    {
     "name": "stdout",
     "output_type": "stream",
     "text": [
      "digibok_2012071308021_0012\n",
      "digibok_2007081404024_0159\n",
      "digibok_2014120108043_0105\n",
      "digibok_2012071308021_0084\n",
      "digibok_2014010808089_0020\n"
     ]
    }
   ],
   "source": [
    "for x in pictures.head(5).iterrows():\n",
    "    print(x[1]['page'])"
   ]
  },
  {
   "cell_type": "code",
   "execution_count": 288,
   "id": "0722cd74-2962-497f-b1c7-2184205aa6c5",
   "metadata": {},
   "outputs": [],
   "source": [
    "res = pdquery(illustrations_db, \"select * from illustrations where page = ?\", params = (t.iloc[0].page,))"
   ]
  },
  {
   "cell_type": "code",
   "execution_count": 302,
   "id": "d940ce4b-3f43-4e43-b1eb-49ce5972970c",
   "metadata": {},
   "outputs": [],
   "source": [
    "for x in pictures.head(5).iterrows():\n",
    "    res = pdquery(illustrations_db, \"select * from illustrations where page = ?\", params = (x[1].page,))\n",
    "    illustrations += [dict(i[1]) for i in res.iterrows()]"
   ]
  },
  {
   "cell_type": "code",
   "execution_count": 287,
   "id": "f4d34adc-875c-4020-be7f-eb251cdfa49b",
   "metadata": {},
   "outputs": [
    {
     "data": {
      "text/html": [
       "<div>\n",
       "<style scoped>\n",
       "    .dataframe tbody tr th:only-of-type {\n",
       "        vertical-align: middle;\n",
       "    }\n",
       "\n",
       "    .dataframe tbody tr th {\n",
       "        vertical-align: top;\n",
       "    }\n",
       "\n",
       "    .dataframe thead th {\n",
       "        text-align: right;\n",
       "    }\n",
       "</style>\n",
       "<table border=\"1\" class=\"dataframe\">\n",
       "  <thead>\n",
       "    <tr style=\"text-align: right;\">\n",
       "      <th></th>\n",
       "      <th>page</th>\n",
       "      <th>pagenum</th>\n",
       "      <th>resolution</th>\n",
       "      <th>hpos</th>\n",
       "      <th>vpos</th>\n",
       "      <th>width</th>\n",
       "      <th>height</th>\n",
       "      <th>type</th>\n",
       "    </tr>\n",
       "  </thead>\n",
       "  <tbody>\n",
       "    <tr>\n",
       "      <th>0</th>\n",
       "      <td>digibok_2007081404024_0158</td>\n",
       "      <td>158</td>\n",
       "      <td>150</td>\n",
       "      <td>0</td>\n",
       "      <td>1759</td>\n",
       "      <td>3588</td>\n",
       "      <td>5102</td>\n",
       "      <td>Illustration</td>\n",
       "    </tr>\n",
       "  </tbody>\n",
       "</table>\n",
       "</div>"
      ],
      "text/plain": [
       "                         page  pagenum  resolution  hpos  vpos  width  height  \\\n",
       "0  digibok_2007081404024_0158      158         150     0  1759   3588    5102   \n",
       "\n",
       "           type  \n",
       "0  Illustration  "
      ]
     },
     "execution_count": 287,
     "metadata": {},
     "output_type": "execute_result"
    }
   ],
   "source": [
    "t = pdquery(illustrations_db, \"select * from illustrations where page = ?\", params = (\"digibok_2007081404024_0158\",))\n",
    "t"
   ]
  },
  {
   "cell_type": "code",
   "execution_count": 303,
   "id": "69cbf502-df24-410c-87a6-c62b76808bd3",
   "metadata": {},
   "outputs": [
    {
     "data": {
      "text/plain": [
       "['https://www.nb.no/services/image/resolver/URN:NBN:no-nb_digibok_2007081404024_0158/full/0,500/0/native.jpg',\n",
       " 'https://www.nb.no/services/image/resolver/URN:NBN:no-nb_digibok_2012071308021_0012/full/0,500/0/native.jpg',\n",
       " 'https://www.nb.no/services/image/resolver/URN:NBN:no-nb_digibok_2007081404024_0159/full/0,500/0/native.jpg',\n",
       " 'https://www.nb.no/services/image/resolver/URN:NBN:no-nb_digibok_2014120108043_0105/full/0,500/0/native.jpg',\n",
       " 'https://www.nb.no/services/image/resolver/URN:NBN:no-nb_digibok_2012071308021_0084/full/0,500/0/native.jpg',\n",
       " 'https://www.nb.no/services/image/resolver/URN:NBN:no-nb_digibok_2014010808089_0020/full/0,500/0/native.jpg']"
      ]
     },
     "execution_count": 303,
     "metadata": {},
     "output_type": "execute_result"
    }
   ],
   "source": [
    "[get_urls_from_illustration_data(i, delta=50, cuts=True, part=500) for i in illustrations]"
   ]
  },
  {
   "cell_type": "code",
   "execution_count": 448,
   "id": "3b74fd11-00e5-4852-b1e6-b855ec22a821",
   "metadata": {},
   "outputs": [],
   "source": [
    "def display_finds(r, width = 500):\n",
    "    \"\"\"A list of urls in r is displayed as HTML\"\"\"\n",
    "    base = \"https://www.nb.no/items/\"\n",
    "    rows = []\n",
    "    for row in r:\n",
    "        urnstring = re.findall(\"URN[^/]*\", row)[0]\n",
    "        prefix, doctyp, urn, page = urnstring.split('_')\n",
    "        #print(f'{prefix}_{doctyp}_{urn}?page={page}')\n",
    "        rows += [f\"<tr><td><a href='{base}{prefix}_{doctyp}_{urn}?page={int(page) + 1}' target='_'><img src='{row}'  width={width}'></a></td></tr>\" ]\n",
    "    return HTML(\"\"\"<html><head></head>\n",
    "     <body>\n",
    "     <table>\n",
    "     {rows}\n",
    "     </table>\n",
    "     </body>\n",
    "     </html>\n",
    "     \"\"\".format(rows=' '.join(rows)))\n",
    "\n",
    "def get_pictures0(text=\"sommeridyll\", part = 300, cuts = False, hits = 10):\n",
    "    pics = pd.concat([ pdquery(ill, f\"select page, rank from pictures_small where text match '{text}' order by rank limit 200\") for ill in illus])                                                                                                      \n",
    "    pictures = pics.sort_values(by=\"rank\").drop_duplicates().head(20)\n",
    "    illustrations =[]\n",
    "    for x in pictures.head(hits).iterrows():\n",
    "        res = pdquery(illustrations_db, \"select * from illustrations where page = ?\", params = (x[1].page,))\n",
    "        illustrations += [dict(i[1]) for i in res.iterrows()]\n",
    "    images = [get_urls_from_illustration_data(i, delta=50, cuts=cuts, part=part) for i in illustrations]\n",
    "    return images\n",
    "\n",
    "def get_pictures(text=\"sommeridyll\", part = 300, cuts = False, hits = 10):\n",
    "    pics = pdquery(bigdatabase, f\"select  page, rank from pictures_small where text match '{text}' order by rank limit 200\")   \n",
    "    picture_pages = pics.sort_values(by=\"rank\")\n",
    "    illustrations =[]\n",
    "    for x in picture_pages.head(hits).iterrows():\n",
    "        if isinstance(part, int):\n",
    "            res = pdquery(illustrations_db, \"select * from illustrations where page = ? group by page\", params = (x[1].page,))\n",
    "            #print(res)\n",
    "        else:\n",
    "            res = pdquery(illustrations_db, \"select * from illustrations where page = ?\", params = (x[1].page,))  \n",
    "            #print(res)\n",
    "        illustrations += [dict(i[1]) for i in res.iterrows()]\n",
    "        \n",
    "    images = [get_urls_from_illustration_data(i, delta=50, cuts=cuts, part=part) for i in illustrations]\n",
    "    return images"
   ]
  },
  {
   "cell_type": "code",
   "execution_count": 451,
   "id": "cd8ec052-7196-46dd-b114-b310e5472ee7",
   "metadata": {},
   "outputs": [
    {
     "data": {
      "text/html": [
       "<html><head></head>\n",
       "     <body>\n",
       "     <table>\n",
       "     <tr><td><a href='https://www.nb.no/items/URN:NBN:no-nb_digibok_2016020807716?page=404' target='_'><img src='https://www.nb.no/services/image/resolver/URN:NBN:no-nb_digibok_2016020807716_0403/-79,-58,1023,1023/full/0/native.jpg'  width=500'></a></td></tr> <tr><td><a href='https://www.nb.no/items/URN:NBN:no-nb_digibok_2018060148105?page=167' target='_'><img src='https://www.nb.no/services/image/resolver/URN:NBN:no-nb_digibok_2018060148105_0166/739,911,1023,1023/full/0/native.jpg'  width=500'></a></td></tr> <tr><td><a href='https://www.nb.no/items/URN:NBN:no-nb_digibok_2018060148105?page=166' target='_'><img src='https://www.nb.no/services/image/resolver/URN:NBN:no-nb_digibok_2018060148105_0165/88,480,1023,1023/full/0/native.jpg'  width=500'></a></td></tr> <tr><td><a href='https://www.nb.no/items/URN:NBN:no-nb_digibok_2018060148105?page=189' target='_'><img src='https://www.nb.no/services/image/resolver/URN:NBN:no-nb_digibok_2018060148105_0188/590,553,1023,1023/full/0/native.jpg'  width=500'></a></td></tr> <tr><td><a href='https://www.nb.no/items/URN:NBN:no-nb_digibok_2018060148105?page=188' target='_'><img src='https://www.nb.no/services/image/resolver/URN:NBN:no-nb_digibok_2018060148105_0187/175,1363,1022,1023/full/0/native.jpg'  width=500'></a></td></tr> <tr><td><a href='https://www.nb.no/items/URN:NBN:no-nb_digibok_2018020948069?page=35' target='_'><img src='https://www.nb.no/services/image/resolver/URN:NBN:no-nb_digibok_2018020948069_0034/41,60,1023,1023/full/0/native.jpg'  width=500'></a></td></tr>\n",
       "     </table>\n",
       "     </body>\n",
       "     </html>\n",
       "     "
      ],
      "text/plain": [
       "<IPython.core.display.HTML object>"
      ]
     },
     "execution_count": 451,
     "metadata": {},
     "output_type": "execute_result"
    }
   ],
   "source": [
    "display_finds(get_pictures(text= \"NEAR(harald østgaard lund siv berg, 10)\", cuts=True, part=True))"
   ]
  },
  {
   "cell_type": "code",
   "execution_count": null,
   "id": "b745e69f-a043-4a75-9548-a5e522168d01",
   "metadata": {},
   "outputs": [],
   "source": []
  }
 ],
 "metadata": {
  "kernelspec": {
   "display_name": "Python 3 (ipykernel)",
   "language": "python",
   "name": "python3"
  },
  "language_info": {
   "codemirror_mode": {
    "name": "ipython",
    "version": 3
   },
   "file_extension": ".py",
   "mimetype": "text/x-python",
   "name": "python",
   "nbconvert_exporter": "python",
   "pygments_lexer": "ipython3",
   "version": "3.9.13"
  }
 },
 "nbformat": 4,
 "nbformat_minor": 5
}
